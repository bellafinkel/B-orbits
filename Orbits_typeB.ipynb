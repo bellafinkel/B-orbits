{
 "cells": [
  {
   "cell_type": "code",
   "execution_count": 46,
   "metadata": {},
   "outputs": [],
   "source": [
    "import numpy as np"
   ]
  },
  {
   "cell_type": "code",
   "execution_count": 47,
   "metadata": {},
   "outputs": [],
   "source": [
    "G = 'B' # Type of classical algebraic group, Input: string 'A','B','C', or 'D'\n",
    "l = 3 # Rank, Input: positive integer\n",
    "n = 2*l+1 # Square matrix dimension for type B"
   ]
  },
  {
   "cell_type": "code",
   "execution_count": 48,
   "metadata": {
    "scrolled": true
   },
   "outputs": [
    {
     "name": "stdout",
     "output_type": "stream",
     "text": [
      "{(1, 1, 1): {'matrix': array([[ 0,  0,  0,  0, -1,  0,  0],\n",
      "       [ 1,  0,  0,  0,  0,  0,  0],\n",
      "       [ 0,  0,  0,  0,  0,  0,  0],\n",
      "       [ 0,  0,  0,  0,  0,  0,  0],\n",
      "       [ 0,  0,  0,  0,  0,  0,  0],\n",
      "       [ 0,  0,  0,  0,  0,  0,  0],\n",
      "       [ 0,  0,  0,  0,  0,  0,  0]]), 'coords': [1, 0]}, (0, 1, 1): {'matrix': array([[ 0,  0,  0,  0,  0, -1,  0],\n",
      "       [ 0,  0,  0,  0,  0,  0,  0],\n",
      "       [ 1,  0,  0,  0,  0,  0,  0],\n",
      "       [ 0,  0,  0,  0,  0,  0,  0],\n",
      "       [ 0,  0,  0,  0,  0,  0,  0],\n",
      "       [ 0,  0,  0,  0,  0,  0,  0],\n",
      "       [ 0,  0,  0,  0,  0,  0,  0]]), 'coords': [2, 0]}, (0, 0, 1): {'matrix': array([[ 0,  0,  0,  0,  0,  0, -1],\n",
      "       [ 0,  0,  0,  0,  0,  0,  0],\n",
      "       [ 0,  0,  0,  0,  0,  0,  0],\n",
      "       [ 1,  0,  0,  0,  0,  0,  0],\n",
      "       [ 0,  0,  0,  0,  0,  0,  0],\n",
      "       [ 0,  0,  0,  0,  0,  0,  0],\n",
      "       [ 0,  0,  0,  0,  0,  0,  0]]), 'coords': [3, 0]}, (1, 2, 2): {'matrix': array([[ 0,  0,  0,  0,  0,  0,  0],\n",
      "       [ 0,  0,  0,  0,  0,  1,  0],\n",
      "       [ 0,  0,  0,  0, -1,  0,  0],\n",
      "       [ 0,  0,  0,  0,  0,  0,  0],\n",
      "       [ 0,  0,  0,  0,  0,  0,  0],\n",
      "       [ 0,  0,  0,  0,  0,  0,  0],\n",
      "       [ 0,  0,  0,  0,  0,  0,  0]]), 'coords': [1, 5]}, (1, 0, 0): {'matrix': array([[ 0,  0,  0,  0,  0,  0,  0],\n",
      "       [ 0,  0,  1,  0,  0,  0,  0],\n",
      "       [ 0,  0,  0,  0,  0,  0,  0],\n",
      "       [ 0,  0,  0,  0,  0,  0,  0],\n",
      "       [ 0,  0,  0,  0,  0,  0,  0],\n",
      "       [ 0,  0,  0,  0, -1,  0,  0],\n",
      "       [ 0,  0,  0,  0,  0,  0,  0]]), 'coords': [1, 2]}, (1, 1, 2): {'matrix': array([[ 0,  0,  0,  0,  0,  0,  0],\n",
      "       [ 0,  0,  0,  0,  0,  0,  1],\n",
      "       [ 0,  0,  0,  0,  0,  0,  0],\n",
      "       [ 0,  0,  0,  0, -1,  0,  0],\n",
      "       [ 0,  0,  0,  0,  0,  0,  0],\n",
      "       [ 0,  0,  0,  0,  0,  0,  0],\n",
      "       [ 0,  0,  0,  0,  0,  0,  0]]), 'coords': [1, 6]}, (1, 1, 0): {'matrix': array([[ 0,  0,  0,  0,  0,  0,  0],\n",
      "       [ 0,  0,  0,  1,  0,  0,  0],\n",
      "       [ 0,  0,  0,  0,  0,  0,  0],\n",
      "       [ 0,  0,  0,  0,  0,  0,  0],\n",
      "       [ 0,  0,  0,  0,  0,  0,  0],\n",
      "       [ 0,  0,  0,  0,  0,  0,  0],\n",
      "       [ 0,  0,  0,  0, -1,  0,  0]]), 'coords': [1, 3]}, (0, 1, 2): {'matrix': array([[ 0,  0,  0,  0,  0,  0,  0],\n",
      "       [ 0,  0,  0,  0,  0,  0,  0],\n",
      "       [ 0,  0,  0,  0,  0,  0,  1],\n",
      "       [ 0,  0,  0,  0,  0, -1,  0],\n",
      "       [ 0,  0,  0,  0,  0,  0,  0],\n",
      "       [ 0,  0,  0,  0,  0,  0,  0],\n",
      "       [ 0,  0,  0,  0,  0,  0,  0]]), 'coords': [2, 6]}, (0, 1, 0): {'matrix': array([[ 0,  0,  0,  0,  0,  0,  0],\n",
      "       [ 0,  0,  0,  0,  0,  0,  0],\n",
      "       [ 0,  0,  0,  1,  0,  0,  0],\n",
      "       [ 0,  0,  0,  0,  0,  0,  0],\n",
      "       [ 0,  0,  0,  0,  0,  0,  0],\n",
      "       [ 0,  0,  0,  0,  0,  0,  0],\n",
      "       [ 0,  0,  0,  0,  0, -1,  0]]), 'coords': [2, 3]}}\n"
     ]
    }
   ],
   "source": [
    "\"\"\"\n",
    "Make matrices for the root vectors for the positive roots in type B (i.e., the root vectors in the nilradical).\n",
    "Store the root vector matrices in a dictionary called rvecs where the keys are the eigenvector names given on page 131\n",
    "of Erdmann and the values are the eigenvectors as numpy arrays\n",
    "\n",
    "\"mat_type\" is the eigenvector matrix form given on page 131 of Erdmann\n",
    "\"indices\" is a list of the i,j indices\n",
    "\"matrix\" is the eigenvector corresponding to the root of specified type and indices\n",
    "\"coords\" are the coordinates of the positive nonzero matrix entry, to be used for the coordinate function\n",
    "\n",
    "Parameters: rank l\n",
    "\n",
    "Returns: dictionary\n",
    "\n",
    "\"\"\"\n",
    "def make_rvecs_B(l):\n",
    "    rvecs = {}\n",
    "\n",
    "    M = np.zeros((2*l+1,2*l+1),dtype = int)\n",
    "    # Add root vectors b_i for roots of the form epsilon_i to rvecs\n",
    "    for i in np.arange(1,l+1,1):\n",
    "        # b_ij\n",
    "        M[i,0] = 1\n",
    "        M[0,l+i] = -1\n",
    "        hilo = \"b\" + str(i)\n",
    "        coef = np.zeros(l, dtype = int) # Array of length the number of roots in the base\n",
    "        coef[i-1:l] = 1\n",
    "        coef = tuple(coef)\n",
    "        rvecs.setdefault(coef, {\"matrix\":M, \"coords\":[i,0]}) # index 1 \\leq i \\leq l\n",
    "        M = np.zeros((2*l+1,2*l+1),dtype = int)\n",
    "    for i in np.arange(1,l,1):\n",
    "        for j in np.arange(1,l+1,1):\n",
    "            # p_ij\n",
    "            if i<j:\n",
    "                M[i,l+j] = 1\n",
    "                M[j,l+i] = -1\n",
    "                hilo = \"p\" + str(i) + str(j)\n",
    "                coef = np.zeros(l, dtype = int) # Array of length the number of roots in the base\n",
    "                coef[i-1:j] = 1\n",
    "                coef[j-1:l] = 2\n",
    "                coef = tuple(coef)\n",
    "                rvecs.setdefault(coef, {\"matrix\":M, \"coords\":[i,l+j]}) # indices 1 \\leq i < j \\leq l\n",
    "                M = np.zeros((2*l+1,2*l+1),dtype = int)\n",
    "            # m_ij\n",
    "            if i != j and i<j:\n",
    "                M[i,j] = 1\n",
    "                M[l+j,l+i] = -1\n",
    "                hilo = \"m\" + str(i) + str(j)\n",
    "                coef = np.zeros(l, dtype = int) # Array of length the number of roots in the base\n",
    "                coef[i-1:j-1] = 1 \n",
    "                coef = tuple(coef)\n",
    "                rvecs.setdefault(coef, {\"matrix\":M, \"coords\":[i,j]})\n",
    "                M = np.zeros((2*l+1,2*l+1), dtype = int)\n",
    "    return rvecs\n",
    "\n",
    "rvecs = make_rvecs_B(l)\n",
    "print(rvecs)"
   ]
  },
  {
   "cell_type": "code",
   "execution_count": 49,
   "metadata": {},
   "outputs": [],
   "source": [
    "\"\"\"\n",
    "Fix a sequence of the positive roots with a (partial) ordering induced by increasing root height.\n",
    "\n",
    "Use the Sage function positive_roots_by_height(increasing=True)\n",
    "\n",
    "Parameters: Group type G, string\n",
    "            Rank, integer\n",
    "\n",
    "Returns: List of roots as tuples\n",
    "\"\"\"\n",
    "def make_root_order(G,l):\n",
    "    L = RootSystem([G,l]).root_lattice()\n",
    "    roots = [tuple(root.to_vector()) for root in L.positive_roots_by_height()]\n",
    "    return roots\n",
    "\n",
    "roots = make_root_order(G,l)\n",
    "num_roots = len(roots) # Store the number of positive roots for future loops"
   ]
  },
  {
   "cell_type": "code",
   "execution_count": 50,
   "metadata": {},
   "outputs": [
    {
     "name": "stderr",
     "output_type": "stream",
     "text": [
      "<>:13: DeprecationWarning: invalid escape sequence \\m\n",
      "<>:13: DeprecationWarning: invalid escape sequence \\m\n",
      "<>:13: DeprecationWarning: invalid escape sequence \\m\n",
      "<ipython-input-50-969feb4a3bad>:13: DeprecationWarning: invalid escape sequence \\m\n",
      "  \"\"\"\n"
     ]
    }
   ],
   "source": [
    "\"\"\"\n",
    "VERSION WHERE THE ENTRIES ARE THE DIFFERENT THAN THOSE IN THE NILRADICAL (r INSTEAD OF n)\n",
    "Compute the root spaces $\\mathfrak{g}_\\beta=\\mathbb{C}e_\\beta$\n",
    "\n",
    "Notes:\n",
    "This could be combined with the function that makes the nilradical\n",
    "The \"DeprecationWarning: invalid escape sequence \\m\" that returns when this cell is run in Jupyter is because of the \n",
    "backslash character used in the TeX for this comment\n",
    "\n",
    "Parameters: rvecs\n",
    "\n",
    "Returns: rspaces: dictionary with keys the roots as tuples and values the root spaces\n",
    "\"\"\"\n",
    "def make_root_spaces(rvecs):\n",
    "    rspaces = {} # Create a dictionary rspaces with keys the roots as stored in rvecs and values the root spaces k*e_alpha\n",
    "    num = len(rvecs) # Set the number of iterations to equal the number of positive roots; we'll need this for most things in this function\n",
    "    syms = np.array([var(\"r\"+str(list(rvecs.keys())[i]).replace(\"(\", \"\").replace(\")\", \"\").replace(\" \", \"\").replace(\",\", \"\")) for i in range(num)], dtype = object) # Name some not-necessarily-distinct field elements\n",
    "    # Note that rvecs[list(rvecs.keys())[1]]['matrix'] extracts the eigenvector matrix from rvecs\n",
    "    mats = [np.dot(syms[i],rvecs[list(rvecs.keys())[i]]['matrix']) for i in range(num)] # Multiply the root vectors by an arbitrary field element to get the root spaces\n",
    "    for i in range(num):\n",
    "        rspaces.setdefault(list(rvecs.keys())[i],mats[i])\n",
    "    return rspaces\n",
    "\n",
    "rspaces = make_root_spaces(rvecs)"
   ]
  },
  {
   "cell_type": "code",
   "execution_count": 51,
   "metadata": {},
   "outputs": [
    {
     "name": "stderr",
     "output_type": "stream",
     "text": [
      "<>:13: DeprecationWarning: invalid escape sequence \\m\n",
      "<>:13: DeprecationWarning: invalid escape sequence \\m\n",
      "<>:13: DeprecationWarning: invalid escape sequence \\m\n",
      "<ipython-input-51-6312676660ef>:13: DeprecationWarning: invalid escape sequence \\m\n",
      "  \"\"\"\n"
     ]
    }
   ],
   "source": [
    "\"\"\"\n",
    "VERSION WHERE THE ENTRIES ARE THE SAME AS IN THE NILRADICAL\n",
    "Compute the root spaces $\\mathfrak{g}_\\beta=\\mathbb{C}e_\\beta$\n",
    "\n",
    "Notes:\n",
    "This could be combined with the function that makes the nilradical\n",
    "The \"DeprecationWarning: invalid escape sequence \\m\" that returns when this cell is run in Jupyter is because of the \n",
    "backslash character used in the TeX for this comment\n",
    "\n",
    "Parameters: rvecs\n",
    "\n",
    "Returns: rspaces: dictionary with keys the roots as tuples and values the root spaces\n",
    "\"\"\"\n",
    "def make_root_spaces(rvecs):\n",
    "    rspaces = {} # Create a dictionary rspaces with keys the roots as stored in rvecs and values the root spaces k*e_alpha\n",
    "    num = len(rvecs) # Set the number of iterations to equal the number of positive roots; we'll need this for most things in this function\n",
    "    syms = np.array([var(\"n\"+str(list(rvecs.keys())[i]).replace(\"(\", \"\").replace(\")\", \"\").replace(\" \", \"\").replace(\",\", \"\")) for i in range(num)], dtype = object) # Name some not-necessarily-distinct field elements\n",
    "    # Note that rvecs[list(rvecs.keys())[1]]['matrix'] extracts the eigenvector matrix from rvecs\n",
    "    mats = [np.dot(syms[i],rvecs[list(rvecs.keys())[i]]['matrix']) for i in range(num)] # Multiply the root vectors by an arbitrary field element to get the root spaces\n",
    "    for i in range(num):\n",
    "        rspaces.setdefault(list(rvecs.keys())[i],mats[i])\n",
    "    return rspaces\n",
    "\n",
    "rspaces = make_root_spaces(rvecs)"
   ]
  },
  {
   "cell_type": "code",
   "execution_count": 52,
   "metadata": {},
   "outputs": [
    {
     "data": {
      "text/plain": [
       "array([[0, 0, 0, 0, -n111, -n011, -n001],\n",
       "       [n111, 0, n100, n110, 0, n122, n112],\n",
       "       [n011, 0, 0, n010, -n122, 0, n012],\n",
       "       [n001, 0, 0, 0, -n112, -n012, 0],\n",
       "       [0, 0, 0, 0, 0, 0, 0],\n",
       "       [0, 0, 0, 0, -n100, 0, 0],\n",
       "       [0, 0, 0, 0, -n110, -n010, 0]], dtype=object)"
      ]
     },
     "execution_count": 52,
     "metadata": {},
     "output_type": "execute_result"
    }
   ],
   "source": [
    "\"\"\"\n",
    "Compute a matrix representing an arbitrary element of the nilradical\n",
    "\n",
    "Input: rvecs\n",
    "Returns: numpy.ndarray ; Arbitrary element of the nilradical\n",
    "\"\"\"\n",
    "def make_nilrad(rvecs):\n",
    "    rspaces = {} # Create a dictionary rspaces with keys the roots as stored in rvecs and values the root spaces k*e_alpha\n",
    "    \n",
    "    num = len(rvecs) # Set the number of iterations to equal the number of positive roots; we'll need this for most things in this function\n",
    "    syms = np.array([var(\"n\"+str(list(rvecs.keys())[i]).replace(\"(\", \"\").replace(\")\", \"\").replace(\" \", \"\").replace(\",\", \"\")) for i in range(num)], dtype = object) # Name some not-necessarily-distinct field elements\n",
    "    # Note that rvecs[list(rvecs.keys())[1]]['matrix'] extracts the eigenvector matrix from rvecs\n",
    "    mats = [np.dot(syms[i],rvecs[list(rvecs.keys())[i]]['matrix']) for i in range(num)] # Multiply the root vectors by an arbitrary field element to get the root spaces\n",
    "    nil_rad = sum(mats) # Set an arbitrary element of the nilradical equal to the sum of the root spaces\n",
    "    \n",
    "    for i in range(num):\n",
    "        rspaces.setdefault(list(rvecs.keys())[i],mats[i])\n",
    "    \n",
    "    return nil_rad #,rspaces, mats\n",
    "\n",
    "nil_rad = make_nilrad(rvecs)\n",
    "nil_rad"
   ]
  },
  {
   "cell_type": "code",
   "execution_count": 53,
   "metadata": {},
   "outputs": [
    {
     "data": {
      "text/plain": [
       "array([[0, 0, 0, 0, 0, 0, 0],\n",
       "       [0, 0, 0, 0, 0, 0, 0],\n",
       "       [0, 0, 0, 0, 0, 0, 0],\n",
       "       [0, 0, 0, 0, 0, 0, 0],\n",
       "       [0, 0, 0, 0, 0, 0, 0],\n",
       "       [0, 0, 0, 0, 0, 0, 0],\n",
       "       [0, 0, 0, 0, 0, 0, 0]])"
      ]
     },
     "execution_count": 53,
     "metadata": {},
     "output_type": "execute_result"
    }
   ],
   "source": [
    "np.zeros((n,n), dtype = int)"
   ]
  },
  {
   "cell_type": "code",
   "execution_count": 54,
   "metadata": {
    "scrolled": true
   },
   "outputs": [
    {
     "name": "stderr",
     "output_type": "stream",
     "text": [
      "<>:3: DeprecationWarning: invalid escape sequence \\m\n",
      "<>:3: DeprecationWarning: invalid escape sequence \\m\n",
      "<>:3: DeprecationWarning: invalid escape sequence \\m\n",
      "<ipython-input-54-1fb64ab2ccc4>:3: DeprecationWarning: invalid escape sequence \\m\n",
      "  \"\"\"\n"
     ]
    },
    {
     "data": {
      "text/plain": [
       "{'m0': array([[0, 0, 0, 0, 0, 0, 0],\n",
       "        [0, 0, 0, 0, 0, 0, 0],\n",
       "        [0, 0, 0, 0, 0, 0, 0],\n",
       "        [0, 0, 0, 0, 0, 0, 0],\n",
       "        [0, 0, 0, 0, 0, 0, 0],\n",
       "        [0, 0, 0, 0, 0, 0, 0],\n",
       "        [0, 0, 0, 0, 0, 0, 0]]),\n",
       " 'm1': array([[0, 0, 0, 0, -n111, -n011, -n001],\n",
       "        [n111, 0, n100, n110, 0, n122, n112],\n",
       "        [n011, 0, 0, n010, -n122, 0, n012],\n",
       "        [n001, 0, 0, 0, -n112, -n012, 0],\n",
       "        [0, 0, 0, 0, 0, 0, 0],\n",
       "        [0, 0, 0, 0, -n100, 0, 0],\n",
       "        [0, 0, 0, 0, -n110, -n010, 0]], dtype=object),\n",
       " 'm2': array([[0, 0, 0, 0, -n111, -n011, 0],\n",
       "        [n111, 0, n100, n110, 0, n122, n112],\n",
       "        [n011, 0, 0, n010, -n122, 0, n012],\n",
       "        [0, 0, 0, 0, -n112, -n012, 0],\n",
       "        [0, 0, 0, 0, 0, 0, 0],\n",
       "        [0, 0, 0, 0, -n100, 0, 0],\n",
       "        [0, 0, 0, 0, -n110, -n010, 0]], dtype=object),\n",
       " 'm3': array([[0, 0, 0, 0, -n111, -n011, 0],\n",
       "        [n111, 0, n100, n110, 0, n122, n112],\n",
       "        [n011, 0, 0, 0, -n122, 0, n012],\n",
       "        [0, 0, 0, 0, -n112, -n012, 0],\n",
       "        [0, 0, 0, 0, 0, 0, 0],\n",
       "        [0, 0, 0, 0, -n100, 0, 0],\n",
       "        [0, 0, 0, 0, -n110, 0, 0]], dtype=object),\n",
       " 'm4': array([[0, 0, 0, 0, -n111, -n011, 0],\n",
       "        [n111, 0, 0, n110, 0, n122, n112],\n",
       "        [n011, 0, 0, 0, -n122, 0, n012],\n",
       "        [0, 0, 0, 0, -n112, -n012, 0],\n",
       "        [0, 0, 0, 0, 0, 0, 0],\n",
       "        [0, 0, 0, 0, 0, 0, 0],\n",
       "        [0, 0, 0, 0, -n110, 0, 0]], dtype=object),\n",
       " 'm5': array([[0, 0, 0, 0, -n111, 0, 0],\n",
       "        [n111, 0, 0, n110, 0, n122, n112],\n",
       "        [0, 0, 0, 0, -n122, 0, n012],\n",
       "        [0, 0, 0, 0, -n112, -n012, 0],\n",
       "        [0, 0, 0, 0, 0, 0, 0],\n",
       "        [0, 0, 0, 0, 0, 0, 0],\n",
       "        [0, 0, 0, 0, -n110, 0, 0]], dtype=object),\n",
       " 'm6': array([[0, 0, 0, 0, -n111, 0, 0],\n",
       "        [n111, 0, 0, 0, 0, n122, n112],\n",
       "        [0, 0, 0, 0, -n122, 0, n012],\n",
       "        [0, 0, 0, 0, -n112, -n012, 0],\n",
       "        [0, 0, 0, 0, 0, 0, 0],\n",
       "        [0, 0, 0, 0, 0, 0, 0],\n",
       "        [0, 0, 0, 0, 0, 0, 0]], dtype=object),\n",
       " 'm7': array([[0, 0, 0, 0, -n111, 0, 0],\n",
       "        [n111, 0, 0, 0, 0, n122, n112],\n",
       "        [0, 0, 0, 0, -n122, 0, 0],\n",
       "        [0, 0, 0, 0, -n112, 0, 0],\n",
       "        [0, 0, 0, 0, 0, 0, 0],\n",
       "        [0, 0, 0, 0, 0, 0, 0],\n",
       "        [0, 0, 0, 0, 0, 0, 0]], dtype=object),\n",
       " 'm8': array([[0, 0, 0, 0, 0, 0, 0],\n",
       "        [0, 0, 0, 0, 0, n122, n112],\n",
       "        [0, 0, 0, 0, -n122, 0, 0],\n",
       "        [0, 0, 0, 0, -n112, 0, 0],\n",
       "        [0, 0, 0, 0, 0, 0, 0],\n",
       "        [0, 0, 0, 0, 0, 0, 0],\n",
       "        [0, 0, 0, 0, 0, 0, 0]], dtype=object),\n",
       " 'm9': array([[0, 0, 0, 0, 0, 0, 0],\n",
       "        [0, 0, 0, 0, 0, n122, 0],\n",
       "        [0, 0, 0, 0, -n122, 0, 0],\n",
       "        [0, 0, 0, 0, 0, 0, 0],\n",
       "        [0, 0, 0, 0, 0, 0, 0],\n",
       "        [0, 0, 0, 0, 0, 0, 0],\n",
       "        [0, 0, 0, 0, 0, 0, 0]], dtype=object)}"
      ]
     },
     "execution_count": 54,
     "metadata": {},
     "output_type": "execute_result"
    }
   ],
   "source": [
    "\"\"\"\n",
    "Compute the NT-submodules $\\mathfrak{m}_i$\n",
    "\"\"\"\n",
    "def make_NT_submodules(n,roots,rspaces):\n",
    "    mi_dict = {'m0': np.zeros((n,n), dtype = int)}\n",
    "    for i in range(len(roots)):\n",
    "        hilo = \"m\" + str(i+1)\n",
    "        mi = rspaces[roots[i]]\n",
    "        for k in range(i+1, len(roots)):\n",
    "            mi += rspaces[roots[k]]\n",
    "            #print(k,roots[k])\n",
    "\n",
    "        mi_dict.setdefault(hilo,mi)\n",
    "    return mi_dict\n",
    "\n",
    "make_NT_submodules(7,roots,rspaces)"
   ]
  },
  {
   "cell_type": "code",
   "execution_count": 68,
   "metadata": {},
   "outputs": [
    {
     "name": "stderr",
     "output_type": "stream",
     "text": [
      "<>:3: DeprecationWarning: invalid escape sequence \\m\n",
      "<>:3: DeprecationWarning: invalid escape sequence \\m\n",
      "<>:3: DeprecationWarning: invalid escape sequence \\m\n",
      "<ipython-input-68-104dbd72c16d>:3: DeprecationWarning: invalid escape sequence \\m\n",
      "  \"\"\"\n"
     ]
    },
    {
     "data": {
      "text/plain": [
       "{'m0': [[3, 0],\n",
       "  [2, 3],\n",
       "  [1, 2],\n",
       "  [2, 0],\n",
       "  [1, 3],\n",
       "  [2, 6],\n",
       "  [1, 0],\n",
       "  [1, 6],\n",
       "  [1, 5]],\n",
       " 'm1': [[2, 3], [1, 2], [2, 0], [1, 3], [2, 6], [1, 0], [1, 6], [1, 5]],\n",
       " 'm2': [[1, 2], [2, 0], [1, 3], [2, 6], [1, 0], [1, 6], [1, 5]],\n",
       " 'm3': [[2, 0], [1, 3], [2, 6], [1, 0], [1, 6], [1, 5]],\n",
       " 'm4': [[1, 3], [2, 6], [1, 0], [1, 6], [1, 5]],\n",
       " 'm5': [[2, 6], [1, 0], [1, 6], [1, 5]],\n",
       " 'm6': [[1, 0], [1, 6], [1, 5]],\n",
       " 'm7': [[1, 6], [1, 5]],\n",
       " 'm8': [[1, 5]]}"
      ]
     },
     "execution_count": 68,
     "metadata": {},
     "output_type": "execute_result"
    }
   ],
   "source": [
    "\"\"\"\n",
    "SCRATCH\n",
    "\n",
    "Compute the NT-submodules $\\mathfrak{m}_i$ as coordinates rather than matrices\n",
    "\"\"\"\n",
    "mi_dict = {}\n",
    "for i in range(num_roots):\n",
    "    hilo = \"m\" + str(i)\n",
    "    mi = []\n",
    "    mi.append(rvecs[roots[i]]['coords'])\n",
    "    for k in range(i+1, num_roots):\n",
    "        mi.append(rvecs[roots[k]]['coords'])\n",
    "        #print(k,roots[k])\n",
    "    \n",
    "    mi_dict.setdefault(hilo,mi)\n",
    "mi_dict"
   ]
  },
  {
   "cell_type": "code",
   "execution_count": 103,
   "metadata": {},
   "outputs": [
    {
     "name": "stdout",
     "output_type": "stream",
     "text": [
      "[[3, 0], [2, 3], [1, 2], [2, 0], [1, 3], [2, 6], [1, 0], [1, 6], [1, 5]]\n",
      "[3, 0]\n",
      "[[3, 0], [2, 3], [1, 2], [2, 0], [1, 3], [2, 6], [1, 0], [1, 6], [1, 5]]\n",
      "[2, 3]\n",
      "[[3, 0], [2, 3], [1, 2], [2, 0], [1, 3], [2, 6], [1, 0], [1, 6], [1, 5]]\n",
      "[1, 2]\n",
      "[[3, 0], [2, 3], [1, 2], [2, 0], [1, 3], [2, 6], [1, 0], [1, 6], [1, 5]]\n",
      "[2, 0]\n",
      "[[3, 0], [2, 3], [1, 2], [2, 0], [1, 3], [2, 6], [1, 0], [1, 6], [1, 5]]\n",
      "[1, 3]\n",
      "[[3, 0], [2, 3], [1, 2], [2, 0], [1, 3], [2, 6], [1, 0], [1, 6], [1, 5]]\n",
      "[2, 6]\n",
      "[[3, 0], [2, 3], [1, 2], [2, 0], [1, 3], [2, 6], [1, 0], [1, 6], [1, 5]]\n",
      "[1, 0]\n",
      "[[3, 0], [2, 3], [1, 2], [2, 0], [1, 3], [2, 6], [1, 0], [1, 6], [1, 5]]\n",
      "[1, 6]\n",
      "[[3, 0], [2, 3], [1, 2], [2, 0], [1, 3], [2, 6], [1, 0], [1, 6], [1, 5]]\n",
      "[1, 5]\n",
      "[[2, 3], [1, 2], [2, 0], [1, 3], [2, 6], [1, 0], [1, 6], [1, 5]]\n",
      "[2, 3]\n",
      "[[2, 3], [1, 2], [2, 0], [1, 3], [2, 6], [1, 0], [1, 6], [1, 5]]\n",
      "[1, 2]\n",
      "[[2, 3], [1, 2], [2, 0], [1, 3], [2, 6], [1, 0], [1, 6], [1, 5]]\n",
      "[2, 0]\n",
      "[[2, 3], [1, 2], [2, 0], [1, 3], [2, 6], [1, 0], [1, 6], [1, 5]]\n",
      "[1, 3]\n",
      "[[2, 3], [1, 2], [2, 0], [1, 3], [2, 6], [1, 0], [1, 6], [1, 5]]\n",
      "[2, 6]\n",
      "[[2, 3], [1, 2], [2, 0], [1, 3], [2, 6], [1, 0], [1, 6], [1, 5]]\n",
      "[1, 0]\n",
      "[[2, 3], [1, 2], [2, 0], [1, 3], [2, 6], [1, 0], [1, 6], [1, 5]]\n",
      "[1, 6]\n",
      "[[2, 3], [1, 2], [2, 0], [1, 3], [2, 6], [1, 0], [1, 6], [1, 5]]\n",
      "[1, 5]\n",
      "[[1, 2], [2, 0], [1, 3], [2, 6], [1, 0], [1, 6], [1, 5]]\n",
      "[1, 2]\n",
      "[[1, 2], [2, 0], [1, 3], [2, 6], [1, 0], [1, 6], [1, 5]]\n",
      "[2, 0]\n",
      "[[1, 2], [2, 0], [1, 3], [2, 6], [1, 0], [1, 6], [1, 5]]\n",
      "[1, 3]\n",
      "[[1, 2], [2, 0], [1, 3], [2, 6], [1, 0], [1, 6], [1, 5]]\n",
      "[2, 6]\n",
      "[[1, 2], [2, 0], [1, 3], [2, 6], [1, 0], [1, 6], [1, 5]]\n",
      "[1, 0]\n",
      "[[1, 2], [2, 0], [1, 3], [2, 6], [1, 0], [1, 6], [1, 5]]\n",
      "[1, 6]\n",
      "[[1, 2], [2, 0], [1, 3], [2, 6], [1, 0], [1, 6], [1, 5]]\n",
      "[1, 5]\n",
      "[[2, 0], [1, 3], [2, 6], [1, 0], [1, 6], [1, 5]]\n",
      "[2, 0]\n",
      "[[2, 0], [1, 3], [2, 6], [1, 0], [1, 6], [1, 5]]\n",
      "[1, 3]\n",
      "[[2, 0], [1, 3], [2, 6], [1, 0], [1, 6], [1, 5]]\n",
      "[2, 6]\n",
      "[[2, 0], [1, 3], [2, 6], [1, 0], [1, 6], [1, 5]]\n",
      "[1, 0]\n",
      "[[2, 0], [1, 3], [2, 6], [1, 0], [1, 6], [1, 5]]\n",
      "[1, 6]\n",
      "[[2, 0], [1, 3], [2, 6], [1, 0], [1, 6], [1, 5]]\n",
      "[1, 5]\n",
      "[[1, 3], [2, 6], [1, 0], [1, 6], [1, 5]]\n",
      "[1, 3]\n",
      "[[1, 3], [2, 6], [1, 0], [1, 6], [1, 5]]\n",
      "[2, 6]\n",
      "[[1, 3], [2, 6], [1, 0], [1, 6], [1, 5]]\n",
      "[1, 0]\n",
      "[[1, 3], [2, 6], [1, 0], [1, 6], [1, 5]]\n",
      "[1, 6]\n",
      "[[1, 3], [2, 6], [1, 0], [1, 6], [1, 5]]\n",
      "[1, 5]\n",
      "[[2, 6], [1, 0], [1, 6], [1, 5]]\n",
      "[2, 6]\n",
      "[[2, 6], [1, 0], [1, 6], [1, 5]]\n",
      "[1, 0]\n",
      "[[2, 6], [1, 0], [1, 6], [1, 5]]\n",
      "[1, 6]\n",
      "[[2, 6], [1, 0], [1, 6], [1, 5]]\n",
      "[1, 5]\n",
      "[[1, 0], [1, 6], [1, 5]]\n",
      "[1, 0]\n",
      "[[1, 0], [1, 6], [1, 5]]\n",
      "[1, 6]\n",
      "[[1, 0], [1, 6], [1, 5]]\n",
      "[1, 5]\n",
      "[[1, 6], [1, 5]]\n",
      "[1, 6]\n",
      "[[1, 6], [1, 5]]\n",
      "[1, 5]\n",
      "[[1, 5]]\n",
      "[1, 5]\n"
     ]
    }
   ],
   "source": [
    "# SCRATCH\n",
    "m_list = []\n",
    "for level in range(num_roots):\n",
    "    mat = nil_rad\n",
    "    #print(mat)\n",
    "    for rspace in range(len(mi_dict['m'+str(level)])):\n",
    "        print(mi_dict['m'+str(level)])\n",
    "        coords = mi_dict['m'+str(level)][rspace]\n",
    "        print(coords)\n",
    "        mat[coords[0],coords[1]] = 0\n",
    "        m_list.append(mat)"
   ]
  },
  {
   "cell_type": "markdown",
   "metadata": {},
   "source": [
    "# Scratch"
   ]
  },
  {
   "cell_type": "code",
   "execution_count": 145,
   "metadata": {},
   "outputs": [
    {
     "data": {
      "text/plain": [
       "(0, 1, 1)"
      ]
     },
     "execution_count": 145,
     "metadata": {},
     "output_type": "execute_result"
    }
   ],
   "source": [
    "list(rvecs.keys())[1]"
   ]
  },
  {
   "cell_type": "code",
   "execution_count": 162,
   "metadata": {},
   "outputs": [
    {
     "data": {
      "text/plain": [
       "array([[0, 0, 0, 0, 0, -n011, 0],\n",
       "       [0, 0, 0, 0, 0, 0, 0],\n",
       "       [n011, 0, 0, 0, 0, 0, 0],\n",
       "       [0, 0, 0, 0, 0, 0, 0],\n",
       "       [0, 0, 0, 0, 0, 0, 0],\n",
       "       [0, 0, 0, 0, 0, 0, 0],\n",
       "       [0, 0, 0, 0, 0, 0, 0]], dtype=object)"
      ]
     },
     "execution_count": 162,
     "metadata": {},
     "output_type": "execute_result"
    }
   ],
   "source": [
    "mats[1]"
   ]
  },
  {
   "cell_type": "code",
   "execution_count": 169,
   "metadata": {},
   "outputs": [
    {
     "data": {
      "text/plain": [
       "array([[0, 0, 0, 0, n011*n100, 0, 0],\n",
       "       [-n011*n100, 0, 0, 0, 0, 0, -n001*n111],\n",
       "       [0, 0, 0, 0, 0, 0, -n001*n011],\n",
       "       [0, 0, 0, 0, n001*n111, n001*n011, 0],\n",
       "       [0, 0, 0, 0, 0, 0, 0],\n",
       "       [0, 0, 0, 0, 0, 0, 0],\n",
       "       [0, 0, 0, 0, 0, 0, 0]], dtype=object)"
      ]
     },
     "execution_count": 169,
     "metadata": {},
     "output_type": "execute_result"
    }
   ],
   "source": [
    "(mats[0]+mats[1])@nil_rad-nil_rad@(mats[0]+mats[1])"
   ]
  },
  {
   "cell_type": "code",
   "execution_count": 144,
   "metadata": {},
   "outputs": [
    {
     "data": {
      "text/plain": [
       "array([[0, 0, 0, 0, -n4, 0, 0],\n",
       "       [n4, 0, 0, 0, 0, -n0, 0],\n",
       "       [0, 0, 0, 0, n0, 0, n2],\n",
       "       [0, 0, 0, 0, 0, -n2, 0],\n",
       "       [0, 0, 0, 0, 0, 0, 0],\n",
       "       [0, 0, 0, 0, 0, 0, 0],\n",
       "       [0, 0, 0, 0, 0, 0, 0]], dtype=object)"
      ]
     },
     "execution_count": 144,
     "metadata": {},
     "output_type": "execute_result"
    }
   ],
   "source": [
    "nil_rad@rvecs[list(rvecs.keys())[1]]['matrix']-rvecs[list(rvecs.keys())[1]]['matrix']@nil_rad"
   ]
  },
  {
   "cell_type": "code",
   "execution_count": 52,
   "metadata": {},
   "outputs": [],
   "source": [
    "g = LieAlgebra(QQ, cartan_type=[G,l]) #, representation=\"matrix\""
   ]
  },
  {
   "cell_type": "code",
   "execution_count": 91,
   "metadata": {},
   "outputs": [
    {
     "data": {
      "text/plain": [
       "[alpha[1],\n",
       " alpha[2],\n",
       " alpha[3],\n",
       " alpha[1] + alpha[2],\n",
       " alpha[2] + 2*alpha[3],\n",
       " alpha[2] + alpha[3],\n",
       " alpha[1] + alpha[2] + 2*alpha[3],\n",
       " alpha[1] + alpha[2] + alpha[3],\n",
       " alpha[1] + 2*alpha[2] + 2*alpha[3]]"
      ]
     },
     "execution_count": 91,
     "metadata": {},
     "output_type": "execute_result"
    }
   ],
   "source": [
    "B3 = RootSystem([\"B\",3]).root_space()\n",
    "roots=list(B3.positive_roots())\n",
    "roots"
   ]
  },
  {
   "cell_type": "code",
   "execution_count": 53,
   "metadata": {},
   "outputs": [
    {
     "data": {
      "text/plain": [
       "Lie algebra of ['B', 3] in the Chevalley basis"
      ]
     },
     "execution_count": 53,
     "metadata": {},
     "output_type": "execute_result"
    }
   ],
   "source": [
    "g"
   ]
  },
  {
   "cell_type": "code",
   "execution_count": 19,
   "metadata": {
    "scrolled": true
   },
   "outputs": [
    {
     "data": {
      "text/plain": [
       "Finite family {alpha[1]: E[alpha[1]], alpha[2]: E[alpha[2]], alpha[3]: E[alpha[3]], -alpha[1]: E[-alpha[1]], -alpha[2]: E[-alpha[2]], -alpha[3]: E[-alpha[3]], alphacheck[1]: h1, alphacheck[2]: h2, alphacheck[3]: h3}"
      ]
     },
     "execution_count": 19,
     "metadata": {},
     "output_type": "execute_result"
    }
   ],
   "source": [
    "g.lie_algebra_generators()"
   ]
  },
  {
   "cell_type": "code",
   "execution_count": 20,
   "metadata": {},
   "outputs": [
    {
     "name": "stdout",
     "output_type": "stream",
     "text": [
      "Defining e1, e2, e3, f1, f2, f3, h1, h2, h3\n"
     ]
    }
   ],
   "source": [
    "g.inject_variables()"
   ]
  },
  {
   "cell_type": "code",
   "execution_count": 94,
   "metadata": {},
   "outputs": [
    {
     "name": "stdout",
     "output_type": "stream",
     "text": [
      "E[alpha[1]]\n"
     ]
    }
   ],
   "source": [
    "print(e1)"
   ]
  },
  {
   "cell_type": "code",
   "execution_count": 67,
   "metadata": {},
   "outputs": [],
   "source": [
    "n = LieAlgebra(QQ, cartan_type=['A',4], nilpotent=True)"
   ]
  },
  {
   "cell_type": "code",
   "execution_count": null,
   "metadata": {},
   "outputs": [],
   "source": [
    "# Fix an enumeration of the positive roots s.t. ht(\\beta_i)\\leq ht(\\beta_{i+1})\n",
    "\n"
   ]
  },
  {
   "cell_type": "code",
   "execution_count": 100,
   "metadata": {},
   "outputs": [
    {
     "data": {
      "text/plain": [
       "(\n",
       "[ 0  1  0  0  0]  [ 0  0  0  0  0]  [ 0  0  0  0  0]  [ 0  0  0  0  0]\n",
       "[ 0  0  0  0  0]  [ 0  0  0  0  2]  [ 1  0  0  0  0]  [ 0  0  0  0  0]\n",
       "[ 0  0  0  0  0]  [ 0  0  0  0  0]  [ 0  0  0 -1  0]  [ 0  0  0  0  0]\n",
       "[ 0  0 -1  0  0]  [ 0  0  0  0  0]  [ 0  0  0  0  0]  [ 0  0  0  0 -1]\n",
       "[ 0  0  0  0  0], [ 0  0  0 -2  0], [ 0  0  0  0  0], [ 0  1  0  0  0],\n",
       "\n",
       "[ 1  0  0  0  0]  [ 0  0  0  0  0]\n",
       "[ 0 -1  0  0  0]  [ 0  2  0  0  0]\n",
       "[ 0  0 -1  0  0]  [ 0  0  0  0  0]\n",
       "[ 0  0  0  1  0]  [ 0  0  0 -2  0]\n",
       "[ 0  0  0  0  0], [ 0  0  0  0  0]\n",
       ")"
      ]
     },
     "execution_count": 100,
     "metadata": {},
     "output_type": "execute_result"
    }
   ],
   "source": [
    "so4 = lie_algebras.so(QQ, 5, representation='matrix'); so4\n",
    "so4.gens()"
   ]
  }
 ],
 "metadata": {
  "kernelspec": {
   "display_name": "SageMath 9.3",
   "language": "sage",
   "name": "sagemath"
  },
  "language_info": {
   "codemirror_mode": {
    "name": "ipython",
    "version": 3
   },
   "file_extension": ".py",
   "mimetype": "text/x-python",
   "name": "python",
   "nbconvert_exporter": "python",
   "pygments_lexer": "ipython3",
   "version": "3.7.10"
  }
 },
 "nbformat": 4,
 "nbformat_minor": 4
}
