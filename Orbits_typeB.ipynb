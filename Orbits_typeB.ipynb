{
 "cells": [
  {
   "cell_type": "code",
   "execution_count": 23,
   "metadata": {},
   "outputs": [],
   "source": [
    "import numpy as np\n",
    "from sympy import Matrix # Used to compute nullity"
   ]
  },
  {
   "cell_type": "code",
   "execution_count": 24,
   "metadata": {},
   "outputs": [],
   "source": [
    "G = 'B' # Type of classical algebraic group, Input: string 'A','B','C', or 'D'\n",
    "l = 2 # Rank, Input: positive integer\n",
    "n = 2*l+1 # Square matrix dimension for type B"
   ]
  },
  {
   "cell_type": "code",
   "execution_count": 25,
   "metadata": {
    "scrolled": true
   },
   "outputs": [
    {
     "name": "stdout",
     "output_type": "stream",
     "text": [
      "{(1, 1): {'matrix': array([[ 0,  0,  0, -1,  0],\n",
      "       [ 1,  0,  0,  0,  0],\n",
      "       [ 0,  0,  0,  0,  0],\n",
      "       [ 0,  0,  0,  0,  0],\n",
      "       [ 0,  0,  0,  0,  0]]), 'coords': [1, 0]}, (0, 1): {'matrix': array([[ 0,  0,  0,  0, -1],\n",
      "       [ 0,  0,  0,  0,  0],\n",
      "       [ 1,  0,  0,  0,  0],\n",
      "       [ 0,  0,  0,  0,  0],\n",
      "       [ 0,  0,  0,  0,  0]]), 'coords': [2, 0]}, (1, 2): {'matrix': array([[ 0,  0,  0,  0,  0],\n",
      "       [ 0,  0,  0,  0,  1],\n",
      "       [ 0,  0,  0, -1,  0],\n",
      "       [ 0,  0,  0,  0,  0],\n",
      "       [ 0,  0,  0,  0,  0]]), 'coords': [1, 4]}, (1, 0): {'matrix': array([[ 0,  0,  0,  0,  0],\n",
      "       [ 0,  0,  1,  0,  0],\n",
      "       [ 0,  0,  0,  0,  0],\n",
      "       [ 0,  0,  0,  0,  0],\n",
      "       [ 0,  0,  0, -1,  0]]), 'coords': [1, 2]}}\n"
     ]
    }
   ],
   "source": [
    "\"\"\"\n",
    "Make matrices for the root vectors for the positive roots in type B (i.e., the root vectors in the nilradical).\n",
    "Store the root vector matrices in a dictionary called rvecs where the keys are the eigenvector names given on page 131\n",
    "of Erdmann and the values are the eigenvectors as numpy arrays\n",
    "\n",
    "\"mat_type\" is the eigenvector matrix form given on page 131 of Erdmann\n",
    "\"indices\" is a list of the i,j indices\n",
    "\"matrix\" is the eigenvector corresponding to the root of specified type and indices\n",
    "\"coords\" are the coordinates of the positive nonzero matrix entry, to be used for the coordinate function\n",
    "\n",
    "Parameters: rank l\n",
    "\n",
    "Returns: dictionary\n",
    "\n",
    "\"\"\"\n",
    "def make_rvecs_B(l):\n",
    "    rvecs = {}\n",
    "\n",
    "    M = np.zeros((2*l+1,2*l+1),dtype = int)\n",
    "    # Add root vectors b_i for roots of the form epsilon_i to rvecs\n",
    "    for i in np.arange(1,l+1,1):\n",
    "        # b_ij\n",
    "        M[i,0] = 1\n",
    "        M[0,l+i] = -1\n",
    "        hilo = \"b\" + str(i)\n",
    "        coef = np.zeros(l, dtype = int) # Array of length the number of roots in the base\n",
    "        coef[i-1:l] = 1\n",
    "        coef = tuple(coef)\n",
    "        rvecs.setdefault(coef, {\"matrix\":M, \"coords\":[i,0]}) # index 1 \\leq i \\leq l\n",
    "        M = np.zeros((2*l+1,2*l+1),dtype = int)\n",
    "    for i in np.arange(1,l,1):\n",
    "        for j in np.arange(1,l+1,1):\n",
    "            # p_ij\n",
    "            if i<j:\n",
    "                M[i,l+j] = 1\n",
    "                M[j,l+i] = -1\n",
    "                hilo = \"p\" + str(i) + str(j)\n",
    "                coef = np.zeros(l, dtype = int) # Array of length the number of roots in the base\n",
    "                coef[i-1:j] = 1\n",
    "                coef[j-1:l] = 2\n",
    "                coef = tuple(coef)\n",
    "                rvecs.setdefault(coef, {\"matrix\":M, \"coords\":[i,l+j]}) # indices 1 \\leq i < j \\leq l\n",
    "                M = np.zeros((2*l+1,2*l+1),dtype = int)\n",
    "            # m_ij\n",
    "            if i != j and i<j:\n",
    "                M[i,j] = 1\n",
    "                M[l+j,l+i] = -1\n",
    "                hilo = \"m\" + str(i) + str(j)\n",
    "                coef = np.zeros(l, dtype = int) # Array of length the number of roots in the base\n",
    "                coef[i-1:j-1] = 1 \n",
    "                coef = tuple(coef)\n",
    "                rvecs.setdefault(coef, {\"matrix\":M, \"coords\":[i,j]})\n",
    "                M = np.zeros((2*l+1,2*l+1), dtype = int)\n",
    "    return rvecs\n",
    "\n",
    "rvecs = make_rvecs_B(l)\n",
    "print(rvecs)"
   ]
  },
  {
   "cell_type": "code",
   "execution_count": 26,
   "metadata": {},
   "outputs": [],
   "source": [
    "\"\"\"\n",
    "Fix a sequence of the positive roots with a (partial) ordering induced by increasing root height.\n",
    "\n",
    "Use the Sage function positive_roots_by_height(increasing=True)\n",
    "\n",
    "Parameters: Group type G, string\n",
    "            Rank, integer\n",
    "\n",
    "Returns: List of roots as tuples\n",
    "\"\"\"\n",
    "def make_root_order(G,l):\n",
    "    L = RootSystem([G,l]).root_lattice()\n",
    "    roots = [tuple(root.to_vector()) for root in L.positive_roots_by_height()]\n",
    "    return roots\n",
    "\n",
    "roots = make_root_order(G,l)\n",
    "num_roots = len(roots) # Store the number of positive roots for future loops"
   ]
  },
  {
   "cell_type": "code",
   "execution_count": 54,
   "metadata": {},
   "outputs": [
    {
     "name": "stderr",
     "output_type": "stream",
     "text": [
      "<>:13: DeprecationWarning: invalid escape sequence \\m\n",
      "<>:13: DeprecationWarning: invalid escape sequence \\m\n",
      "<>:13: DeprecationWarning: invalid escape sequence \\m\n",
      "<ipython-input-54-969feb4a3bad>:13: DeprecationWarning: invalid escape sequence \\m\n",
      "  \"\"\"\n"
     ]
    }
   ],
   "source": [
    "\"\"\"\n",
    "VERSION WHERE THE ENTRIES ARE THE DIFFERENT THAN THOSE IN THE NILRADICAL (r INSTEAD OF n)\n",
    "Compute the root spaces $\\mathfrak{g}_\\beta=\\mathbb{C}e_\\beta$\n",
    "\n",
    "Notes:\n",
    "This could be combined with the function that makes the nilradical\n",
    "The \"DeprecationWarning: invalid escape sequence \\m\" that returns when this cell is run in Jupyter is because of the \n",
    "backslash character used in the TeX for this comment\n",
    "\n",
    "Parameters: rvecs\n",
    "\n",
    "Returns: rspaces: dictionary with keys the roots as tuples and values the root spaces\n",
    "\"\"\"\n",
    "def make_root_spaces(rvecs):\n",
    "    rspaces = {} # Create a dictionary rspaces with keys the roots as stored in rvecs and values the root spaces k*e_alpha\n",
    "    num = len(rvecs) # Set the number of iterations to equal the number of positive roots; we'll need this for most things in this function\n",
    "    syms = np.array([var(\"r\"+str(list(rvecs.keys())[i]).replace(\"(\", \"\").replace(\")\", \"\").replace(\" \", \"\").replace(\",\", \"\")) for i in range(num)], dtype = object) # Name some not-necessarily-distinct field elements\n",
    "    # Note that rvecs[list(rvecs.keys())[1]]['matrix'] extracts the eigenvector matrix from rvecs\n",
    "    mats = [np.dot(syms[i],rvecs[list(rvecs.keys())[i]]['matrix']) for i in range(num)] # Multiply the root vectors by an arbitrary field element to get the root spaces\n",
    "    for i in range(num):\n",
    "        rspaces.setdefault(list(rvecs.keys())[i],mats[i])\n",
    "    return rspaces\n",
    "\n",
    "rspaces = make_root_spaces(rvecs)"
   ]
  },
  {
   "cell_type": "code",
   "execution_count": 28,
   "metadata": {},
   "outputs": [
    {
     "name": "stderr",
     "output_type": "stream",
     "text": [
      "<>:13: DeprecationWarning: invalid escape sequence \\m\n",
      "<>:13: DeprecationWarning: invalid escape sequence \\m\n",
      "<>:13: DeprecationWarning: invalid escape sequence \\m\n",
      "<ipython-input-28-6312676660ef>:13: DeprecationWarning: invalid escape sequence \\m\n",
      "  \"\"\"\n"
     ]
    }
   ],
   "source": [
    "\"\"\"\n",
    "VERSION WHERE THE ENTRIES ARE THE SAME AS IN THE NILRADICAL\n",
    "Compute the root spaces $\\mathfrak{g}_\\beta=\\mathbb{C}e_\\beta$\n",
    "\n",
    "Notes:\n",
    "This could be combined with the function that makes the nilradical\n",
    "The \"DeprecationWarning: invalid escape sequence \\m\" that returns when this cell is run in Jupyter is because of the \n",
    "backslash character used in the TeX for this comment\n",
    "\n",
    "Parameters: rvecs\n",
    "\n",
    "Returns: rspaces: dictionary with keys the roots as tuples and values the root spaces\n",
    "\"\"\"\n",
    "def make_root_spaces(rvecs):\n",
    "    rspaces = {} # Create a dictionary rspaces with keys the roots as stored in rvecs and values the root spaces k*e_alpha\n",
    "    num = len(rvecs) # Set the number of iterations to equal the number of positive roots; we'll need this for most things in this function\n",
    "    syms = np.array([var(\"n\"+str(list(rvecs.keys())[i]).replace(\"(\", \"\").replace(\")\", \"\").replace(\" \", \"\").replace(\",\", \"\")) for i in range(num)], dtype = object) # Name some not-necessarily-distinct field elements\n",
    "    # Note that rvecs[list(rvecs.keys())[1]]['matrix'] extracts the eigenvector matrix from rvecs\n",
    "    mats = [np.dot(syms[i],rvecs[list(rvecs.keys())[i]]['matrix']) for i in range(num)] # Multiply the root vectors by an arbitrary field element to get the root spaces\n",
    "    for i in range(num):\n",
    "        rspaces.setdefault(list(rvecs.keys())[i],mats[i])\n",
    "    return rspaces\n",
    "\n",
    "rspaces = make_root_spaces(rvecs)"
   ]
  },
  {
   "cell_type": "code",
   "execution_count": 51,
   "metadata": {},
   "outputs": [
    {
     "data": {
      "text/plain": [
       "array([[0, 0, 0, -n11, -n01],\n",
       "       [n11, 0, n10, 0, n12],\n",
       "       [n01, 0, 0, -n12, 0],\n",
       "       [0, 0, 0, 0, 0],\n",
       "       [0, 0, 0, -n10, 0]], dtype=object)"
      ]
     },
     "execution_count": 51,
     "metadata": {},
     "output_type": "execute_result"
    }
   ],
   "source": [
    "\"\"\"\n",
    "Compute a matrix representing an arbitrary element of the nilradical\n",
    "\n",
    "Input: rvecs\n",
    "Returns: numpy.ndarray ; Arbitrary element of the nilradical\n",
    "\"\"\"\n",
    "def make_nilrad(rvecs):\n",
    "    rspaces = {} # Create a dictionary rspaces with keys the roots as stored in rvecs and values the root spaces k*e_alpha\n",
    "    \n",
    "    num = len(rvecs) # Set the number of iterations to equal the number of positive roots; we'll need this for most things in this function\n",
    "    syms = np.array([var(\"n\"+str(list(rvecs.keys())[i]).replace(\"(\", \"\").replace(\")\", \"\").replace(\" \", \"\").replace(\",\", \"\")) for i in range(num)], dtype = object) # Name some not-necessarily-distinct field elements\n",
    "    # Note that rvecs[list(rvecs.keys())[1]]['matrix'] extracts the eigenvector matrix from rvecs\n",
    "    mats = [np.dot(syms[i],rvecs[list(rvecs.keys())[i]]['matrix']) for i in range(num)] # Multiply the root vectors by an arbitrary field element to get the root spaces\n",
    "    nil_rad = sum(mats) # Set an arbitrary element of the nilradical equal to the sum of the root spaces\n",
    "    \n",
    "    for i in range(num):\n",
    "        rspaces.setdefault(list(rvecs.keys())[i],mats[i])\n",
    "    \n",
    "    return nil_rad #,rspaces, mats\n",
    "\n",
    "nil_rad = make_nilrad(rvecs)\n",
    "nil_rad"
   ]
  },
  {
   "cell_type": "code",
   "execution_count": 30,
   "metadata": {
    "scrolled": true
   },
   "outputs": [
    {
     "name": "stderr",
     "output_type": "stream",
     "text": [
      "<>:3: DeprecationWarning: invalid escape sequence \\m\n",
      "<>:3: DeprecationWarning: invalid escape sequence \\m\n",
      "<>:3: DeprecationWarning: invalid escape sequence \\m\n",
      "<ipython-input-30-e60e8b14dde7>:3: DeprecationWarning: invalid escape sequence \\m\n",
      "  \"\"\"\n"
     ]
    }
   ],
   "source": [
    "\"\"\"\n",
    "Compute the NT-submodules $\\mathfrak{m}_i$\n",
    "\"\"\"\n",
    "def make_NT_submodules(n,roots,rspaces):\n",
    "    mi_dict = {'m'+str(len(roots)): np.zeros((n,n), dtype = int)}\n",
    "    for i in range(len(roots)):\n",
    "        hilo = \"m\" + str(i)\n",
    "        mi = rspaces[roots[i]]\n",
    "        for k in range(i+1, len(roots)):\n",
    "            mi += rspaces[roots[k]]\n",
    "            #print(k,roots[k])\n",
    "\n",
    "        mi_dict.setdefault(hilo,mi) #nil_rad-mi\n",
    "    return mi_dict\n",
    "\n",
    "mi_dict = make_NT_submodules(7,roots,rspaces)"
   ]
  },
  {
   "cell_type": "code",
   "execution_count": 31,
   "metadata": {},
   "outputs": [
    {
     "data": {
      "text/plain": [
       "{'m4': array([[0, 0, 0, 0, 0, 0, 0],\n",
       "        [0, 0, 0, 0, 0, 0, 0],\n",
       "        [0, 0, 0, 0, 0, 0, 0],\n",
       "        [0, 0, 0, 0, 0, 0, 0],\n",
       "        [0, 0, 0, 0, 0, 0, 0],\n",
       "        [0, 0, 0, 0, 0, 0, 0],\n",
       "        [0, 0, 0, 0, 0, 0, 0]]),\n",
       " 'm0': array([[0, 0, 0, -n11, -n01],\n",
       "        [n11, 0, n10, 0, n12],\n",
       "        [n01, 0, 0, -n12, 0],\n",
       "        [0, 0, 0, 0, 0],\n",
       "        [0, 0, 0, -n10, 0]], dtype=object),\n",
       " 'm1': array([[0, 0, 0, -n11, 0],\n",
       "        [n11, 0, n10, 0, n12],\n",
       "        [0, 0, 0, -n12, 0],\n",
       "        [0, 0, 0, 0, 0],\n",
       "        [0, 0, 0, -n10, 0]], dtype=object),\n",
       " 'm2': array([[0, 0, 0, -n11, 0],\n",
       "        [n11, 0, 0, 0, n12],\n",
       "        [0, 0, 0, -n12, 0],\n",
       "        [0, 0, 0, 0, 0],\n",
       "        [0, 0, 0, 0, 0]], dtype=object),\n",
       " 'm3': array([[0, 0, 0, 0, 0],\n",
       "        [0, 0, 0, 0, n12],\n",
       "        [0, 0, 0, -n12, 0],\n",
       "        [0, 0, 0, 0, 0],\n",
       "        [0, 0, 0, 0, 0]], dtype=object)}"
      ]
     },
     "execution_count": 31,
     "metadata": {},
     "output_type": "execute_result"
    }
   ],
   "source": [
    "mi_dict"
   ]
  },
  {
   "cell_type": "code",
   "execution_count": 76,
   "metadata": {},
   "outputs": [],
   "source": [
    "\"\"\"\n",
    "Function to compute the alpha-string through beta for the bracket [x_alpha,x_beta] (given by q and r, see Humphreys p. 145)\n",
    "\n",
    "Parameters: alpha: tuple \n",
    "    beta: tuple\n",
    "    roots: list of roots as tuples\n",
    "    \n",
    "Returns: q,r : integers\n",
    "\n",
    "\"\"\"\n",
    "def get_rstring(alpha, beta, roots):\n",
    "    #rstring_dict = {}\n",
    "    gamma = beta\n",
    "    q = 0\n",
    "    print(gamma,type(gamma))\n",
    "    while gamma in roots:\n",
    "        gamma = tuple(np.add(gamma, alpha))\n",
    "        if gamma in roots:\n",
    "            q += 1\n",
    "                \n",
    "    gamma = beta\n",
    "    r = 0\n",
    "    while gamma in roots:\n",
    "        gamma = tuple(np.subtract(gamma, alpha))\n",
    "        if gamma in roots:\n",
    "            r += 1\n",
    "    return q,r"
   ]
  },
  {
   "cell_type": "code",
   "execution_count": 33,
   "metadata": {},
   "outputs": [],
   "source": [
    "def Chev_bracket(alpha, beta, roots, rvecs):\n",
    "    if alpha == beta:\n",
    "        bracket = 0\n",
    "    else:\n",
    "        q, r = get_rstring(alpha,beta,roots)\n",
    "        if q == 0:\n",
    "            bracket = 0\n",
    "        else:\n",
    "            #print(rvecs[tuple(np.add(alpha,beta))]['matrix'])\n",
    "            bracket = (r+1)*rvecs[tuple(np.add(alpha,beta))]['matrix'] #CHECK FOR SIGN CONVENTION\n",
    "    return bracket"
   ]
  },
  {
   "cell_type": "code",
   "execution_count": 111,
   "metadata": {},
   "outputs": [],
   "source": [
    "\"\"\"\n",
    "Function to compute the dimension of the centralizer of x in u using the Chevalley commutator relations using the root vectors that were defined previously\n",
    "\n",
    "define nil_coefs and vec_coefs as ORDERED DICTIONARIES where the keys are the roots and the values are the coefficients\n",
    "\n",
    "Params: nil_coefs: list with the same order as roots of symbolic coefficient names nalpha1tuple etc. # ORDERED DICTIONARY where the keys are the roots and the values are the coefficients\n",
    "    vec_coefs: ORDERED DICTIONARY where the keys are the roots and the values are the coefficients\n",
    "    roots\n",
    "    rvecs\n",
    "    n (matrix dimension)\n",
    "\n",
    "Returns: nullity\n",
    "\"\"\"\n",
    "def Chev_simp(nil_coefs, vec_coefs, roots, rvecs, n):\n",
    "    mat = np.zeros((n,n),dtype = int)\n",
    "    for alpha in roots: #nil_coefs: # nil_coefs.keys():\n",
    "        for beta in vec_coefs: # .keys():\n",
    "            #print(beta)\n",
    "            bracket = Chev_bracket(alpha, beta, roots, rvecs)\n",
    "            #print(bracket)\n",
    "            a = nil_coefs[alpha]\n",
    "            b = nil_coefs[beta]\n",
    "            mat = np.add(mat, a*b*bracket)\n",
    "            \n",
    "    return mat"
   ]
  },
  {
   "cell_type": "code",
   "execution_count": 18,
   "metadata": {},
   "outputs": [],
   "source": [
    "\"\"\"\n",
    "Params: mat: matrix (numpy or probably some other kinds work too)\n",
    "\n",
    "Returns: nullity: integer\n",
    "\"\"\"\n",
    "\n",
    "def nullity(mat):\n",
    "    # Using Sympy      \n",
    "    mat = Matrix(mat)\n",
    "    NumCol = mat.shape[1]\n",
    "    rank = mat.rank()\n",
    "    # Nullity of the Matrix\n",
    "    nullity = NumCol - rank\n",
    "    \n",
    "    return nullity"
   ]
  },
  {
   "cell_type": "code",
   "execution_count": 106,
   "metadata": {},
   "outputs": [
    {
     "data": {
      "text/plain": [
       "{(0, 1): 0, (1, 0): 1, (1, 1): 0, (1, 2): 0}"
      ]
     },
     "execution_count": 106,
     "metadata": {},
     "output_type": "execute_result"
    }
   ],
   "source": [
    "X[(1,0)] = 1\n",
    "X"
   ]
  },
  {
   "cell_type": "code",
   "execution_count": 107,
   "metadata": {},
   "outputs": [
    {
     "data": {
      "text/plain": [
       "{(1, 0): 1}"
      ]
     },
     "execution_count": 107,
     "metadata": {},
     "output_type": "execute_result"
    }
   ],
   "source": [
    "{key: value for key, value in X.items() if value != 0}"
   ]
  },
  {
   "cell_type": "code",
   "execution_count": 114,
   "metadata": {},
   "outputs": [],
   "source": [
    "def check_ramification():\n",
    "    # Remove root vectors with coefficient zero from X\n",
    "    vec_roots = {key: value for key, value in X.items() if value != 0}\n",
    "    vec_coefs = vec_roots.values()\n",
    "    mat = Chev_simp(nil_coefs, vec_coefs, roots, rvecs, n)\n",
    "    mat = np.subtract(mat, mi_dict[\"m\" + str(i)])\n",
    "    if nullity(mat) == dimCu:\n",
    "        print(str(i) + \" is a ramification point\")\n",
    "        ramification = True\n",
    "    elif nullity(mat) == dimCu - 1:\n",
    "        print(str(i) + \" is an inert point\")\n",
    "        dimCu = nullity(mat)\n",
    "        ramification  = False\n",
    "    else:\n",
    "        print(\"something went wrong\")\n",
    "    return ramification, dimCu"
   ]
  },
  {
   "cell_type": "code",
   "execution_count": 113,
   "metadata": {},
   "outputs": [
    {
     "name": "stdout",
     "output_type": "stream",
     "text": [
      "1 is a ramification point\n",
      "2 is a ramification point\n",
      "3 is a ramification point\n",
      "4 is a ramification point\n"
     ]
    }
   ],
   "source": [
    "X = dict(zip(roots, np.zeros(n, dtype = int))) # Initial X: Dictionary where the keys are root tuples and the values are zero\n",
    "dimCu = n\n",
    "nil_coefs = [var(\"n\"+str(roots[i]).replace(\"(\", \"\").replace(\")\", \"\").replace(\" \", \"\").replace(\",\", \"\")) for i in range(len(roots))]\n",
    "for i in range(1,len(roots)+1):\n",
    "    # Remove root vectors with coefficient zero from X\n",
    "    vec_roots = {key: value for key, value in X.items() if value != 0}\n",
    "    vec_coefs = vec_roots.values()\n",
    "    mat = Chev_simp(nil_coefs, vec_coefs, roots, rvecs, n)\n",
    "    mat = np.subtract(mat, mi_dict[\"m\" + str(i)])\n",
    "    if nullity(mat) == dimCu:\n",
    "        print(str(i) + \" is a ramification point\")\n",
    "        ramification = True\n",
    "    elif nullity(mat) == dimCu - 1:\n",
    "        print(str(i) + \" is an inert point\")\n",
    "        dimCu = nullity(mat)\n",
    "        ramification  = False\n",
    "    else:\n",
    "        print(\"something went wrong\")\n",
    "    #nil_rad - mi_dict['m'+str(i)]\n",
    "    \n",
    "if ramification "
   ]
  },
  {
   "cell_type": "code",
   "execution_count": 36,
   "metadata": {},
   "outputs": [
    {
     "name": "stdout",
     "output_type": "stream",
     "text": [
      "0\n",
      "[[ 0  0  0 -1  0]\n",
      " [ 1  0  0  0  0]\n",
      " [ 0  0  0  0  0]\n",
      " [ 0  0  0  0  0]\n",
      " [ 0  0  0  0  0]]\n",
      "[[ 0  0  0  0  0]\n",
      " [ 0  0  0  0  2]\n",
      " [ 0  0  0 -2  0]\n",
      " [ 0  0  0  0  0]\n",
      " [ 0  0  0  0  0]]\n",
      "0\n",
      "[[ 0  0  0 -1  0]\n",
      " [ 1  0  0  0  0]\n",
      " [ 0  0  0  0  0]\n",
      " [ 0  0  0  0  0]\n",
      " [ 0  0  0  0  0]]\n",
      "0\n",
      "0\n",
      "0\n",
      "[[ 0  0  0  0  0]\n",
      " [ 0  0  0  0  1]\n",
      " [ 0  0  0 -1  0]\n",
      " [ 0  0  0  0  0]\n",
      " [ 0  0  0  0  0]]\n",
      "0\n",
      "0\n",
      "0\n",
      "0\n",
      "0\n",
      "0\n",
      "0\n"
     ]
    },
    {
     "data": {
      "text/plain": [
       "array([[0, 0, 0, -2*k, 0],\n",
       "       [2*k, 0, 0, 0, 3*k],\n",
       "       [0, 0, 0, -3*k, 0],\n",
       "       [0, 0, 0, 0, 0],\n",
       "       [0, 0, 0, 0, 0]], dtype=object)"
      ]
     },
     "execution_count": 36,
     "metadata": {},
     "output_type": "execute_result"
    }
   ],
   "source": [
    "k = var('k')\n",
    "Chev_simp({(0,1):k,(1,0):1,(1,1):1,(1,2):1},{(0,1):1,(1,0):0,(1,1):0,(1,2):0},roots,rvecs,n)"
   ]
  },
  {
   "cell_type": "code",
   "execution_count": 123,
   "metadata": {},
   "outputs": [
    {
     "data": {
      "text/plain": [
       "array([[0, 0, 0, -n11, -n01],\n",
       "       [n11, 0, n10, 0, n12],\n",
       "       [n01, 0, 0, -n12, 0],\n",
       "       [0, 0, 0, 0, 0],\n",
       "       [0, 0, 0, -n10, 0]], dtype=object)"
      ]
     },
     "execution_count": 123,
     "metadata": {},
     "output_type": "execute_result"
    }
   ],
   "source": [
    "nil_rad"
   ]
  },
  {
   "cell_type": "code",
   "execution_count": 129,
   "metadata": {},
   "outputs": [],
   "source": [
    "\"\"\"\n",
    "Calculation of U-orbits on u\n",
    "\n",
    "\"\"\"\n",
    "def make_row(previous_row_list, mi_dict):\n",
    "    for i in range(len(roots)):\n",
    "        mat = nil_rad - mi_dict['m'+str(i)]\n",
    "        print(mat)\n",
    "    "
   ]
  },
  {
   "cell_type": "code",
   "execution_count": null,
   "metadata": {},
   "outputs": [],
   "source": [
    "X = 0\n"
   ]
  },
  {
   "cell_type": "code",
   "execution_count": 131,
   "metadata": {},
   "outputs": [
    {
     "name": "stdout",
     "output_type": "stream",
     "text": [
      "1\n",
      "2\n",
      "3\n"
     ]
    }
   ],
   "source": [
    "for i in range(1,len(roots)):\n",
    "    print(i)"
   ]
  },
  {
   "cell_type": "code",
   "execution_count": 58,
   "metadata": {},
   "outputs": [],
   "source": [
    "nil_coefs = [var(\"n\"+str(roots[i]).replace(\"(\", \"\").replace(\")\", \"\").replace(\" \", \"\").replace(\",\", \"\")) for i in range(len(roots))]"
   ]
  },
  {
   "cell_type": "code",
   "execution_count": 63,
   "metadata": {},
   "outputs": [
    {
     "data": {
      "text/plain": [
       "dict_values([0, 0, 0, 0])"
      ]
     },
     "execution_count": 63,
     "metadata": {},
     "output_type": "execute_result"
    }
   ],
   "source": [
    "X.values()"
   ]
  },
  {
   "cell_type": "code",
   "execution_count": 53,
   "metadata": {},
   "outputs": [
    {
     "data": {
      "text/plain": [
       "array(n10, dtype=object)"
      ]
     },
     "execution_count": 53,
     "metadata": {},
     "output_type": "execute_result"
    }
   ],
   "source": [
    "np.array(var(\"n\"+str(roots[i]).replace(\"(\", \"\").replace(\")\", \"\").replace(\" \", \"\").replace(\",\", \"\")))"
   ]
  },
  {
   "cell_type": "code",
   "execution_count": 55,
   "metadata": {},
   "outputs": [
    {
     "data": {
      "text/plain": [
       "{(1,\n",
       "  1): array([[0, 0, 0, -r11, 0],\n",
       "        [r11, 0, 0, 0, 0],\n",
       "        [0, 0, 0, 0, 0],\n",
       "        [0, 0, 0, 0, 0],\n",
       "        [0, 0, 0, 0, 0]], dtype=object),\n",
       " (0,\n",
       "  1): array([[0, 0, 0, 0, -r01],\n",
       "        [0, 0, 0, 0, 0],\n",
       "        [r01, 0, 0, 0, 0],\n",
       "        [0, 0, 0, 0, 0],\n",
       "        [0, 0, 0, 0, 0]], dtype=object),\n",
       " (1,\n",
       "  2): array([[0, 0, 0, 0, 0],\n",
       "        [0, 0, 0, 0, r12],\n",
       "        [0, 0, 0, -r12, 0],\n",
       "        [0, 0, 0, 0, 0],\n",
       "        [0, 0, 0, 0, 0]], dtype=object),\n",
       " (1,\n",
       "  0): array([[0, 0, 0, 0, 0],\n",
       "        [0, 0, r10, 0, 0],\n",
       "        [0, 0, 0, 0, 0],\n",
       "        [0, 0, 0, 0, 0],\n",
       "        [0, 0, 0, -r10, 0]], dtype=object)}"
      ]
     },
     "execution_count": 55,
     "metadata": {},
     "output_type": "execute_result"
    }
   ],
   "source": [
    "rspaces"
   ]
  },
  {
   "cell_type": "code",
   "execution_count": 34,
   "metadata": {},
   "outputs": [
    {
     "ename": "KeyError",
     "evalue": "(0, 1, 1)",
     "output_type": "error",
     "traceback": [
      "\u001b[0;31m---------------------------------------------------------------------------\u001b[0m",
      "\u001b[0;31mKeyError\u001b[0m                                  Traceback (most recent call last)",
      "\u001b[0;32m<ipython-input-34-6e7d2bfeb3da>\u001b[0m in \u001b[0;36m<module>\u001b[0;34m\u001b[0m\n\u001b[1;32m      1\u001b[0m \u001b[0malpha\u001b[0m \u001b[0;34m=\u001b[0m \u001b[0;34m(\u001b[0m\u001b[0mInteger\u001b[0m\u001b[0;34m(\u001b[0m\u001b[0;36m0\u001b[0m\u001b[0;34m)\u001b[0m\u001b[0;34m,\u001b[0m\u001b[0mInteger\u001b[0m\u001b[0;34m(\u001b[0m\u001b[0;36m1\u001b[0m\u001b[0;34m)\u001b[0m\u001b[0;34m,\u001b[0m\u001b[0mInteger\u001b[0m\u001b[0;34m(\u001b[0m\u001b[0;36m1\u001b[0m\u001b[0;34m)\u001b[0m\u001b[0;34m)\u001b[0m\u001b[0;34m\u001b[0m\u001b[0;34m\u001b[0m\u001b[0m\n\u001b[1;32m      2\u001b[0m \u001b[0mbeta\u001b[0m \u001b[0;34m=\u001b[0m \u001b[0;34m(\u001b[0m\u001b[0mInteger\u001b[0m\u001b[0;34m(\u001b[0m\u001b[0;36m0\u001b[0m\u001b[0;34m)\u001b[0m\u001b[0;34m,\u001b[0m\u001b[0mInteger\u001b[0m\u001b[0;34m(\u001b[0m\u001b[0;36m0\u001b[0m\u001b[0;34m)\u001b[0m\u001b[0;34m,\u001b[0m\u001b[0mInteger\u001b[0m\u001b[0;34m(\u001b[0m\u001b[0;36m1\u001b[0m\u001b[0;34m)\u001b[0m\u001b[0;34m)\u001b[0m\u001b[0;34m\u001b[0m\u001b[0;34m\u001b[0m\u001b[0m\n\u001b[0;32m----> 3\u001b[0;31m \u001b[0mbrute\u001b[0m \u001b[0;34m=\u001b[0m \u001b[0mrvecs\u001b[0m\u001b[0;34m[\u001b[0m\u001b[0mtuple\u001b[0m\u001b[0;34m(\u001b[0m\u001b[0malpha\u001b[0m\u001b[0;34m)\u001b[0m\u001b[0;34m]\u001b[0m\u001b[0;34m[\u001b[0m\u001b[0;34m'matrix'\u001b[0m\u001b[0;34m]\u001b[0m \u001b[0;34m@\u001b[0m \u001b[0mrvecs\u001b[0m\u001b[0;34m[\u001b[0m\u001b[0mtuple\u001b[0m\u001b[0;34m(\u001b[0m\u001b[0mbeta\u001b[0m\u001b[0;34m)\u001b[0m\u001b[0;34m]\u001b[0m\u001b[0;34m[\u001b[0m\u001b[0;34m'matrix'\u001b[0m\u001b[0;34m]\u001b[0m \u001b[0;34m-\u001b[0m \u001b[0mrvecs\u001b[0m\u001b[0;34m[\u001b[0m\u001b[0mtuple\u001b[0m\u001b[0;34m(\u001b[0m\u001b[0mbeta\u001b[0m\u001b[0;34m)\u001b[0m\u001b[0;34m]\u001b[0m\u001b[0;34m[\u001b[0m\u001b[0;34m'matrix'\u001b[0m\u001b[0;34m]\u001b[0m \u001b[0;34m@\u001b[0m \u001b[0mrvecs\u001b[0m\u001b[0;34m[\u001b[0m\u001b[0mtuple\u001b[0m\u001b[0;34m(\u001b[0m\u001b[0malpha\u001b[0m\u001b[0;34m)\u001b[0m\u001b[0;34m]\u001b[0m\u001b[0;34m[\u001b[0m\u001b[0;34m'matrix'\u001b[0m\u001b[0;34m]\u001b[0m\u001b[0;34m\u001b[0m\u001b[0;34m\u001b[0m\u001b[0m\n\u001b[0m\u001b[1;32m      4\u001b[0m \u001b[0mtest\u001b[0m \u001b[0;34m=\u001b[0m \u001b[0mChev_bracket\u001b[0m\u001b[0;34m(\u001b[0m\u001b[0;34m(\u001b[0m\u001b[0mInteger\u001b[0m\u001b[0;34m(\u001b[0m\u001b[0;36m0\u001b[0m\u001b[0;34m)\u001b[0m\u001b[0;34m,\u001b[0m\u001b[0mInteger\u001b[0m\u001b[0;34m(\u001b[0m\u001b[0;36m1\u001b[0m\u001b[0;34m)\u001b[0m\u001b[0;34m,\u001b[0m\u001b[0mInteger\u001b[0m\u001b[0;34m(\u001b[0m\u001b[0;36m1\u001b[0m\u001b[0;34m)\u001b[0m\u001b[0;34m)\u001b[0m\u001b[0;34m,\u001b[0m\u001b[0;34m(\u001b[0m\u001b[0mInteger\u001b[0m\u001b[0;34m(\u001b[0m\u001b[0;36m0\u001b[0m\u001b[0;34m)\u001b[0m\u001b[0;34m,\u001b[0m\u001b[0mInteger\u001b[0m\u001b[0;34m(\u001b[0m\u001b[0;36m0\u001b[0m\u001b[0;34m)\u001b[0m\u001b[0;34m,\u001b[0m\u001b[0mInteger\u001b[0m\u001b[0;34m(\u001b[0m\u001b[0;36m1\u001b[0m\u001b[0;34m)\u001b[0m\u001b[0;34m)\u001b[0m\u001b[0;34m,\u001b[0m\u001b[0mroots\u001b[0m\u001b[0;34m,\u001b[0m \u001b[0mrvecs\u001b[0m\u001b[0;34m)\u001b[0m\u001b[0;34m\u001b[0m\u001b[0;34m\u001b[0m\u001b[0m\n\u001b[1;32m      5\u001b[0m \u001b[0mprint\u001b[0m\u001b[0;34m(\u001b[0m\u001b[0mbrute\u001b[0m\u001b[0;34m)\u001b[0m\u001b[0;34m\u001b[0m\u001b[0;34m\u001b[0m\u001b[0m\n",
      "\u001b[0;31mKeyError\u001b[0m: (0, 1, 1)"
     ]
    }
   ],
   "source": [
    "alpha = (0,1,1)\n",
    "beta = (0,0,1)\n",
    "brute = rvecs[tuple(alpha)]['matrix'] @ rvecs[tuple(beta)]['matrix'] - rvecs[tuple(beta)]['matrix'] @ rvecs[tuple(alpha)]['matrix']\n",
    "test = Chev_bracket((0,1,1),(0,0,1),roots, rvecs)\n",
    "print(brute)\n",
    "print(test)"
   ]
  },
  {
   "cell_type": "code",
   "execution_count": 53,
   "metadata": {},
   "outputs": [],
   "source": [
    "\"\"\"\n",
    "Function to compute the alpha-string through beta (given by q and r, see Humphreys p. 145)\n",
    "(to be used in order to simplify a matrix using the Chevalley \n",
    "commutator relations using the root vectors that were defined previously)\n",
    "\n",
    "define nil_coefs and vec_coefs as ORDERED DICTIONARIES where the keys are the roots and the values are the coefficients\n",
    "\"\"\"\n",
    "\n",
    "def get_rstring_old(nil_coefs, vec_coefs, roots):\n",
    "    rstring_dict = {}\n",
    "    for alpha in range(len(list(nil_coefs.keys()))):\n",
    "        for beta in range(len(list(vec_coefs.keys()))):\n",
    "            # Compute the alpha-string through beta (alpha i-string through alpha j)\n",
    "            gamma = list(vec_coefs.keys())[beta]\n",
    "            q = 0\n",
    "            while gamma in roots:\n",
    "                gamma = tuple(np.add(gamma, list(nil_coefs.keys())[alpha]))\n",
    "                #print(str(list(nil_coefs.keys())[alpha])+str(list(vec_coefs.keys())[beta]),gamma)\n",
    "                if gamma in roots:\n",
    "                    q += 1\n",
    "                \n",
    "            gamma = list(vec_coefs.keys())[beta]\n",
    "            r = 0\n",
    "            while gamma in roots:\n",
    "                gamma = tuple(np.subtract(gamma, list(nil_coefs.keys())[alpha]))\n",
    "                if gamma in roots:\n",
    "                    r += 1\n",
    "            rstring_dict.setdefault(str(list(nil_coefs.keys())[alpha])+str(list(vec_coefs.keys())[beta]),{'q':q,'r':r})\n",
    "            # Compute the bracket\n",
    "            #XiXj = \n",
    "        return rstring_dict"
   ]
  },
  {
   "cell_type": "code",
   "execution_count": null,
   "metadata": {},
   "outputs": [],
   "source": [
    "\"\"\"\n",
    "Function to simplify a matrix using the Chevalley commutator relations using the root vectors that were defined previously\n",
    "\n",
    "define nil_coefs and vec_coefs as DICTIONARIES\n",
    "\"\"\""
   ]
  },
  {
   "cell_type": "code",
   "execution_count": 68,
   "metadata": {},
   "outputs": [
    {
     "name": "stderr",
     "output_type": "stream",
     "text": [
      "<>:3: DeprecationWarning: invalid escape sequence \\m\n",
      "<>:3: DeprecationWarning: invalid escape sequence \\m\n",
      "<>:3: DeprecationWarning: invalid escape sequence \\m\n",
      "<ipython-input-68-104dbd72c16d>:3: DeprecationWarning: invalid escape sequence \\m\n",
      "  \"\"\"\n"
     ]
    },
    {
     "data": {
      "text/plain": [
       "{'m0': [[3, 0],\n",
       "  [2, 3],\n",
       "  [1, 2],\n",
       "  [2, 0],\n",
       "  [1, 3],\n",
       "  [2, 6],\n",
       "  [1, 0],\n",
       "  [1, 6],\n",
       "  [1, 5]],\n",
       " 'm1': [[2, 3], [1, 2], [2, 0], [1, 3], [2, 6], [1, 0], [1, 6], [1, 5]],\n",
       " 'm2': [[1, 2], [2, 0], [1, 3], [2, 6], [1, 0], [1, 6], [1, 5]],\n",
       " 'm3': [[2, 0], [1, 3], [2, 6], [1, 0], [1, 6], [1, 5]],\n",
       " 'm4': [[1, 3], [2, 6], [1, 0], [1, 6], [1, 5]],\n",
       " 'm5': [[2, 6], [1, 0], [1, 6], [1, 5]],\n",
       " 'm6': [[1, 0], [1, 6], [1, 5]],\n",
       " 'm7': [[1, 6], [1, 5]],\n",
       " 'm8': [[1, 5]]}"
      ]
     },
     "execution_count": 68,
     "metadata": {},
     "output_type": "execute_result"
    }
   ],
   "source": [
    "\"\"\"\n",
    "SCRATCH\n",
    "\n",
    "Compute the NT-submodules $\\mathfrak{m}_i$ as coordinates rather than matrices\n",
    "\"\"\"\n",
    "mi_dict = {}\n",
    "for i in range(num_roots):\n",
    "    hilo = \"m\" + str(i)\n",
    "    mi = []\n",
    "    mi.append(rvecs[roots[i]]['coords'])\n",
    "    for k in range(i+1, num_roots):\n",
    "        mi.append(rvecs[roots[k]]['coords'])\n",
    "        #print(k,roots[k])\n",
    "    \n",
    "    mi_dict.setdefault(hilo,mi)\n",
    "mi_dict"
   ]
  },
  {
   "cell_type": "markdown",
   "metadata": {},
   "source": [
    "# Scratch"
   ]
  },
  {
   "cell_type": "code",
   "execution_count": 103,
   "metadata": {},
   "outputs": [
    {
     "name": "stdout",
     "output_type": "stream",
     "text": [
      "[[3, 0], [2, 3], [1, 2], [2, 0], [1, 3], [2, 6], [1, 0], [1, 6], [1, 5]]\n",
      "[3, 0]\n",
      "[[3, 0], [2, 3], [1, 2], [2, 0], [1, 3], [2, 6], [1, 0], [1, 6], [1, 5]]\n",
      "[2, 3]\n",
      "[[3, 0], [2, 3], [1, 2], [2, 0], [1, 3], [2, 6], [1, 0], [1, 6], [1, 5]]\n",
      "[1, 2]\n",
      "[[3, 0], [2, 3], [1, 2], [2, 0], [1, 3], [2, 6], [1, 0], [1, 6], [1, 5]]\n",
      "[2, 0]\n",
      "[[3, 0], [2, 3], [1, 2], [2, 0], [1, 3], [2, 6], [1, 0], [1, 6], [1, 5]]\n",
      "[1, 3]\n",
      "[[3, 0], [2, 3], [1, 2], [2, 0], [1, 3], [2, 6], [1, 0], [1, 6], [1, 5]]\n",
      "[2, 6]\n",
      "[[3, 0], [2, 3], [1, 2], [2, 0], [1, 3], [2, 6], [1, 0], [1, 6], [1, 5]]\n",
      "[1, 0]\n",
      "[[3, 0], [2, 3], [1, 2], [2, 0], [1, 3], [2, 6], [1, 0], [1, 6], [1, 5]]\n",
      "[1, 6]\n",
      "[[3, 0], [2, 3], [1, 2], [2, 0], [1, 3], [2, 6], [1, 0], [1, 6], [1, 5]]\n",
      "[1, 5]\n",
      "[[2, 3], [1, 2], [2, 0], [1, 3], [2, 6], [1, 0], [1, 6], [1, 5]]\n",
      "[2, 3]\n",
      "[[2, 3], [1, 2], [2, 0], [1, 3], [2, 6], [1, 0], [1, 6], [1, 5]]\n",
      "[1, 2]\n",
      "[[2, 3], [1, 2], [2, 0], [1, 3], [2, 6], [1, 0], [1, 6], [1, 5]]\n",
      "[2, 0]\n",
      "[[2, 3], [1, 2], [2, 0], [1, 3], [2, 6], [1, 0], [1, 6], [1, 5]]\n",
      "[1, 3]\n",
      "[[2, 3], [1, 2], [2, 0], [1, 3], [2, 6], [1, 0], [1, 6], [1, 5]]\n",
      "[2, 6]\n",
      "[[2, 3], [1, 2], [2, 0], [1, 3], [2, 6], [1, 0], [1, 6], [1, 5]]\n",
      "[1, 0]\n",
      "[[2, 3], [1, 2], [2, 0], [1, 3], [2, 6], [1, 0], [1, 6], [1, 5]]\n",
      "[1, 6]\n",
      "[[2, 3], [1, 2], [2, 0], [1, 3], [2, 6], [1, 0], [1, 6], [1, 5]]\n",
      "[1, 5]\n",
      "[[1, 2], [2, 0], [1, 3], [2, 6], [1, 0], [1, 6], [1, 5]]\n",
      "[1, 2]\n",
      "[[1, 2], [2, 0], [1, 3], [2, 6], [1, 0], [1, 6], [1, 5]]\n",
      "[2, 0]\n",
      "[[1, 2], [2, 0], [1, 3], [2, 6], [1, 0], [1, 6], [1, 5]]\n",
      "[1, 3]\n",
      "[[1, 2], [2, 0], [1, 3], [2, 6], [1, 0], [1, 6], [1, 5]]\n",
      "[2, 6]\n",
      "[[1, 2], [2, 0], [1, 3], [2, 6], [1, 0], [1, 6], [1, 5]]\n",
      "[1, 0]\n",
      "[[1, 2], [2, 0], [1, 3], [2, 6], [1, 0], [1, 6], [1, 5]]\n",
      "[1, 6]\n",
      "[[1, 2], [2, 0], [1, 3], [2, 6], [1, 0], [1, 6], [1, 5]]\n",
      "[1, 5]\n",
      "[[2, 0], [1, 3], [2, 6], [1, 0], [1, 6], [1, 5]]\n",
      "[2, 0]\n",
      "[[2, 0], [1, 3], [2, 6], [1, 0], [1, 6], [1, 5]]\n",
      "[1, 3]\n",
      "[[2, 0], [1, 3], [2, 6], [1, 0], [1, 6], [1, 5]]\n",
      "[2, 6]\n",
      "[[2, 0], [1, 3], [2, 6], [1, 0], [1, 6], [1, 5]]\n",
      "[1, 0]\n",
      "[[2, 0], [1, 3], [2, 6], [1, 0], [1, 6], [1, 5]]\n",
      "[1, 6]\n",
      "[[2, 0], [1, 3], [2, 6], [1, 0], [1, 6], [1, 5]]\n",
      "[1, 5]\n",
      "[[1, 3], [2, 6], [1, 0], [1, 6], [1, 5]]\n",
      "[1, 3]\n",
      "[[1, 3], [2, 6], [1, 0], [1, 6], [1, 5]]\n",
      "[2, 6]\n",
      "[[1, 3], [2, 6], [1, 0], [1, 6], [1, 5]]\n",
      "[1, 0]\n",
      "[[1, 3], [2, 6], [1, 0], [1, 6], [1, 5]]\n",
      "[1, 6]\n",
      "[[1, 3], [2, 6], [1, 0], [1, 6], [1, 5]]\n",
      "[1, 5]\n",
      "[[2, 6], [1, 0], [1, 6], [1, 5]]\n",
      "[2, 6]\n",
      "[[2, 6], [1, 0], [1, 6], [1, 5]]\n",
      "[1, 0]\n",
      "[[2, 6], [1, 0], [1, 6], [1, 5]]\n",
      "[1, 6]\n",
      "[[2, 6], [1, 0], [1, 6], [1, 5]]\n",
      "[1, 5]\n",
      "[[1, 0], [1, 6], [1, 5]]\n",
      "[1, 0]\n",
      "[[1, 0], [1, 6], [1, 5]]\n",
      "[1, 6]\n",
      "[[1, 0], [1, 6], [1, 5]]\n",
      "[1, 5]\n",
      "[[1, 6], [1, 5]]\n",
      "[1, 6]\n",
      "[[1, 6], [1, 5]]\n",
      "[1, 5]\n",
      "[[1, 5]]\n",
      "[1, 5]\n"
     ]
    }
   ],
   "source": [
    "# SCRATCH\n",
    "m_list = []\n",
    "for level in range(num_roots):\n",
    "    mat = nil_rad\n",
    "    #print(mat)\n",
    "    for rspace in range(len(mi_dict['m'+str(level)])):\n",
    "        print(mi_dict['m'+str(level)])\n",
    "        coords = mi_dict['m'+str(level)][rspace]\n",
    "        print(coords)\n",
    "        mat[coords[0],coords[1]] = 0\n",
    "        m_list.append(mat)"
   ]
  },
  {
   "cell_type": "code",
   "execution_count": 141,
   "metadata": {},
   "outputs": [
    {
     "name": "stdout",
     "output_type": "stream",
     "text": [
      "[[0 0 0 0 0 0 0]\n",
      " [0 0 0 0 0 0 0]\n",
      " [0 0 0 0 0 0 0]\n",
      " [0 0 0 0 0 0 0]\n",
      " [0 0 0 0 0 0 0]\n",
      " [0 0 0 0 0 0 0]\n",
      " [0 0 0 0 0 0 0]]\n",
      "[[0 0 0 0 -n001*n110 -n001*n010 0]\n",
      " [n001*n110 0 0 0 0 0 -n001*n111]\n",
      " [n001*n010 0 0 0 0 0 -n001*n011]\n",
      " [0 0 0 0 n001*n111 n001*n011 0]\n",
      " [0 0 0 0 0 0 0]\n",
      " [0 0 0 0 0 0 0]\n",
      " [0 0 0 0 0 0 0]]\n",
      "[[0 0 0 0 -n001*n110 0 0]\n",
      " [n001*n110 0 0 n010*n100 0 -n010*n112 -n001*n111]\n",
      " [0 0 0 0 n010*n112 0 -n001*n011]\n",
      " [0 0 0 0 n001*n111 n001*n011 0]\n",
      " [0 0 0 0 0 0 0]\n",
      " [0 0 0 0 0 0 0]\n",
      " [0 0 0 0 -n010*n100 0 0]]\n",
      "[[0 0 0 0 n011*n100 - n001*n110 0 0]\n",
      " [-n011*n100 + n001*n110 0 0 0 0 -n010*n112 -n012*n100 - n001*n111]\n",
      " [0 0 0 0 n010*n112 0 -n001*n011]\n",
      " [0 0 0 0 n012*n100 + n001*n111 n001*n011 0]\n",
      " [0 0 0 0 0 0 0]\n",
      " [0 0 0 0 0 0 0]\n",
      " [0 0 0 0 0 0 0]]\n",
      "[[0 0 0 0 -n001*n110 0 0]\n",
      " [n001*n110 0 0 0 0 -n011*n111 - n010*n112 -n012*n100 - n001*n111]\n",
      " [0 0 0 0 n011*n111 + n010*n112 0 0]\n",
      " [0 0 0 0 n012*n100 + n001*n111 0 0]\n",
      " [0 0 0 0 0 0 0]\n",
      " [0 0 0 0 0 0 0]\n",
      " [0 0 0 0 0 0 0]]\n",
      "[[0 0 0 0 0 0 0]\n",
      " [0 0 0 0 0 n012*n110 - n011*n111 - n010*n112 -n012*n100 - n001*n111]\n",
      " [0 0 0 0 -n012*n110 + n011*n111 + n010*n112 0 0]\n",
      " [0 0 0 0 n012*n100 + n001*n111 0 0]\n",
      " [0 0 0 0 0 0 0]\n",
      " [0 0 0 0 0 0 0]\n",
      " [0 0 0 0 0 0 0]]\n",
      "[[0 0 0 0 0 0 0]\n",
      " [0 0 0 0 0 -n011*n111 - n010*n112 -n001*n111]\n",
      " [0 0 0 0 n011*n111 + n010*n112 0 0]\n",
      " [0 0 0 0 n001*n111 0 0]\n",
      " [0 0 0 0 0 0 0]\n",
      " [0 0 0 0 0 0 0]\n",
      " [0 0 0 0 0 0 0]]\n",
      "[[0 0 0 0 0 0 0]\n",
      " [0 0 0 0 0 -n010*n112 0]\n",
      " [0 0 0 0 n010*n112 0 0]\n",
      " [0 0 0 0 0 0 0]\n",
      " [0 0 0 0 0 0 0]\n",
      " [0 0 0 0 0 0 0]\n",
      " [0 0 0 0 0 0 0]]\n",
      "[[0 0 0 0 0 0 0]\n",
      " [0 0 0 0 0 0 0]\n",
      " [0 0 0 0 0 0 0]\n",
      " [0 0 0 0 0 0 0]\n",
      " [0 0 0 0 0 0 0]\n",
      " [0 0 0 0 0 0 0]\n",
      " [0 0 0 0 0 0 0]]\n"
     ]
    }
   ],
   "source": [
    "cand = nil_rad - mi_dict['m0']\n",
    "\n",
    "for i in range(len(roots)):\n",
    "    cand = nil_rad - mi_dict['m' + str(i)]\n",
    "    # Check if i is an inert point or a ramification point\n",
    "    bracket = nil_rad @ cand - cand @ nil_rad\n",
    "    print(bracket)"
   ]
  },
  {
   "cell_type": "code",
   "execution_count": 145,
   "metadata": {},
   "outputs": [
    {
     "data": {
      "text/plain": [
       "(0, 1, 1)"
      ]
     },
     "execution_count": 145,
     "metadata": {},
     "output_type": "execute_result"
    }
   ],
   "source": [
    "list(rvecs.keys())[1]"
   ]
  },
  {
   "cell_type": "code",
   "execution_count": 162,
   "metadata": {},
   "outputs": [
    {
     "data": {
      "text/plain": [
       "array([[0, 0, 0, 0, 0, -n011, 0],\n",
       "       [0, 0, 0, 0, 0, 0, 0],\n",
       "       [n011, 0, 0, 0, 0, 0, 0],\n",
       "       [0, 0, 0, 0, 0, 0, 0],\n",
       "       [0, 0, 0, 0, 0, 0, 0],\n",
       "       [0, 0, 0, 0, 0, 0, 0],\n",
       "       [0, 0, 0, 0, 0, 0, 0]], dtype=object)"
      ]
     },
     "execution_count": 162,
     "metadata": {},
     "output_type": "execute_result"
    }
   ],
   "source": [
    "mats[1]"
   ]
  },
  {
   "cell_type": "code",
   "execution_count": 169,
   "metadata": {},
   "outputs": [
    {
     "data": {
      "text/plain": [
       "array([[0, 0, 0, 0, n011*n100, 0, 0],\n",
       "       [-n011*n100, 0, 0, 0, 0, 0, -n001*n111],\n",
       "       [0, 0, 0, 0, 0, 0, -n001*n011],\n",
       "       [0, 0, 0, 0, n001*n111, n001*n011, 0],\n",
       "       [0, 0, 0, 0, 0, 0, 0],\n",
       "       [0, 0, 0, 0, 0, 0, 0],\n",
       "       [0, 0, 0, 0, 0, 0, 0]], dtype=object)"
      ]
     },
     "execution_count": 169,
     "metadata": {},
     "output_type": "execute_result"
    }
   ],
   "source": [
    "(mats[0]+mats[1])@nil_rad-nil_rad@(mats[0]+mats[1])"
   ]
  },
  {
   "cell_type": "code",
   "execution_count": 94,
   "metadata": {},
   "outputs": [
    {
     "data": {
      "text/plain": [
       "[(1, 0)]"
      ]
     },
     "execution_count": 94,
     "metadata": {},
     "output_type": "execute_result"
    }
   ],
   "source": [
    "# Initialize vec_coefs as a numpy array with the greatest number of entries we could possibly need\n",
    "# vec_coefs = np.zeros(len(roots),dtype = int)\n",
    "# REWRITE THIS NOT TO USE APPEND\n",
    "vec_roots = []\n",
    "for key in X:\n",
    "    if X[key] != 0:\n",
    "        vec_roots.append(key)\n",
    "\n",
    "vec_coefs"
   ]
  },
  {
   "cell_type": "code",
   "execution_count": 144,
   "metadata": {},
   "outputs": [
    {
     "data": {
      "text/plain": [
       "array([[0, 0, 0, 0, -n4, 0, 0],\n",
       "       [n4, 0, 0, 0, 0, -n0, 0],\n",
       "       [0, 0, 0, 0, n0, 0, n2],\n",
       "       [0, 0, 0, 0, 0, -n2, 0],\n",
       "       [0, 0, 0, 0, 0, 0, 0],\n",
       "       [0, 0, 0, 0, 0, 0, 0],\n",
       "       [0, 0, 0, 0, 0, 0, 0]], dtype=object)"
      ]
     },
     "execution_count": 144,
     "metadata": {},
     "output_type": "execute_result"
    }
   ],
   "source": [
    "nil_rad@rvecs[list(rvecs.keys())[1]]['matrix']-rvecs[list(rvecs.keys())[1]]['matrix']@nil_rad"
   ]
  },
  {
   "cell_type": "code",
   "execution_count": 52,
   "metadata": {},
   "outputs": [],
   "source": [
    "g = LieAlgebra(QQ, cartan_type=[G,l]) #, representation=\"matrix\""
   ]
  },
  {
   "cell_type": "code",
   "execution_count": 91,
   "metadata": {},
   "outputs": [
    {
     "data": {
      "text/plain": [
       "[alpha[1],\n",
       " alpha[2],\n",
       " alpha[3],\n",
       " alpha[1] + alpha[2],\n",
       " alpha[2] + 2*alpha[3],\n",
       " alpha[2] + alpha[3],\n",
       " alpha[1] + alpha[2] + 2*alpha[3],\n",
       " alpha[1] + alpha[2] + alpha[3],\n",
       " alpha[1] + 2*alpha[2] + 2*alpha[3]]"
      ]
     },
     "execution_count": 91,
     "metadata": {},
     "output_type": "execute_result"
    }
   ],
   "source": [
    "B3 = RootSystem([\"B\",3]).root_space()\n",
    "roots=list(B3.positive_roots())\n",
    "roots"
   ]
  },
  {
   "cell_type": "code",
   "execution_count": 53,
   "metadata": {},
   "outputs": [
    {
     "data": {
      "text/plain": [
       "Lie algebra of ['B', 3] in the Chevalley basis"
      ]
     },
     "execution_count": 53,
     "metadata": {},
     "output_type": "execute_result"
    }
   ],
   "source": [
    "g"
   ]
  },
  {
   "cell_type": "code",
   "execution_count": 19,
   "metadata": {
    "scrolled": true
   },
   "outputs": [
    {
     "data": {
      "text/plain": [
       "Finite family {alpha[1]: E[alpha[1]], alpha[2]: E[alpha[2]], alpha[3]: E[alpha[3]], -alpha[1]: E[-alpha[1]], -alpha[2]: E[-alpha[2]], -alpha[3]: E[-alpha[3]], alphacheck[1]: h1, alphacheck[2]: h2, alphacheck[3]: h3}"
      ]
     },
     "execution_count": 19,
     "metadata": {},
     "output_type": "execute_result"
    }
   ],
   "source": [
    "g.lie_algebra_generators()"
   ]
  },
  {
   "cell_type": "code",
   "execution_count": 20,
   "metadata": {},
   "outputs": [
    {
     "name": "stdout",
     "output_type": "stream",
     "text": [
      "Defining e1, e2, e3, f1, f2, f3, h1, h2, h3\n"
     ]
    }
   ],
   "source": [
    "g.inject_variables()"
   ]
  },
  {
   "cell_type": "code",
   "execution_count": 94,
   "metadata": {},
   "outputs": [
    {
     "name": "stdout",
     "output_type": "stream",
     "text": [
      "E[alpha[1]]\n"
     ]
    }
   ],
   "source": [
    "print(e1)"
   ]
  },
  {
   "cell_type": "code",
   "execution_count": 67,
   "metadata": {},
   "outputs": [],
   "source": [
    "n = LieAlgebra(QQ, cartan_type=['A',4], nilpotent=True)"
   ]
  },
  {
   "cell_type": "code",
   "execution_count": null,
   "metadata": {},
   "outputs": [],
   "source": [
    "# Fix an enumeration of the positive roots s.t. ht(\\beta_i)\\leq ht(\\beta_{i+1})\n",
    "\n"
   ]
  },
  {
   "cell_type": "code",
   "execution_count": 100,
   "metadata": {},
   "outputs": [
    {
     "data": {
      "text/plain": [
       "(\n",
       "[ 0  1  0  0  0]  [ 0  0  0  0  0]  [ 0  0  0  0  0]  [ 0  0  0  0  0]\n",
       "[ 0  0  0  0  0]  [ 0  0  0  0  2]  [ 1  0  0  0  0]  [ 0  0  0  0  0]\n",
       "[ 0  0  0  0  0]  [ 0  0  0  0  0]  [ 0  0  0 -1  0]  [ 0  0  0  0  0]\n",
       "[ 0  0 -1  0  0]  [ 0  0  0  0  0]  [ 0  0  0  0  0]  [ 0  0  0  0 -1]\n",
       "[ 0  0  0  0  0], [ 0  0  0 -2  0], [ 0  0  0  0  0], [ 0  1  0  0  0],\n",
       "\n",
       "[ 1  0  0  0  0]  [ 0  0  0  0  0]\n",
       "[ 0 -1  0  0  0]  [ 0  2  0  0  0]\n",
       "[ 0  0 -1  0  0]  [ 0  0  0  0  0]\n",
       "[ 0  0  0  1  0]  [ 0  0  0 -2  0]\n",
       "[ 0  0  0  0  0], [ 0  0  0  0  0]\n",
       ")"
      ]
     },
     "execution_count": 100,
     "metadata": {},
     "output_type": "execute_result"
    }
   ],
   "source": [
    "so4 = lie_algebras.so(QQ, 5, representation='matrix'); so4\n",
    "so4.gens()"
   ]
  }
 ],
 "metadata": {
  "kernelspec": {
   "display_name": "SageMath 9.3",
   "language": "sage",
   "name": "sagemath"
  },
  "language_info": {
   "codemirror_mode": {
    "name": "ipython",
    "version": 3
   },
   "file_extension": ".py",
   "mimetype": "text/x-python",
   "name": "python",
   "nbconvert_exporter": "python",
   "pygments_lexer": "ipython3",
   "version": "3.7.10"
  }
 },
 "nbformat": 4,
 "nbformat_minor": 4
}
