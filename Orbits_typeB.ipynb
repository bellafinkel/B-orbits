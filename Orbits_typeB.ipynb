{
 "cells": [
  {
   "cell_type": "markdown",
   "metadata": {},
   "source": [
    "MAKE SURE THE CHOICE OF POSITIVE SIGN FOR THE CHEVALLEY COMMUTATION RELATIONS IS ACCEPTABLE https://www.ams.org/journals/mcom/2004-73-247/S0025-5718-03-01582-5/S0025-5718-03-01582-5.pdf "
   ]
  },
  {
   "cell_type": "code",
   "execution_count": 64,
   "metadata": {},
   "outputs": [],
   "source": [
    "import numpy as np\n",
    "from sympy import Matrix # Used to compute nullity"
   ]
  },
  {
   "cell_type": "code",
   "execution_count": 65,
   "metadata": {},
   "outputs": [],
   "source": [
    "G = 'B' # Type of classical algebraic group, Input: string 'A','B','C', or 'D'\n",
    "l = 2 # Rank, Input: positive integer\n",
    "n = 2*l+1 # Square matrix dimension for type B"
   ]
  },
  {
   "cell_type": "code",
   "execution_count": 66,
   "metadata": {},
   "outputs": [],
   "source": [
    "\"\"\"\n",
    "Replace all the .replace(\"(\", \"\").replace(\")\", \"\").replace(\" \", \"\").replace(\",\", \"\") with this\n",
    "\"\"\"\n",
    "def tup_to_str(tuple):\n",
    "    return str(tuple).replace(\"(\", \"\").replace(\")\", \"\").replace(\" \", \"\").replace(\",\", \"\")"
   ]
  },
  {
   "cell_type": "code",
   "execution_count": 67,
   "metadata": {
    "scrolled": true
   },
   "outputs": [
    {
     "name": "stdout",
     "output_type": "stream",
     "text": [
      "{(1, 1): {'matrix': array([[ 0,  0,  0, -1,  0],\n",
      "       [ 1,  0,  0,  0,  0],\n",
      "       [ 0,  0,  0,  0,  0],\n",
      "       [ 0,  0,  0,  0,  0],\n",
      "       [ 0,  0,  0,  0,  0]]), 'coords': [[1, 0], [0, 3]]}, (0, 1): {'matrix': array([[ 0,  0,  0,  0, -1],\n",
      "       [ 0,  0,  0,  0,  0],\n",
      "       [ 1,  0,  0,  0,  0],\n",
      "       [ 0,  0,  0,  0,  0],\n",
      "       [ 0,  0,  0,  0,  0]]), 'coords': [[2, 0], [0, 4]]}, (1, 2): {'matrix': array([[ 0,  0,  0,  0,  0],\n",
      "       [ 0,  0,  0,  0,  1],\n",
      "       [ 0,  0,  0, -1,  0],\n",
      "       [ 0,  0,  0,  0,  0],\n",
      "       [ 0,  0,  0,  0,  0]]), 'coords': [[1, 4], [2, 3]]}, (1, 0): {'matrix': array([[ 0,  0,  0,  0,  0],\n",
      "       [ 0,  0,  1,  0,  0],\n",
      "       [ 0,  0,  0,  0,  0],\n",
      "       [ 0,  0,  0,  0,  0],\n",
      "       [ 0,  0,  0, -1,  0]]), 'coords': [[1, 2], [4, 3]]}}\n"
     ]
    }
   ],
   "source": [
    "\"\"\"\n",
    "Make matrices for the root vectors for the positive roots in type B (i.e., the root vectors in the nilradical).\n",
    "Store the root vector matrices in a dictionary called rvecs where the keys are the eigenvector names given on page 131\n",
    "of Erdmann and the values are the eigenvectors as numpy arrays\n",
    "\n",
    "\"mat_type\" is the eigenvector matrix form given on page 131 of Erdmann\n",
    "\"indices\" is a list of the i,j indices\n",
    "\"matrix\" is the eigenvector corresponding to the root of specified type and indices\n",
    "\"coords\" are the coordinates of the positive nonzero matrix entry, to be used for the coordinate function\n",
    "\n",
    "Parameters: rank l\n",
    "\n",
    "Returns: dictionary\n",
    "\n",
    "\"\"\"\n",
    "def make_rvecs_B(l):\n",
    "    rvecs = {}\n",
    "\n",
    "    M = np.zeros((2*l+1,2*l+1),dtype = int)\n",
    "    # Add root vectors b_i for roots of the form epsilon_i to rvecs\n",
    "    for i in np.arange(1,l+1,1):\n",
    "        # b_ij\n",
    "        M[i,0] = 1\n",
    "        M[0,l+i] = -1\n",
    "        hilo = \"b\" + str(i)\n",
    "        coef = np.zeros(l, dtype = int) # Array of length the number of roots in the base\n",
    "        coef[i-1:l] = 1\n",
    "        coef = tuple(coef)\n",
    "        \n",
    "        rvecs.setdefault(coef, {\"matrix\":M, \"coords\":[[i,0],[0,l+i]]}) # index 1 \\leq i \\leq l\n",
    "        #rvecs.setdefault(coef, {\"matrix\":M, \"coords\":[[i,0]]})\n",
    "        \n",
    "        M = np.zeros((2*l+1,2*l+1),dtype = int)\n",
    "    for i in np.arange(1,l,1):\n",
    "        for j in np.arange(1,l+1,1):\n",
    "            # p_ij\n",
    "            if i<j:\n",
    "                M[i,l+j] = 1\n",
    "                M[j,l+i] = -1\n",
    "                hilo = \"p\" + str(i) + str(j)\n",
    "                coef = np.zeros(l, dtype = int) # Array of length the number of roots in the base\n",
    "                coef[i-1:j] = 1\n",
    "                coef[j-1:l] = 2\n",
    "                coef = tuple(coef)\n",
    "                \n",
    "                rvecs.setdefault(coef, {\"matrix\":M, \"coords\":[[i,l+j],[j,l+i]]}) # indices 1 \\leq i < j \\leq l\n",
    "                #rvecs.setdefault(coef, {\"matrix\":M, \"coords\":[[i,l+j]]})\n",
    "                \n",
    "                M = np.zeros((2*l+1,2*l+1),dtype = int)\n",
    "            # m_ij\n",
    "            if i != j and i<j:\n",
    "                M[i,j] = 1\n",
    "                M[l+j,l+i] = -1\n",
    "                hilo = \"m\" + str(i) + str(j)\n",
    "                coef = np.zeros(l, dtype = int) # Array of length the number of roots in the base\n",
    "                coef[i-1:j-1] = 1 \n",
    "                coef = tuple(coef)\n",
    "                \n",
    "                rvecs.setdefault(coef, {\"matrix\":M, \"coords\":[[i,j],[l+j,l+i]]})\n",
    "                #rvecs.setdefault(coef, {\"matrix\":M, \"coords\":[[i,j]]})\n",
    "                \n",
    "                M = np.zeros((2*l+1,2*l+1), dtype = int)\n",
    "    return rvecs\n",
    "\n",
    "rvecs = make_rvecs_B(l)\n",
    "print(rvecs)"
   ]
  },
  {
   "cell_type": "code",
   "execution_count": 68,
   "metadata": {},
   "outputs": [],
   "source": [
    "\"\"\"\n",
    "Fix a sequence of the positive roots with a (partial) ordering induced by increasing root height.\n",
    "\n",
    "Use the Sage function positive_roots_by_height(increasing=True)\n",
    "\n",
    "Parameters: Group type G, string\n",
    "            Rank, integer\n",
    "\n",
    "Returns: List of roots as tuples\n",
    "\"\"\"\n",
    "def make_root_order(G,l):\n",
    "    L = RootSystem([G,l]).root_lattice()\n",
    "    roots = [tuple(root.to_vector()) for root in L.positive_roots_by_height()]\n",
    "    return roots\n",
    "\n",
    "roots = make_root_order(G,l)\n",
    "num_roots = len(roots) # Store the number of positive roots for future loops"
   ]
  },
  {
   "cell_type": "code",
   "execution_count": 69,
   "metadata": {},
   "outputs": [
    {
     "name": "stderr",
     "output_type": "stream",
     "text": [
      "<>:13: DeprecationWarning: invalid escape sequence \\m\n",
      "<>:13: DeprecationWarning: invalid escape sequence \\m\n",
      "<>:13: DeprecationWarning: invalid escape sequence \\m\n",
      "<ipython-input-69-969feb4a3bad>:13: DeprecationWarning: invalid escape sequence \\m\n",
      "  \"\"\"\n"
     ]
    }
   ],
   "source": [
    "\"\"\"\n",
    "VERSION WHERE THE ENTRIES ARE THE DIFFERENT THAN THOSE IN THE NILRADICAL (r INSTEAD OF n)\n",
    "Compute the root spaces $\\mathfrak{g}_\\beta=\\mathbb{C}e_\\beta$\n",
    "\n",
    "Notes:\n",
    "This could be combined with the function that makes the nilradical\n",
    "The \"DeprecationWarning: invalid escape sequence \\m\" that returns when this cell is run in Jupyter is because of the \n",
    "backslash character used in the TeX for this comment\n",
    "\n",
    "Parameters: rvecs\n",
    "\n",
    "Returns: rspaces: dictionary with keys the roots as tuples and values the root spaces\n",
    "\"\"\"\n",
    "def make_root_spaces(rvecs):\n",
    "    rspaces = {} # Create a dictionary rspaces with keys the roots as stored in rvecs and values the root spaces k*e_alpha\n",
    "    num = len(rvecs) # Set the number of iterations to equal the number of positive roots; we'll need this for most things in this function\n",
    "    syms = np.array([var(\"r\"+str(list(rvecs.keys())[i]).replace(\"(\", \"\").replace(\")\", \"\").replace(\" \", \"\").replace(\",\", \"\")) for i in range(num)], dtype = object) # Name some not-necessarily-distinct field elements\n",
    "    # Note that rvecs[list(rvecs.keys())[1]]['matrix'] extracts the eigenvector matrix from rvecs\n",
    "    mats = [np.dot(syms[i],rvecs[list(rvecs.keys())[i]]['matrix']) for i in range(num)] # Multiply the root vectors by an arbitrary field element to get the root spaces\n",
    "    for i in range(num):\n",
    "        rspaces.setdefault(list(rvecs.keys())[i],mats[i])\n",
    "    return rspaces\n",
    "\n",
    "rspaces = make_root_spaces(rvecs)"
   ]
  },
  {
   "cell_type": "code",
   "execution_count": 70,
   "metadata": {
    "scrolled": true
   },
   "outputs": [
    {
     "name": "stderr",
     "output_type": "stream",
     "text": [
      "<>:13: DeprecationWarning: invalid escape sequence \\m\n",
      "<>:13: DeprecationWarning: invalid escape sequence \\m\n",
      "<>:13: DeprecationWarning: invalid escape sequence \\m\n",
      "<ipython-input-70-6312676660ef>:13: DeprecationWarning: invalid escape sequence \\m\n",
      "  \"\"\"\n"
     ]
    }
   ],
   "source": [
    "\"\"\"\n",
    "VERSION WHERE THE ENTRIES ARE THE SAME AS IN THE NILRADICAL\n",
    "Compute the root spaces $\\mathfrak{g}_\\beta=\\mathbb{C}e_\\beta$\n",
    "\n",
    "Notes:\n",
    "This could be combined with the function that makes the nilradical\n",
    "The \"DeprecationWarning: invalid escape sequence \\m\" that returns when this cell is run in Jupyter is because of the \n",
    "backslash character used in the TeX for this comment\n",
    "\n",
    "Parameters: rvecs\n",
    "\n",
    "Returns: rspaces: dictionary with keys the roots as tuples and values the root spaces\n",
    "\"\"\"\n",
    "def make_root_spaces(rvecs):\n",
    "    rspaces = {} # Create a dictionary rspaces with keys the roots as stored in rvecs and values the root spaces k*e_alpha\n",
    "    num = len(rvecs) # Set the number of iterations to equal the number of positive roots; we'll need this for most things in this function\n",
    "    syms = np.array([var(\"n\"+str(list(rvecs.keys())[i]).replace(\"(\", \"\").replace(\")\", \"\").replace(\" \", \"\").replace(\",\", \"\")) for i in range(num)], dtype = object) # Name some not-necessarily-distinct field elements\n",
    "    # Note that rvecs[list(rvecs.keys())[1]]['matrix'] extracts the eigenvector matrix from rvecs\n",
    "    mats = [np.dot(syms[i],rvecs[list(rvecs.keys())[i]]['matrix']) for i in range(num)] # Multiply the root vectors by an arbitrary field element to get the root spaces\n",
    "    for i in range(num):\n",
    "        rspaces.setdefault(list(rvecs.keys())[i],mats[i])\n",
    "    return rspaces\n",
    "\n",
    "rspaces = make_root_spaces(rvecs)"
   ]
  },
  {
   "cell_type": "code",
   "execution_count": 71,
   "metadata": {},
   "outputs": [
    {
     "data": {
      "text/plain": [
       "{(1,\n",
       "  1): array([[0, 0, 0, -n11, 0],\n",
       "        [n11, 0, 0, 0, 0],\n",
       "        [0, 0, 0, 0, 0],\n",
       "        [0, 0, 0, 0, 0],\n",
       "        [0, 0, 0, 0, 0]], dtype=object),\n",
       " (0,\n",
       "  1): array([[0, 0, 0, 0, -n01],\n",
       "        [0, 0, 0, 0, 0],\n",
       "        [n01, 0, 0, 0, 0],\n",
       "        [0, 0, 0, 0, 0],\n",
       "        [0, 0, 0, 0, 0]], dtype=object),\n",
       " (1,\n",
       "  2): array([[0, 0, 0, 0, 0],\n",
       "        [0, 0, 0, 0, n12],\n",
       "        [0, 0, 0, -n12, 0],\n",
       "        [0, 0, 0, 0, 0],\n",
       "        [0, 0, 0, 0, 0]], dtype=object),\n",
       " (1,\n",
       "  0): array([[0, 0, 0, 0, 0],\n",
       "        [0, 0, n10, 0, 0],\n",
       "        [0, 0, 0, 0, 0],\n",
       "        [0, 0, 0, 0, 0],\n",
       "        [0, 0, 0, -n10, 0]], dtype=object)}"
      ]
     },
     "execution_count": 71,
     "metadata": {},
     "output_type": "execute_result"
    }
   ],
   "source": [
    "rspaces"
   ]
  },
  {
   "cell_type": "code",
   "execution_count": 72,
   "metadata": {},
   "outputs": [],
   "source": [
    "\"\"\"\n",
    "Compute the coordinates of the not-necessarily-zero matrix entries associated to the root spaces\n",
    "\n",
    "Params: rvecs\n",
    "Returns: rspace_coords: Dictionary containing root tuples as keys and nonzero (not necessarily zero) coordinates as values\n",
    "\"\"\"\n",
    "\n",
    "def make_rspace_coords(rvecs):\n",
    "    # Dictionary containing root tuples as keys and nonzero (not necessarily zero) coordinates as values\n",
    "    rspace_coords = {list(rvecs.keys())[i]:list(rvecs.values())[i]['coords'] for i in range(len(rvecs))}\n",
    "    return rspace_coords\n",
    "rspace_coords = make_rspace_coords(rvecs)"
   ]
  },
  {
   "cell_type": "code",
   "execution_count": 73,
   "metadata": {},
   "outputs": [
    {
     "data": {
      "text/plain": [
       "array([[0, 0, 0, -n11, -n01],\n",
       "       [n11, 0, n10, 0, n12],\n",
       "       [n01, 0, 0, -n12, 0],\n",
       "       [0, 0, 0, 0, 0],\n",
       "       [0, 0, 0, -n10, 0]], dtype=object)"
      ]
     },
     "execution_count": 73,
     "metadata": {},
     "output_type": "execute_result"
    }
   ],
   "source": [
    "\"\"\"\n",
    "Compute a matrix representing an arbitrary element of the nilradical\n",
    "\n",
    "Input: rvecs\n",
    "Returns: numpy.ndarray ; Arbitrary element of the nilradical\n",
    "\"\"\"\n",
    "def make_nilrad(rvecs):\n",
    "    rspaces = {} # Create a dictionary rspaces with keys the roots as stored in rvecs and values the root spaces k*e_alpha\n",
    "    \n",
    "    num = len(rvecs) # Set the number of iterations to equal the number of positive roots; we'll need this for most things in this function\n",
    "    syms = np.array([var(\"n\"+str(list(rvecs.keys())[i]).replace(\"(\", \"\").replace(\")\", \"\").replace(\" \", \"\").replace(\",\", \"\")) for i in range(num)], dtype = object) # Name some not-necessarily-distinct field elements\n",
    "    # Note that rvecs[list(rvecs.keys())[1]]['matrix'] extracts the eigenvector matrix from rvecs\n",
    "    mats = [np.dot(syms[i],rvecs[list(rvecs.keys())[i]]['matrix']) for i in range(num)] # Multiply the root vectors by an arbitrary field element to get the root spaces\n",
    "    nil_rad = sum(mats) # Set an arbitrary element of the nilradical equal to the sum of the root spaces\n",
    "    \n",
    "    for i in range(num):\n",
    "        rspaces.setdefault(list(rvecs.keys())[i],mats[i])\n",
    "    \n",
    "    return nil_rad #,rspaces, mats\n",
    "\n",
    "nil_rad = make_nilrad(rvecs)\n",
    "nil_rad"
   ]
  },
  {
   "cell_type": "code",
   "execution_count": 74,
   "metadata": {
    "scrolled": true
   },
   "outputs": [
    {
     "name": "stderr",
     "output_type": "stream",
     "text": [
      "<>:3: DeprecationWarning: invalid escape sequence \\m\n",
      "<>:3: DeprecationWarning: invalid escape sequence \\m\n",
      "<>:3: DeprecationWarning: invalid escape sequence \\m\n",
      "<ipython-input-74-94be777e6d89>:3: DeprecationWarning: invalid escape sequence \\m\n",
      "  \"\"\"\n"
     ]
    },
    {
     "data": {
      "text/plain": [
       "{'m4': array([[0, 0, 0, 0, 0],\n",
       "        [0, 0, 0, 0, 0],\n",
       "        [0, 0, 0, 0, 0],\n",
       "        [0, 0, 0, 0, 0],\n",
       "        [0, 0, 0, 0, 0]]),\n",
       " 'm0': array([[0, 0, 0, -n11, -n01],\n",
       "        [n11, 0, n10, 0, n12],\n",
       "        [n01, 0, 0, -n12, 0],\n",
       "        [0, 0, 0, 0, 0],\n",
       "        [0, 0, 0, -n10, 0]], dtype=object),\n",
       " 'm1': array([[0, 0, 0, -n11, 0],\n",
       "        [n11, 0, n10, 0, n12],\n",
       "        [0, 0, 0, -n12, 0],\n",
       "        [0, 0, 0, 0, 0],\n",
       "        [0, 0, 0, -n10, 0]], dtype=object),\n",
       " 'm2': array([[0, 0, 0, -n11, 0],\n",
       "        [n11, 0, 0, 0, n12],\n",
       "        [0, 0, 0, -n12, 0],\n",
       "        [0, 0, 0, 0, 0],\n",
       "        [0, 0, 0, 0, 0]], dtype=object),\n",
       " 'm3': array([[0, 0, 0, 0, 0],\n",
       "        [0, 0, 0, 0, n12],\n",
       "        [0, 0, 0, -n12, 0],\n",
       "        [0, 0, 0, 0, 0],\n",
       "        [0, 0, 0, 0, 0]], dtype=object)}"
      ]
     },
     "execution_count": 74,
     "metadata": {},
     "output_type": "execute_result"
    }
   ],
   "source": [
    "\"\"\"\n",
    "Compute the NT-submodules $\\mathfrak{m}_i$\n",
    "\"\"\"\n",
    "def make_NT_submodules(n,roots,rspaces):\n",
    "    mi_dict = {'m'+str(len(roots)): np.zeros((n,n), dtype = int)}\n",
    "    for i in range(len(roots)):\n",
    "        hilo = \"m\" + str(i)\n",
    "        mi = rspaces[roots[i]]\n",
    "        for k in range(i+1, len(roots)):\n",
    "            mi += rspaces[roots[k]]\n",
    "            #print(k,roots[k])\n",
    "\n",
    "        mi_dict.setdefault(hilo,mi) #nil_rad-mi\n",
    "    return mi_dict\n",
    "\n",
    "mi_dict = make_NT_submodules(n,roots,rspaces)\n",
    "mi_dict"
   ]
  },
  {
   "cell_type": "code",
   "execution_count": 75,
   "metadata": {},
   "outputs": [
    {
     "name": "stderr",
     "output_type": "stream",
     "text": [
      "<>:3: DeprecationWarning: invalid escape sequence \\m\n",
      "<>:3: DeprecationWarning: invalid escape sequence \\m\n",
      "<>:3: DeprecationWarning: invalid escape sequence \\m\n",
      "<ipython-input-75-7264d48cac76>:3: DeprecationWarning: invalid escape sequence \\m\n",
      "  \"\"\"\n"
     ]
    },
    {
     "data": {
      "text/plain": [
       "{'m4': [],\n",
       " 'm0': [[2, 0], [0, 4], [1, 2], [4, 3], [1, 0], [0, 3], [1, 4], [2, 3]],\n",
       " 'm1': [[1, 2], [4, 3], [1, 0], [0, 3], [1, 4], [2, 3]],\n",
       " 'm2': [[1, 0], [0, 3], [1, 4], [2, 3]],\n",
       " 'm3': [[1, 4], [2, 3]]}"
      ]
     },
     "execution_count": 75,
     "metadata": {},
     "output_type": "execute_result"
    }
   ],
   "source": [
    "\"\"\"\n",
    "Compute the NT-submodules $\\mathfrak{m}_i$ in terms of their not-necessarily-zero-coordinates using rspace_coords\n",
    "\"\"\"\n",
    "# Dictionary containing root tuples as keys and nonzero (not necessarily zero) coordinates as values\n",
    "rspace_coords = {list(rvecs.keys())[i]:list(rvecs.values())[i]['coords'] for i in range(len(rvecs))}\n",
    "def make_NT_submodule_coords(n,roots,rspaces):\n",
    "    mi_dict_coords = {'m'+str(len(roots)): []}\n",
    "    for i in range(len(roots)):\n",
    "        hilo = \"m\" + str(i)\n",
    "        mi = rspace_coords[roots[i]]\n",
    "        for k in range(i+1, len(roots)):\n",
    "            mi += rspace_coords[roots[k]]\n",
    "            #print(k,roots[k])\n",
    "\n",
    "        mi_dict_coords.setdefault(hilo,mi) #nil_rad-mi\n",
    "    return mi_dict_coords\n",
    "\n",
    "mi_dict_coords = make_NT_submodule_coords(n,roots,rspaces)\n",
    "mi_dict_coords"
   ]
  },
  {
   "cell_type": "code",
   "execution_count": 76,
   "metadata": {},
   "outputs": [],
   "source": [
    "#mi_dict_coords = {'m1':[[0,3],[1,0],[1,2],[4,3],[1,4],[2,3]],'m2':[[0,3],[1,0],[1,4],[2,3]],'m3':[[1,4],[2,3]],'m4':[],'m0':[[2, 0], [0, 4], [1, 2], [4, 3], [1, 0], [0, 3], [1, 4], [2, 3]]}"
   ]
  },
  {
   "cell_type": "code",
   "execution_count": 77,
   "metadata": {},
   "outputs": [
    {
     "data": {
      "text/plain": [
       "{(1, 1): [[1, 0], [0, 3], [1, 4], [2, 3]],\n",
       " (0, 1): [[2, 0], [0, 4], [1, 2], [4, 3], [1, 0], [0, 3], [1, 4], [2, 3]],\n",
       " (1, 2): [[1, 4], [2, 3]],\n",
       " (1, 0): [[1, 2], [4, 3], [1, 0], [0, 3], [1, 4], [2, 3]]}"
      ]
     },
     "execution_count": 77,
     "metadata": {},
     "output_type": "execute_result"
    }
   ],
   "source": [
    "rspace_coords"
   ]
  },
  {
   "cell_type": "code",
   "execution_count": 78,
   "metadata": {},
   "outputs": [],
   "source": [
    "\"\"\"\n",
    "Function to compute the alpha-string through beta for the bracket [x_alpha,x_beta] (given by q and r, see Humphreys p. 145)\n",
    "\n",
    "Parameters: alpha: tuple \n",
    "    beta: tuple\n",
    "    roots: list of roots as tuples\n",
    "    \n",
    "Returns: q,r : integers\n",
    "\n",
    "\"\"\"\n",
    "def get_rstring(alpha, beta, roots):\n",
    "    #rstring_dict = {}\n",
    "    gamma = beta\n",
    "    q = 0\n",
    "    #print(gamma,type(gamma))\n",
    "    while gamma in roots:\n",
    "        gamma = tuple(np.add(gamma, alpha))\n",
    "        if gamma in roots:\n",
    "            q += 1\n",
    "                \n",
    "    gamma = beta\n",
    "    r = 0\n",
    "    while gamma in roots:\n",
    "        gamma = tuple(np.subtract(gamma, alpha))\n",
    "        if gamma in roots:\n",
    "            r += 1\n",
    "    return q,r"
   ]
  },
  {
   "cell_type": "code",
   "execution_count": 91,
   "metadata": {},
   "outputs": [],
   "source": [
    "def Chev_bracket(alpha, beta, roots, rvecs):\n",
    "    if alpha == beta:\n",
    "        bracket = 0\n",
    "    else:\n",
    "        q, r = get_rstring(alpha,beta,roots)\n",
    "        if q == 0:\n",
    "            bracket = 0\n",
    "        else:\n",
    "            #print(rvecs[tuple(np.add(alpha,beta))]['matrix'])\n",
    "            bracket = (r+1)*rvecs[tuple(np.add(alpha,beta))]['matrix'] #CHECK FOR SIGN CONVENTION\n",
    "    return bracket"
   ]
  },
  {
   "cell_type": "code",
   "execution_count": 80,
   "metadata": {},
   "outputs": [],
   "source": [
    "\"\"\"\n",
    "Function to compute the dimension of the centralizer of x in u using the Chevalley commutator relations using the root vectors that were defined previously\n",
    "\n",
    "define nil_coefs and vec_coefs as ORDERED DICTIONARIES where the keys are the roots and the values are the coefficients\n",
    "\n",
    "Params: nil_coefs: list with the same order as roots of symbolic coefficient names nalpha1tuple etc. # ORDERED DICTIONARY where the keys are the roots and the values are the coefficients\n",
    "    vec_coefs: ORDERED DICTIONARY where the keys are the roots and the values are the coefficients\n",
    "    roots\n",
    "    rvecs\n",
    "    n (matrix dimension)\n",
    "\n",
    "Returns: nullity\n",
    "\"\"\"\n",
    "def Chev_simp(nil_coefs, vec_coefs, roots, rvecs, n):\n",
    "    mat = np.zeros((n,n),dtype = int)\n",
    "    for alpha in roots: #nil_coefs: # nil_coefs.keys():\n",
    "        for beta in vec_coefs: # .keys():\n",
    "            bracket = Chev_bracket(alpha, beta, roots, rvecs)\n",
    "            a = nil_coefs[alpha]\n",
    "            b = vec_coefs[beta]\n",
    "            mat = np.add(mat, a*b*bracket)\n",
    "            \n",
    "    return mat"
   ]
  },
  {
   "cell_type": "code",
   "execution_count": 81,
   "metadata": {},
   "outputs": [],
   "source": [
    "\"\"\"\n",
    "Params: mat: matrix (numpy or probably some other kinds work too)\n",
    "\n",
    "Returns: nullity: integer\n",
    "\"\"\"\n",
    "\n",
    "def nullity(mat):\n",
    "    # Using Sympy      \n",
    "    mat = Matrix(mat)\n",
    "    NumCol = mat.shape[1]\n",
    "    rank = mat.rank()\n",
    "    # Nullity of the matrix\n",
    "    nullity = NumCol - rank\n",
    "    \n",
    "    return nullity"
   ]
  },
  {
   "cell_type": "code",
   "execution_count": 96,
   "metadata": {},
   "outputs": [],
   "source": [
    "\"\"\"\n",
    "X is the \n",
    "check_ramification(x, dimCu_prev, nil_coefs, mi)\n",
    "\"\"\"\n",
    "\n",
    "def check_ramification(X, dimCu, nil_coefs, rspace_coords,mi, mi_less):\n",
    "    # Remove root vectors with coefficient zero from X\n",
    "    #vec_roots = {key: value for key, value in X.items() if value != 0}\n",
    "    #vec_coefs = vec_roots.values()\n",
    "    vec_coefs = {key: value for key, value in X.items() if value != 0}\n",
    "    \n",
    "    \n",
    "    \n",
    "    mat = Chev_simp(nil_coefs, vec_coefs, roots, rvecs, n)\n",
    "    #print(\"mat\",mat)\n",
    "\n",
    "    mat_try = Chev_simp(nil_coefs, vec_coefs, roots, rvecs, n)\n",
    "    #print(\"mat try initial\",mat_try)\n",
    "    #print(\"mat[0]\",mat[0][3])\n",
    "    \n",
    "    #print(\"mat[0]\",mat[1,0])\n",
    "    \n",
    "    #mat_try = Chev_simp(nil_coefs, vec_coefs, roots, rvecs, n)\n",
    "    #print(mat_try)\n",
    "    \n",
    "    \n",
    "    pre_pre_mat = Chev_simp(nil_coefs, vec_coefs, roots, rvecs, n)\n",
    "    #print(\"zing\",pre_pre_mat)\n",
    "    \n",
    "    for t in range(len(mi_less)):\n",
    "        #print(mi_less[t])\n",
    "        tt = mi_less[t][0]\n",
    "        rr = mi_less[t][1]\n",
    "        mat_try[tt][rr] = 0\n",
    "        #print(\"HERE\",mat_try)\n",
    "    #print(\"NOW HERE\",mat_try)\n",
    "    #pre_mat = mat_try\n",
    "    dimCu = nullity(mat_try)\n",
    "    #print(\"HEY\",dimCu)\n",
    "    #print(\"mat_try_post_mod\",mat_try)\n",
    "\n",
    "    #print(\"dim_try\",dimCu,\"mat_try\",mat_try)\n",
    "    #print(\"mi_less\",mi_less)\n",
    "    \n",
    "    #print(\"zong\",pre_pre_mat)\n",
    "\n",
    "    # mod out by mi\n",
    "    for j in range(len(mi)):\n",
    "        #print(mi[j])\n",
    "        xx = mi[j][0]\n",
    "        yy = mi[j][1]\n",
    "        mat[xx][yy] = 0\n",
    "    #post_mat = mat\n",
    "    if nullity(mat) == dimCu:\n",
    "        #print(str(i) + \" is a ramification point\")\n",
    "        #print(\"pre pre mat\",pre_pre_mat)\n",
    "        #print(\"pre mat\",pre_mat)\n",
    "        #print(\"post mat\",mat)\n",
    "        print(\"dimCu\",dimCu,\"nullity(mat)\",nullity(mat))\n",
    "        print(\"mat try\",mat_try)\n",
    "        print(\"mat\",mat)\n",
    "        ramification = True\n",
    "        #print(mat)\n",
    "    elif nullity(mat) == dimCu - 1:\n",
    "        #print(str(i) + \" is an inert point\")\n",
    "        #print(\"pre pre mat\",pre_pre_mat)\n",
    "        #print(\"pre mat\",pre_mat)\n",
    "        #print(\"post mat\",mat)\n",
    "        print(\"dimCu\",dimCu,\"nullity(mat)\",nullity(mat))\n",
    "        print(\"mat try\",mat_try)\n",
    "        print(\"mat\",mat)\n",
    "        dimCu = nullity(mat)\n",
    "        ramification  = False\n",
    "        #print(mat)\n",
    "    else:\n",
    "        print(\"something went wrong\")\n",
    "        print(\"dimCu\",dimCu,\"nullity(mat)\",nullity(mat))\n",
    "        print(\"mi_less\",mi_less)\n",
    "        print(\"pre pre mat\",pre_pre_mat)\n",
    "        #print(\"pre mat\",pre_mat)\n",
    "        print(\"mat try\",mat_try)\n",
    "        print(\"mat\",mat)\n",
    "        #print(mi,mat)\n",
    "        ramification = None\n",
    "        dimCu = nullity(mat)\n",
    "        #raise ValueError(\"....\")\n",
    "        #print(mat)\n",
    "    return ramification, dimCu"
   ]
  },
  {
   "cell_type": "code",
   "execution_count": 97,
   "metadata": {},
   "outputs": [],
   "source": [
    "\"\"\"\n",
    "EXPERIMENT\n",
    "\"\"\"\n",
    "nil_coefs = dict(zip(roots,[var(\"n\"+str(roots[i]).replace(\"(\", \"\").replace(\")\", \"\").replace(\" \", \"\").replace(\",\", \"\")) for i in range(len(roots))]))\n",
    "\n",
    "\n",
    "X = dict(zip(roots, np.zeros(len(roots), dtype = int))) # Initial X: Dictionary where the keys are root tuples and the values are zero\n",
    "k = [\"level\"+str(i) for i in range(len(roots)+1)]\n",
    "v = [{} for i in range(len(roots)+1)]\n",
    "big_dict = dict(zip([\"level\"+str(i) for i in range(len(roots)+1)],[{} for i in range(len(roots)+1)])) # Level number corresponds to mi--i.e., it is one greater than the index i used in the loop below\n",
    "big_dict[\"level0\"] = {\"0\":{\"dimCu\":n,\"X_dict\":dict(zip(roots, np.zeros(len(roots), dtype = int)))}}\n",
    "hilo_list = [var(\"k\" + str(tup_to_str(roots[i]))) for i in range(len(roots))]\n",
    "\n",
    "def min_reps(X,big_dict,roots):\n",
    "    for i in range(1,len(roots)+1): # mi naming is one greater than the index i #for key in big_dict: \n",
    "        mi = mi_dict_coords[\"m\" + str(i)]\n",
    "        mi_less = mi_dict_coords[\"m\" + str(i-1)]\n",
    "        for key in big_dict[\"level\"+str(i-1)]: # loop through the X as strings\n",
    "            x = big_dict[\"level\"+str(i-1)][key][\"X_dict\"]\n",
    "            dimCu_prev = big_dict[\"level\"+str(i-1)][key][\"dimCu\"]\n",
    "            print(\"i\",i,\"x\",x,\"dimCu_prev\",dimCu_prev)\n",
    "            ramification, dimCu = check_ramification(x, dimCu_prev, nil_coefs, rspace_coords, mi, mi_less)\n",
    "            #print(\"dimCu\",dimCu)\n",
    "            if ramification == True:  \n",
    "                print(str(i) + \" is a ramification point of \" + str(x))\n",
    "                #print(\"x\",x,\"dimCu_prev\",dimCu_prev,\"dimCu\",dimCu)\n",
    "                big_dict[\"level\"+str(i)][key + \"keb\" + tup_to_str(roots[i-1])] = {}\n",
    "                # figure out how to do this better\n",
    "                # and figure out how to do this better\n",
    "                X_make = dict(zip(roots, np.zeros(n, dtype = int)))\n",
    "                hilo = var(\"k\" + str(tup_to_str(roots[i-1])))\n",
    "                X_make[roots[i-1]] = hilo #X_make[str(roots[i-1])+str(np.random.randint(1,50))] = hilo\n",
    "                for rt in x:\n",
    "                    if x[rt] != 0:\n",
    "                        X_make[rt] = x[rt]\n",
    "                big_dict[\"level\"+str(i)][key + \"keb\" + tup_to_str(roots[i-1])][\"X_dict\"] = X_make\n",
    "                #oop, dimCu_new = check_ramification(X_make, dimCu_prev, nil_coefs, rspace_coords, mi)\n",
    "                big_dict[\"level\"+str(i)][key + \"keb\" + tup_to_str(roots[i-1])][\"dimCu\"] = dimCu#_new\n",
    "                \n",
    "                big_dict[\"level\"+str(i)][key] = {}\n",
    "                big_dict[\"level\"+str(i)][key][\"dimCu\"] = dimCu\n",
    "                big_dict[\"level\"+str(i)][key][\"X_dict\"] = x\n",
    "            else:\n",
    "                print(str(i) + \" is an inert point of \" + str(x))\n",
    "                #print(\"x\",x,\"dimCu_prev\",dimCu_prev,\"dimCu\",dimCu)\n",
    "                big_dict[\"level\"+str(i)][key] = {}\n",
    "                big_dict[\"level\"+str(i)][key][\"dimCu\"] = dimCu\n",
    "                big_dict[\"level\"+str(i)][key][\"X_dict\"] = x\n",
    "\n",
    "        #print(i,key,big_dict)\n",
    "    return big_dict"
   ]
  },
  {
   "cell_type": "code",
   "execution_count": 98,
   "metadata": {
    "scrolled": true
   },
   "outputs": [
    {
     "name": "stdout",
     "output_type": "stream",
     "text": [
      "i 1 x {(0, 1): 0, (1, 0): 0, (1, 1): 0, (1, 2): 0} dimCu_prev 5\n",
      "dimCu 5 nullity(mat) 5\n",
      "mat try [[0 0 0 0 0]\n",
      " [0 0 0 0 0]\n",
      " [0 0 0 0 0]\n",
      " [0 0 0 0 0]\n",
      " [0 0 0 0 0]]\n",
      "mat [[0 0 0 0 0]\n",
      " [0 0 0 0 0]\n",
      " [0 0 0 0 0]\n",
      " [0 0 0 0 0]\n",
      " [0 0 0 0 0]]\n",
      "1 is a ramification point of {(0, 1): 0, (1, 0): 0, (1, 1): 0, (1, 2): 0}\n",
      "i 2 x {(0, 1): k01, (1, 0): 0, (1, 1): 0, (1, 2): 0} dimCu_prev 5\n",
      "dimCu 5 nullity(mat) 5\n",
      "mat try [[0 0 0 0 0]\n",
      " [0 0 0 0 0]\n",
      " [0 0 0 0 0]\n",
      " [0 0 0 0 0]\n",
      " [0 0 0 0 0]]\n",
      "mat [[0 0 0 0 0]\n",
      " [0 0 0 0 0]\n",
      " [0 0 0 0 0]\n",
      " [0 0 0 0 0]\n",
      " [0 0 0 0 0]]\n",
      "2 is a ramification point of {(0, 1): k01, (1, 0): 0, (1, 1): 0, (1, 2): 0}\n",
      "i 2 x {(0, 1): 0, (1, 0): 0, (1, 1): 0, (1, 2): 0} dimCu_prev 5\n",
      "dimCu 5 nullity(mat) 5\n",
      "mat try [[0 0 0 0 0]\n",
      " [0 0 0 0 0]\n",
      " [0 0 0 0 0]\n",
      " [0 0 0 0 0]\n",
      " [0 0 0 0 0]]\n",
      "mat [[0 0 0 0 0]\n",
      " [0 0 0 0 0]\n",
      " [0 0 0 0 0]\n",
      " [0 0 0 0 0]\n",
      " [0 0 0 0 0]]\n",
      "2 is a ramification point of {(0, 1): 0, (1, 0): 0, (1, 1): 0, (1, 2): 0}\n",
      "i 3 x {(0, 1): k01, (1, 0): k10, (1, 1): 0, (1, 2): 0} dimCu_prev 5\n",
      "something went wrong\n",
      "dimCu 5 nullity(mat) 3\n",
      "mi_less [[1, 0], [0, 3], [1, 4], [2, 3]]\n",
      "pre pre mat [[0 0 0 -k10*n01 - k01*n10 0]\n",
      " [k10*n01 + k01*n10 0 0 0 k01*n11]\n",
      " [0 0 0 -k01*n11 0]\n",
      " [0 0 0 0 0]\n",
      " [0 0 0 0 0]]\n",
      "mat try [[0 0 0 0 0]\n",
      " [0 0 0 0 0]\n",
      " [0 0 0 0 0]\n",
      " [0 0 0 0 0]\n",
      " [0 0 0 0 0]]\n",
      "mat [[0 0 0 -k10*n01 - k01*n10 0]\n",
      " [k10*n01 + k01*n10 0 0 0 0]\n",
      " [0 0 0 0 0]\n",
      " [0 0 0 0 0]\n",
      " [0 0 0 0 0]]\n",
      "3 is an inert point of {(0, 1): k01, (1, 0): k10, (1, 1): 0, (1, 2): 0}\n",
      "i 3 x {(0, 1): k01, (1, 0): 0, (1, 1): 0, (1, 2): 0} dimCu_prev 5\n",
      "something went wrong\n",
      "dimCu 5 nullity(mat) 3\n",
      "mi_less [[1, 0], [0, 3], [1, 4], [2, 3]]\n",
      "pre pre mat [[0 0 0 -k01*n10 0]\n",
      " [k01*n10 0 0 0 k01*n11]\n",
      " [0 0 0 -k01*n11 0]\n",
      " [0 0 0 0 0]\n",
      " [0 0 0 0 0]]\n",
      "mat try [[0 0 0 0 0]\n",
      " [0 0 0 0 0]\n",
      " [0 0 0 0 0]\n",
      " [0 0 0 0 0]\n",
      " [0 0 0 0 0]]\n",
      "mat [[0 0 0 -k01*n10 0]\n",
      " [k01*n10 0 0 0 0]\n",
      " [0 0 0 0 0]\n",
      " [0 0 0 0 0]\n",
      " [0 0 0 0 0]]\n",
      "3 is an inert point of {(0, 1): k01, (1, 0): 0, (1, 1): 0, (1, 2): 0}\n",
      "i 3 x {(0, 1): 0, (1, 0): k10, (1, 1): 0, (1, 2): 0} dimCu_prev 5\n",
      "something went wrong\n",
      "dimCu 5 nullity(mat) 3\n",
      "mi_less [[1, 0], [0, 3], [1, 4], [2, 3]]\n",
      "pre pre mat [[0 0 0 -k10*n01 0]\n",
      " [k10*n01 0 0 0 0]\n",
      " [0 0 0 0 0]\n",
      " [0 0 0 0 0]\n",
      " [0 0 0 0 0]]\n",
      "mat try [[0 0 0 0 0]\n",
      " [0 0 0 0 0]\n",
      " [0 0 0 0 0]\n",
      " [0 0 0 0 0]\n",
      " [0 0 0 0 0]]\n",
      "mat [[0 0 0 -k10*n01 0]\n",
      " [k10*n01 0 0 0 0]\n",
      " [0 0 0 0 0]\n",
      " [0 0 0 0 0]\n",
      " [0 0 0 0 0]]\n",
      "3 is an inert point of {(0, 1): 0, (1, 0): k10, (1, 1): 0, (1, 2): 0}\n",
      "i 3 x {(0, 1): 0, (1, 0): 0, (1, 1): 0, (1, 2): 0} dimCu_prev 5\n",
      "dimCu 5 nullity(mat) 5\n",
      "mat try [[0 0 0 0 0]\n",
      " [0 0 0 0 0]\n",
      " [0 0 0 0 0]\n",
      " [0 0 0 0 0]\n",
      " [0 0 0 0 0]]\n",
      "mat [[0 0 0 0 0]\n",
      " [0 0 0 0 0]\n",
      " [0 0 0 0 0]\n",
      " [0 0 0 0 0]\n",
      " [0 0 0 0 0]]\n",
      "3 is a ramification point of {(0, 1): 0, (1, 0): 0, (1, 1): 0, (1, 2): 0}\n",
      "i 4 x {(0, 1): k01, (1, 0): k10, (1, 1): 0, (1, 2): 0} dimCu_prev 3\n",
      "dimCu 3 nullity(mat) 3\n",
      "mat try [[0 0 0 -k10*n01 - k01*n10 0]\n",
      " [k10*n01 + k01*n10 0 0 0 0]\n",
      " [0 0 0 0 0]\n",
      " [0 0 0 0 0]\n",
      " [0 0 0 0 0]]\n",
      "mat [[0 0 0 -k10*n01 - k01*n10 0]\n",
      " [k10*n01 + k01*n10 0 0 0 k01*n11]\n",
      " [0 0 0 -k01*n11 0]\n",
      " [0 0 0 0 0]\n",
      " [0 0 0 0 0]]\n",
      "4 is a ramification point of {(0, 1): k01, (1, 0): k10, (1, 1): 0, (1, 2): 0}\n",
      "i 4 x {(0, 1): k01, (1, 0): 0, (1, 1): 0, (1, 2): 0} dimCu_prev 3\n",
      "dimCu 3 nullity(mat) 3\n",
      "mat try [[0 0 0 -k01*n10 0]\n",
      " [k01*n10 0 0 0 0]\n",
      " [0 0 0 0 0]\n",
      " [0 0 0 0 0]\n",
      " [0 0 0 0 0]]\n",
      "mat [[0 0 0 -k01*n10 0]\n",
      " [k01*n10 0 0 0 k01*n11]\n",
      " [0 0 0 -k01*n11 0]\n",
      " [0 0 0 0 0]\n",
      " [0 0 0 0 0]]\n",
      "4 is a ramification point of {(0, 1): k01, (1, 0): 0, (1, 1): 0, (1, 2): 0}\n",
      "i 4 x {(0, 1): 0, (1, 0): k10, (1, 1): 0, (1, 2): 0} dimCu_prev 3\n",
      "dimCu 3 nullity(mat) 3\n",
      "mat try [[0 0 0 -k10*n01 0]\n",
      " [k10*n01 0 0 0 0]\n",
      " [0 0 0 0 0]\n",
      " [0 0 0 0 0]\n",
      " [0 0 0 0 0]]\n",
      "mat [[0 0 0 -k10*n01 0]\n",
      " [k10*n01 0 0 0 0]\n",
      " [0 0 0 0 0]\n",
      " [0 0 0 0 0]\n",
      " [0 0 0 0 0]]\n",
      "4 is a ramification point of {(0, 1): 0, (1, 0): k10, (1, 1): 0, (1, 2): 0}\n",
      "i 4 x {(0, 1): 0, (1, 0): 0, (1, 1): k11, (1, 2): 0} dimCu_prev 5\n",
      "something went wrong\n",
      "dimCu 5 nullity(mat) 3\n",
      "mi_less [[1, 4], [2, 3]]\n",
      "pre pre mat [[0 0 0 0 0]\n",
      " [0 0 0 0 2*k11*n01]\n",
      " [0 0 0 -2*k11*n01 0]\n",
      " [0 0 0 0 0]\n",
      " [0 0 0 0 0]]\n",
      "mat try [[0 0 0 0 0]\n",
      " [0 0 0 0 0]\n",
      " [0 0 0 0 0]\n",
      " [0 0 0 0 0]\n",
      " [0 0 0 0 0]]\n",
      "mat [[0 0 0 0 0]\n",
      " [0 0 0 0 2*k11*n01]\n",
      " [0 0 0 -2*k11*n01 0]\n",
      " [0 0 0 0 0]\n",
      " [0 0 0 0 0]]\n",
      "4 is an inert point of {(0, 1): 0, (1, 0): 0, (1, 1): k11, (1, 2): 0}\n",
      "i 4 x {(0, 1): 0, (1, 0): 0, (1, 1): 0, (1, 2): 0} dimCu_prev 5\n",
      "dimCu 5 nullity(mat) 5\n",
      "mat try [[0 0 0 0 0]\n",
      " [0 0 0 0 0]\n",
      " [0 0 0 0 0]\n",
      " [0 0 0 0 0]\n",
      " [0 0 0 0 0]]\n",
      "mat [[0 0 0 0 0]\n",
      " [0 0 0 0 0]\n",
      " [0 0 0 0 0]\n",
      " [0 0 0 0 0]\n",
      " [0 0 0 0 0]]\n",
      "4 is a ramification point of {(0, 1): 0, (1, 0): 0, (1, 1): 0, (1, 2): 0}\n"
     ]
    },
    {
     "data": {
      "text/plain": [
       "{'level0': {'0': {'dimCu': 5,\n",
       "   'X_dict': {(0, 1): 0, (1, 0): 0, (1, 1): 0, (1, 2): 0}}},\n",
       " 'level1': {'0keb01': {'X_dict': {(0, 1): k01,\n",
       "    (1, 0): 0,\n",
       "    (1, 1): 0,\n",
       "    (1, 2): 0},\n",
       "   'dimCu': 5},\n",
       "  '0': {'dimCu': 5, 'X_dict': {(0, 1): 0, (1, 0): 0, (1, 1): 0, (1, 2): 0}}},\n",
       " 'level2': {'0keb01keb10': {'X_dict': {(0, 1): k01,\n",
       "    (1, 0): k10,\n",
       "    (1, 1): 0,\n",
       "    (1, 2): 0},\n",
       "   'dimCu': 5},\n",
       "  '0keb01': {'dimCu': 5,\n",
       "   'X_dict': {(0, 1): k01, (1, 0): 0, (1, 1): 0, (1, 2): 0}},\n",
       "  '0keb10': {'X_dict': {(0, 1): 0, (1, 0): k10, (1, 1): 0, (1, 2): 0},\n",
       "   'dimCu': 5},\n",
       "  '0': {'dimCu': 5, 'X_dict': {(0, 1): 0, (1, 0): 0, (1, 1): 0, (1, 2): 0}}},\n",
       " 'level3': {'0keb01keb10': {'dimCu': 3,\n",
       "   'X_dict': {(0, 1): k01, (1, 0): k10, (1, 1): 0, (1, 2): 0}},\n",
       "  '0keb01': {'dimCu': 3,\n",
       "   'X_dict': {(0, 1): k01, (1, 0): 0, (1, 1): 0, (1, 2): 0}},\n",
       "  '0keb10': {'dimCu': 3,\n",
       "   'X_dict': {(0, 1): 0, (1, 0): k10, (1, 1): 0, (1, 2): 0}},\n",
       "  '0keb11': {'X_dict': {(0, 1): 0, (1, 0): 0, (1, 1): k11, (1, 2): 0},\n",
       "   'dimCu': 5},\n",
       "  '0': {'dimCu': 5, 'X_dict': {(0, 1): 0, (1, 0): 0, (1, 1): 0, (1, 2): 0}}},\n",
       " 'level4': {'0keb01keb10keb12': {'X_dict': {(0, 1): k01,\n",
       "    (1, 0): k10,\n",
       "    (1, 1): 0,\n",
       "    (1, 2): k12},\n",
       "   'dimCu': 3},\n",
       "  '0keb01keb10': {'dimCu': 3,\n",
       "   'X_dict': {(0, 1): k01, (1, 0): k10, (1, 1): 0, (1, 2): 0}},\n",
       "  '0keb01keb12': {'X_dict': {(0, 1): k01, (1, 0): 0, (1, 1): 0, (1, 2): k12},\n",
       "   'dimCu': 3},\n",
       "  '0keb01': {'dimCu': 3,\n",
       "   'X_dict': {(0, 1): k01, (1, 0): 0, (1, 1): 0, (1, 2): 0}},\n",
       "  '0keb10keb12': {'X_dict': {(0, 1): 0, (1, 0): k10, (1, 1): 0, (1, 2): k12},\n",
       "   'dimCu': 3},\n",
       "  '0keb10': {'dimCu': 3,\n",
       "   'X_dict': {(0, 1): 0, (1, 0): k10, (1, 1): 0, (1, 2): 0}},\n",
       "  '0keb11': {'dimCu': 3,\n",
       "   'X_dict': {(0, 1): 0, (1, 0): 0, (1, 1): k11, (1, 2): 0}},\n",
       "  '0keb12': {'X_dict': {(0, 1): 0, (1, 0): 0, (1, 1): 0, (1, 2): k12},\n",
       "   'dimCu': 5},\n",
       "  '0': {'dimCu': 5, 'X_dict': {(0, 1): 0, (1, 0): 0, (1, 1): 0, (1, 2): 0}}}}"
      ]
     },
     "execution_count": 98,
     "metadata": {},
     "output_type": "execute_result"
    }
   ],
   "source": [
    "ohmy = min_reps(X,big_dict,roots)\n",
    "ohmy"
   ]
  },
  {
   "cell_type": "code",
   "execution_count": 99,
   "metadata": {
    "scrolled": true
   },
   "outputs": [
    {
     "name": "stdout",
     "output_type": "stream",
     "text": [
      "0keb01keb10keb12\n",
      "{'X_dict': {(0, 1): k01, (1, 0): k10, (1, 1): 0, (1, 2): k12}, 'dimCu': 3}\n",
      "0keb01keb10\n",
      "{'dimCu': 3, 'X_dict': {(0, 1): k01, (1, 0): k10, (1, 1): 0, (1, 2): 0}}\n",
      "0keb01keb12\n",
      "{'X_dict': {(0, 1): k01, (1, 0): 0, (1, 1): 0, (1, 2): k12}, 'dimCu': 3}\n",
      "0keb01\n",
      "{'dimCu': 3, 'X_dict': {(0, 1): k01, (1, 0): 0, (1, 1): 0, (1, 2): 0}}\n",
      "0keb10keb12\n",
      "{'X_dict': {(0, 1): 0, (1, 0): k10, (1, 1): 0, (1, 2): k12}, 'dimCu': 3}\n",
      "0keb10\n",
      "{'dimCu': 3, 'X_dict': {(0, 1): 0, (1, 0): k10, (1, 1): 0, (1, 2): 0}}\n",
      "0keb11\n",
      "{'dimCu': 3, 'X_dict': {(0, 1): 0, (1, 0): 0, (1, 1): k11, (1, 2): 0}}\n",
      "0keb12\n",
      "{'X_dict': {(0, 1): 0, (1, 0): 0, (1, 1): 0, (1, 2): k12}, 'dimCu': 5}\n",
      "0\n",
      "{'dimCu': 5, 'X_dict': {(0, 1): 0, (1, 0): 0, (1, 1): 0, (1, 2): 0}}\n",
      "9\n"
     ]
    }
   ],
   "source": [
    "count = 0\n",
    "for key in ohmy[\"level4\"]:\n",
    "    print(key)\n",
    "    count+=1\n",
    "    print(ohmy[\"level4\"][key])\n",
    "print(count)"
   ]
  },
  {
   "cell_type": "code",
   "execution_count": 21,
   "metadata": {},
   "outputs": [],
   "source": [
    "\"\"\"\n",
    "big_dict is a series of nested dictionaries\n",
    "key: \"level\" + str(i)\n",
    "value: dictionary with key X as a string and value a dictionary with key \"dimCu\" and corresponding value and \n",
    "\"X_dict,\" a dictionary where the keys are root tuples and the values are their coefficients\n",
    "Try printing big_dict[\"level0\"] for a simple example\n",
    "\"\"\"\n",
    "nil_coefs = dict(zip(roots,[var(\"n\"+str(roots[i]).replace(\"(\", \"\").replace(\")\", \"\").replace(\" \", \"\").replace(\",\", \"\")) for i in range(len(roots))]))\n",
    "\n",
    "\n",
    "X = dict(zip(roots, np.zeros(n, dtype = int))) # Initial X: Dictionary where the keys are root tuples and the values are zero\n",
    "k = [\"level\"+str(i) for i in range(len(roots)+1)]\n",
    "v = [{} for i in range(len(roots)+1)]\n",
    "big_dict = dict(zip([\"level\"+str(i) for i in range(len(roots)+1)],[{} for i in range(len(roots)+1)])) # Level number corresponds to mi--i.e., it is one greater than the index i used in the loop below\n",
    "big_dict[\"level0\"] = {\"0\":{\"dimCu\":n,\"X_dict\":dict(zip(roots, np.zeros(n, dtype = int)))}}\n",
    "\n",
    "def min_reps(X,big_dict,roots):\n",
    "    for i in range(1,len(roots)): # mi naming is one greater than the index i #for key in big_dict: \n",
    "        mi = mi_dict_coords[\"m\" + str(i)]\n",
    "        for key in big_dict[\"level\"+str(i-1)]: # loop through the X as strings\n",
    "            x = big_dict[\"level\"+str(i-1)][key][\"X_dict\"]\n",
    "            dimCu_prev = big_dict[\"level\"+str(i-1)][key][\"dimCu\"]\n",
    "            ramification, dimCu = check_ramification(x, dimCu_prev, nil_coefs, mi)"
   ]
  },
  {
   "cell_type": "code",
   "execution_count": 22,
   "metadata": {},
   "outputs": [],
   "source": [
    "#mi_dict_coords = {'m1':[[0,3],[1,0],[1,2],[4,3],[1,4],[2,3]],'m2':[[0,3],[1,0],[1,4],[2,3]],'m3':[[1,4],[2,3]],'m4':[],'m0':[[2, 0], [0, 4], [1, 2], [4, 3], [1, 0], [0, 3], [1, 4], [2, 3]]}"
   ]
  },
  {
   "cell_type": "code",
   "execution_count": null,
   "metadata": {},
   "outputs": [],
   "source": [
    "\"\"\"\n",
    "big_dict is a series of nested dictionaries\n",
    "key: \"level\" + str(i)\n",
    "value: dictionary with key X as a string and value a dictionary with key \"dimCu\" and corresponding value and \n",
    "\"X_dict,\" a dictionary where the keys are root tuples and the values are their coefficients\n",
    "Try printing big_dict[\"level0\"] for a simple example\n",
    "\"\"\"\n",
    "nil_coefs = dict(zip(roots,[var(\"n\"+str(roots[i]).replace(\"(\", \"\").replace(\")\", \"\").replace(\" \", \"\").replace(\",\", \"\")) for i in range(len(roots))]))\n",
    "\n",
    "\n",
    "X = dict(zip(roots, np.zeros(n, dtype = int))) # Initial X: Dictionary where the keys are root tuples and the values are zero\n",
    "k = [\"level\"+str(i) for i in range(len(roots)+1)]\n",
    "v = [{} for i in range(len(roots)+1)]\n",
    "big_dict = dict(zip([\"level\"+str(i) for i in range(len(roots)+1)],[{} for i in range(len(roots)+1)])) # Level number corresponds to mi--i.e., it is one greater than the index i used in the loop below\n",
    "big_dict[\"level0\"] = {\"0\":{\"dimCu\":n,\"X_dict\":dict(zip(roots, np.zeros(n, dtype = int)))}}\n",
    "\n",
    "def min_reps(X,big_dict,roots):\n",
    "    for i in range(1,len(roots)+1): # mi naming is one greater than the index i #for key in big_dict:\n",
    "        count = 0\n",
    "        mi = mi_dict_coords[\"m\" + str(i)]\n",
    "        for key in big_dict[\"level\"+str(i-1)]: # loop through the X as strings\n",
    "            x = big_dict[\"level\"+str(i-1)][key][\"X_dict\"]\n",
    "            #print(\"x\",x)\n",
    "            dimCu_prev = big_dict[\"level\"+str(i-1)][key][\"dimCu\"]\n",
    "            ramification, dimCu = check_ramification(X, dimCu_prev, nil_coefs, rspace_coords,mi)\n",
    "            #print(i,X,ramification)\n",
    "            if ramification == True:\n",
    "                \"\"\"\n",
    "                X_make = dict(zip(roots, np.zeros(n, dtype = int)))\n",
    "                for p in x:\n",
    "                    if x[p] != 0:\n",
    "                        X_make[p] = x[p]\n",
    "                        #print(p,x[p])\n",
    "                big_dict[\"level\"+str(i)][key + \"keb\" + tup_to_str(roots[i-1])][\"X_dict\"] = X_make\n",
    "                big_dict[\"level\"+str(i)][key] = {}\n",
    "                big_dict[\"level\"+str(i)][key][\"dimCu\"] = dimCu\n",
    "                big_dict[\"level\"+str(i)][key][\"X_dict\"] = x\n",
    "                \"\"\"\n",
    "                big_dict[\"level\"+str(i)][key] = {}\n",
    "                #print(big_dict[\"level\"+str(i+1)][key])\n",
    "                big_dict[\"level\"+str(i)][key][\"dimCu\"] = dimCu\n",
    "                big_dict[\"level\"+str(i)][key][\"X_dict\"] = x\n",
    "                \n",
    "                big_dict[\"level\"+str(i)][\"keb\" + tup_to_str(roots[i-1])] = {}\n",
    "                # figure out how to do this better\n",
    "                oop, dimCu_new = check_ramification(X, dimCu_prev, nil_coefs, rspace_coords,mi)\n",
    "                big_dict[\"level\"+str(i)][\"keb\" + tup_to_str(roots[i-1])][\"dimCu\"] = dimCu_new\n",
    "                # and figure out how to do this better\n",
    "                X_make = X\n",
    "                hilo = var(\"k\" + str(tup_to_str(roots[i-1])))\n",
    "                X_make[roots[i-1]] = hilo #X_make[str(roots[i-1])+str(np.random.randint(1,50))]\n",
    "                #print(i,key,X_make)\n",
    "                big_dict[\"level\"+str(i)][\"keb\" + tup_to_str(roots[i-1])][\"X_dict\"] = X_make\n",
    "                #print(\"i\",i,\"key\",\"X\",key,big_dict[\"level\"+str(i+1)][\"keb\" + tup_to_str(roots[i-1])][\"X_dict\"])\n",
    "                count += 1\n",
    "        print(count)\n",
    "        #else:\n",
    "            \n",
    "    return big_dict\n",
    "        \n",
    "ohmy = min_reps(X,big_dict,roots)"
   ]
  },
  {
   "cell_type": "code",
   "execution_count": 25,
   "metadata": {},
   "outputs": [],
   "source": [
    "    def ok_again(X,big_dict,roots,mi,i):\n",
    "        for key in big_dict[\"level\"+str(i-1)]: # loop through the X as strings\n",
    "            x = big_dict[\"level\"+str(i-1)][key][\"X_dict\"]\n",
    "            dimCu_prev = big_dict[\"level\"+str(i-1)][key][\"dimCu\"]\n",
    "            ramification, dimCu = check_ramification(x, dimCu_prev, nil_coefs, rspace_coords, mi)\n",
    "            big_dict[\"level\"+str(i)][key] = {}\n",
    "            big_dict[\"level\"+str(i)][key][\"dimCu\"] = dimCu\n",
    "            big_dict[\"level\"+str(i)][key][\"X_dict\"] = x\n",
    "            if ramification == True:\n",
    "                big_dict[\"level\"+str(i)][key + \"keb\" + tup_to_str(roots[i-1])] = {}\n",
    "                # figure out how to do this better\n",
    "                oop, dimCu_new = check_ramification(x, dimCu_prev, nil_coefs, rspace_coords, mi)\n",
    "                big_dict[\"level\"+str(i)][key + \"keb\" + tup_to_str(roots[i-1])][\"dimCu\"] = dimCu_new\n",
    "                # and figure out how to do this better\n",
    "                X_make = X\n",
    "                hilo = var(\"k\" + str(tup_to_str(roots[i-1])))\n",
    "                X_make[roots[i-1]] = hilo #X_make[str(roots[i-1])+str(np.random.randint(1,50))] = hilo\n",
    "                big_dict[\"level\"+str(i)][key + \"keb\" + tup_to_str(roots[i-1])][\"X_dict\"] = X_make\n",
    "            \n",
    "        return big_dict"
   ]
  },
  {
   "cell_type": "code",
   "execution_count": 26,
   "metadata": {},
   "outputs": [],
   "source": [
    "\"\"\"\n",
    "WORK ON ME\n",
    "big_dict is a series of nested dictionaries\n",
    "key: \"level\" + str(i)\n",
    "value: dictionary with key X as a string and value a dictionary with key \"dimCu\" and corresponding value and \n",
    "\"X_dict,\" a dictionary where the keys are root tuples and the values are their coefficients\n",
    "Try printing big_dict[\"level0\"] for a simple example\n",
    "\"\"\"\n",
    "nil_coefs = dict(zip(roots,[var(\"n\"+str(roots[i]).replace(\"(\", \"\").replace(\")\", \"\").replace(\" \", \"\").replace(\",\", \"\")) for i in range(len(roots))]))\n",
    "\n",
    "\n",
    "X = dict(zip(roots, np.zeros(n, dtype = int))) # Initial X: Dictionary where the keys are root tuples and the values are zero\n",
    "k = [\"level\"+str(i) for i in range(len(roots)+1)]\n",
    "v = [{} for i in range(len(roots)+1)]\n",
    "big_dict = dict(zip([\"level\"+str(i) for i in range(len(roots)+1)],[{} for i in range(len(roots)+1)])) # Level number corresponds to mi--i.e., it is one greater than the index i used in the loop below\n",
    "big_dict[\"level0\"] = {\"0\":{\"dimCu\":n,\"X_dict\":dict(zip(roots, np.zeros(n, dtype = int)))}}\n",
    "\n",
    "def min_reps(X,big_dict,roots):\n",
    "    for i in range(1,len(roots)+1): # mi naming is one greater than the index i #for key in big_dict: \n",
    "        mi = mi_dict_coords[\"m\" + str(i)]\n",
    "        for key in big_dict[\"level\"+str(i-1)]: # loop through the X as strings\n",
    "            x = big_dict[\"level\"+str(i-1)][key][\"X_dict\"]\n",
    "            dimCu_prev = big_dict[\"level\"+str(i-1)][key][\"dimCu\"]\n",
    "            ramification, dimCu = check_ramification(x, dimCu_prev, nil_coefs, rspace_coords, mi)\n",
    "            big_dict[\"level\"+str(i)][key] = {}\n",
    "            big_dict[\"level\"+str(i)][key][\"dimCu\"] = dimCu\n",
    "            big_dict[\"level\"+str(i)][key][\"X_dict\"] = x\n",
    "            if ramification == True:\n",
    "                big_dict[\"level\"+str(i)][key + \"keb\" + tup_to_str(roots[i-1])] = {}\n",
    "                # figure out how to do this better\n",
    "                oop, dimCu_new = check_ramification(x, dimCu_prev, nil_coefs, rspace_coords, mi)\n",
    "                big_dict[\"level\"+str(i)][key + \"keb\" + tup_to_str(roots[i-1])][\"dimCu\"] = dimCu_new\n",
    "                # and figure out how to do this better\n",
    "                X_make = X\n",
    "                hilo = var(\"k\" + str(tup_to_str(roots[i-1])))\n",
    "                X_make[roots[i-1]] = hilo #X_make[str(roots[i-1])+str(np.random.randint(1,50))] = hilo\n",
    "                big_dict[\"level\"+str(i)][key + \"keb\" + tup_to_str(roots[i-1])][\"X_dict\"] = X_make\n",
    "        #print(i,key,big_dict)\n",
    "    return big_dict"
   ]
  },
  {
   "cell_type": "code",
   "execution_count": 27,
   "metadata": {},
   "outputs": [
    {
     "data": {
      "text/plain": [
       "[k01, k10, k11, k12]"
      ]
     },
     "execution_count": 27,
     "metadata": {},
     "output_type": "execute_result"
    }
   ],
   "source": [
    "hilo_list = [var(\"k\" + str(tup_to_str(roots[i]))) for i in range(len(roots))]\n",
    "\n",
    "hilo_list"
   ]
  },
  {
   "cell_type": "code",
   "execution_count": 28,
   "metadata": {},
   "outputs": [
    {
     "data": {
      "text/plain": [
       "{'m4': [],\n",
       " 'm0': [[2, 0], [0, 4], [1, 2], [4, 3], [1, 0], [0, 3], [1, 4], [2, 3]],\n",
       " 'm1': [[1, 2], [4, 3], [1, 0], [0, 3], [1, 4], [2, 3]],\n",
       " 'm2': [[1, 0], [0, 3], [1, 4], [2, 3]],\n",
       " 'm3': [[1, 4], [2, 3]]}"
      ]
     },
     "execution_count": 28,
     "metadata": {},
     "output_type": "execute_result"
    }
   ],
   "source": [
    "mi_dict_coords"
   ]
  },
  {
   "cell_type": "code",
   "execution_count": 29,
   "metadata": {},
   "outputs": [
    {
     "data": {
      "text/plain": [
       "{(0, 1): 0, (1, 0): 0, (1, 1): 0, (1, 2): 0}"
      ]
     },
     "execution_count": 29,
     "metadata": {},
     "output_type": "execute_result"
    }
   ],
   "source": [
    "dict(zip(roots, np.zeros(len(roots), dtype = int)))"
   ]
  },
  {
   "cell_type": "code",
   "execution_count": 30,
   "metadata": {},
   "outputs": [
    {
     "data": {
      "text/plain": [
       "{'level0': {'0': {'dimCu': 5,\n",
       "   'X_dict': {(0, 1): 0, (1, 0): 0, (1, 1): 0, (1, 2): 0}}},\n",
       " 'level1': {},\n",
       " 'level2': {},\n",
       " 'level3': {},\n",
       " 'level4': {}}"
      ]
     },
     "execution_count": 30,
     "metadata": {},
     "output_type": "execute_result"
    }
   ],
   "source": [
    "X = dict(zip(roots, np.zeros(len(roots), dtype = int))) # Initial X: Dictionary where the keys are root tuples and the values are zero\n",
    "k = [\"level\"+str(i) for i in range(len(roots)+1)]\n",
    "v = [{} for i in range(len(roots)+1)]\n",
    "big_dict = dict(zip([\"level\"+str(i) for i in range(len(roots)+1)],[{} for i in range(len(roots)+1)])) # Level number corresponds to mi--i.e., it is one greater than the index i used in the loop below\n",
    "big_dict[\"level0\"] = {\"0\":{\"dimCu\":n,\"X_dict\":dict(zip(roots, np.zeros(len(roots), dtype = int)))}}\n",
    "hilo_list = [var(\"k\" + str(tup_to_str(roots[i]))) for i in range(len(roots))]\n",
    "big_dict"
   ]
  },
  {
   "cell_type": "code",
   "execution_count": null,
   "metadata": {},
   "outputs": [],
   "source": [
    "def make_small(X,big_dict,roots, i):\n",
    "    mi = mi_dict_coords[\"m\" + str(i)]\n",
    "    for key in big_dict[\"level\"+str(i-1)]: # loop through the X as strings\n",
    "        x = big_dict[\"level\"+str(i-1)][key][\"X_dict\"]\n",
    "        dimCu_prev = big_dict[\"level\"+str(i-1)][key][\"dimCu\"]\n",
    "        ramification, dimCu = check_ramification(x, dimCu_prev, nil_coefs, rspace_coords, mi)\n",
    "        big_dict[\"level\"+str(i)][key] = {}\n",
    "        big_dict[\"level\"+str(i)][key][\"dimCu\"] = dimCu\n",
    "        big_dict[\"level\"+str(i)][key][\"X_dict\"] = x\n",
    "        #print(i,key,big_dict[\"level\"+str(i)][key])\n",
    "        if ramification == True:\n",
    "                #print(str(i)+\" is a ramification pt of \",x)\n",
    "            big_dict[\"level\"+str(i)][key + \"keb\" + tup_to_str(roots[i-1])] = {}\n",
    "                # figure out how to do this better\n",
    "            oop, dimCu_new = check_ramification(x, dimCu_prev, nil_coefs, rspace_coords, mi)\n",
    "            big_dict[\"level\"+str(i)][key + \"keb\" + tup_to_str(roots[i-1])][\"dimCu\"] = dimCu_new\n",
    "                # and figure out how to do this better\n",
    "            X_make = X\n",
    "            hilo = var(\"k\" + str(tup_to_str(roots[i-1])))\n",
    "            X_make[roots[i-1]] = hilo #X_make[str(roots[i-1])+str(np.random.randint(1,50))] = hilo\n",
    "                #print(key,X_make)\n",
    "            big_dict[\"level\"+str(i)][key + \"keb\" + tup_to_str(roots[i-1])][\"X_dict\"] = X_make\n",
    "            #print(big_dict)\n",
    "                #print(big_dict[\"level\"+str(i)])\n",
    "                #print(\"and\")\n",
    "                #print(big_dict[\"level\"+str(i)][key+\"keb\" + tup_to_str(roots[i-1])][\"X_dict\"])\n",
    "                \n",
    "                #print(\"i\",i,\"key\",\"X\",key,big_dict[\"level\"+str(i+1)][\"keb\" + tup_to_str(roots[i-1])][\"X_dict\"])\n",
    "                #print(i)\n",
    "        #print(i,count)\n",
    "    \n",
    "            \n",
    "    return big_dict"
   ]
  },
  {
   "cell_type": "code",
   "execution_count": null,
   "metadata": {},
   "outputs": [],
   "source": [
    "    def make_small2(X,big_dict,roots, i):\n",
    "    #mi = mi_dict_coords[\"m\" + str(i)]\n",
    "    \n",
    "        x = big_dict[\"level\"+str(i-1)][key][\"X_dict\"]\n",
    "        dimCu_prev = big_dict[\"level\"+str(i-1)][key][\"dimCu\"]\n",
    "        ramification, dimCu = check_ramification(x, dimCu_prev, nil_coefs, rspace_coords, mi)\n",
    "        big_dict[\"level\"+str(i)][key] = {}\n",
    "        big_dict[\"level\"+str(i)][key][\"dimCu\"] = dimCu\n",
    "        big_dict[\"level\"+str(i)][key][\"X_dict\"] = x\n",
    "        #print(i,key,big_dict[\"level\"+str(i)][key])\n",
    "        if ramification == True:\n",
    "                #print(str(i)+\" is a ramification pt of \",x)\n",
    "            big_dict[\"level\"+str(i)][key + \"keb\" + tup_to_str(roots[i-1])] = {}\n",
    "                # figure out how to do this better\n",
    "            oop, dimCu_new = check_ramification(x, dimCu_prev, nil_coefs, rspace_coords, mi)\n",
    "            big_dict[\"level\"+str(i)][key + \"keb\" + tup_to_str(roots[i-1])][\"dimCu\"] = dimCu_new\n",
    "                # and figure out how to do this better\n",
    "            X_make = X\n",
    "            hilo = var(\"k\" + str(tup_to_str(roots[i-1])))\n",
    "            X_make[roots[i-1]] = hilo #X_make[str(roots[i-1])+str(np.random.randint(1,50))] = hilo\n",
    "                #print(key,X_make)\n",
    "            big_dict[\"level\"+str(i)][key + \"keb\" + tup_to_str(roots[i-1])][\"X_dict\"] = X_make\n",
    "            #print(big_dict)\n",
    "                #print(big_dict[\"level\"+str(i)])\n",
    "                #print(\"and\")\n",
    "                #print(big_dict[\"level\"+str(i)][key+\"keb\" + tup_to_str(roots[i-1])][\"X_dict\"])\n",
    "                \n",
    "                #print(\"i\",i,\"key\",\"X\",key,big_dict[\"level\"+str(i+1)][\"keb\" + tup_to_str(roots[i-1])][\"X_dict\"])\n",
    "                #print(i)\n",
    "        #print(i,count)\n",
    "    \n",
    "            \n",
    "    return big_dict"
   ]
  },
  {
   "cell_type": "code",
   "execution_count": null,
   "metadata": {},
   "outputs": [],
   "source": [
    "oof = make_small(X,big_dict,roots, 1)\n",
    "oof"
   ]
  },
  {
   "cell_type": "code",
   "execution_count": null,
   "metadata": {},
   "outputs": [],
   "source": [
    "ohmy = min_reps(X,big_dict,roots)\n",
    "ohmy"
   ]
  },
  {
   "cell_type": "code",
   "execution_count": null,
   "metadata": {},
   "outputs": [],
   "source": [
    "nil_coefs = dict(zip(roots,[var(\"n\"+str(roots[i]).replace(\"(\", \"\").replace(\")\", \"\").replace(\" \", \"\").replace(\",\", \"\")) for i in range(len(roots))]))\n",
    "\n",
    "\n",
    "X = dict(zip(roots, np.zeros(n, dtype = int))) # Initial X: Dictionary where the keys are root tuples and the values are zero\n",
    "k = [\"level\"+str(i) for i in range(len(roots)+1)]\n",
    "v = [{} for i in range(len(roots)+1)]\n",
    "big_dict = dict(zip([\"level\"+str(i) for i in range(len(roots)+1)],[{} for i in range(len(roots)+1)])) # Level number corresponds to mi--i.e., it is one greater than the index i used in the loop below\n",
    "big_dict[\"level0\"] = {\"0\":{\"dimCu\":n,\"X_dict\":dict(zip(roots, np.zeros(n, dtype = int)))}}\n",
    "\n",
    "def min_reps(X,big_dict,roots):\n",
    "    for i in range(1,len(roots)+1): # mi naming is one greater than the index i #for key in big_dict: \n",
    "        for key in big_dict[\"level\"+str(i-1)]:\n",
    "            print(i,key)\n",
    "            big_dict = make_small2(X,big_dict,roots,i)\n",
    "    return big_dict"
   ]
  },
  {
   "cell_type": "code",
   "execution_count": null,
   "metadata": {},
   "outputs": [],
   "source": [
    "count = 0\n",
    "for key in ohmy[\"level1\"]:\n",
    "    print(key)\n",
    "    #count+=1\n",
    "    print(ohmy[\"level1\"][key])\n",
    "#print(count)"
   ]
  },
  {
   "cell_type": "code",
   "execution_count": null,
   "metadata": {},
   "outputs": [],
   "source": [
    "\"\"\"\n",
    "old orbit representative \"function\"\n",
    "\"\"\"\n",
    "\n",
    "X = dict(zip(roots, np.zeros(n, dtype = int))) # Initial X: Dictionary where the keys are root tuples and the values are zero\n",
    "dimCu = n\n",
    "nil_coefs = dict(zip(roots,[var(\"n\"+str(roots[i]).replace(\"(\", \"\").replace(\")\", \"\").replace(\" \", \"\").replace(\",\", \"\")) for i in range(len(roots))]))\n",
    "#level_list = [X]\n",
    "Xi_dict = {\"level0\":[X]}\n",
    "for i in range(0,len(roots)):\n",
    "    for x in range(len(Xi_dict[\"level\"+str(i)])):\n",
    "        mi = mi_dict_coords[\"m\" + str(i)]\n",
    "        # MAKE dimCu ASSOCIATED WITH X AND i--I DON'T THINK IT IS NOW\n",
    "        ramification, dimCu = check_ramification(X, dimCu, nil_coefs, mi)\n",
    "        if ramification == True:\n",
    "            #Xkey = {key: value for key, value in X.items() if value != 0}.keys()\n",
    "            Xi_new = X\n",
    "            #print(roots[x])\n",
    "            Xi_new[roots[i]] = var(\"k\"+str(roots[i]).replace(\"(\", \"\").replace(\")\", \"\").replace(\" \", \"\").replace(\",\", \"\"))\n",
    "            print(\"Xi_new\",Xi_new)\n",
    "            print(i)\n",
    "            name = str(tuple(Xi_new.values())).replace(\"(\", \"\").replace(\")\", \"\").replace(\" \", \"\").replace(\",\", \"\")\n",
    "            print(\"name\",name)\n",
    "            # This line doesn't work--it puts exactly two representatives in each row\n",
    "            Xi_dict.setdefault(\"level\"+str(i+1)+Xi_new.values(), list(Xi_dict[\"level\"+str(i)]) + [X, Xi_new])\n",
    "        else:\n",
    "            Xi_dict.setdefault(\"level\"+str(i+1), list(Xi_dict[\"level\"+str(i)]))\n",
    "Xi_dict"
   ]
  },
  {
   "cell_type": "code",
   "execution_count": null,
   "metadata": {},
   "outputs": [],
   "source": [
    "\"\"\"\n",
    "under-construction orbit representative \"function\"\n",
    "\"\"\"\n",
    "\n",
    "X = dict(zip(roots, np.zeros(n, dtype = int))) # Initial X: Dictionary where the keys are root tuples and the values are zero\n",
    "dimCu = n\n",
    "nil_coefs = dict(zip(roots,[var(\"n\"+str(roots[i]).replace(\"(\", \"\").replace(\")\", \"\").replace(\" \", \"\").replace(\",\", \"\")) for i in range(len(roots))]))\n",
    "#level_list = [X]\n",
    "Xi_dict = {\"level0\":[X]}\n",
    "for i in range(0,len(roots)):\n",
    "    for x in range(len(Xi_dict[\"level\"+str(i)])):\n",
    "        ramification, dimCu = check_ramification"
   ]
  },
  {
   "cell_type": "code",
   "execution_count": null,
   "metadata": {},
   "outputs": [],
   "source": [
    "nil_coefs"
   ]
  },
  {
   "cell_type": "code",
   "execution_count": null,
   "metadata": {},
   "outputs": [],
   "source": [
    "X = dict(zip(roots, np.zeros(n, dtype = int))) # Initial X: Dictionary where the keys are root tuples and the values are zero\n",
    "dimCu = n\n",
    "nil_coefs = [var(\"n\"+str(roots[i]).replace(\"(\", \"\").replace(\")\", \"\").replace(\" \", \"\").replace(\",\", \"\")) for i in range(len(roots))]\n",
    "Xi_dict = {} #{\"level\"+str(i) : X for i in range(1,len(roots)+1)}\n",
    "#level_list = []\n",
    "for i in range(1,len(roots)+1):\n",
    "    for x in level_dict[\"level\"+str(i)]:\n",
    "        mi = mi_dict_coords[\"m\"+str(i)]\n",
    "        ramification, dimCu = check_ramification(X, dimCu, nil_coefs, mi)\n",
    "        if ramification == True:\n",
    "            Xkey = {key: value for key, value in X.items() if value != 0}.keys()\n",
    "            Xi_dict.setdefault(str(Xkey)+str(i), rspaces[i+1])\n",
    "    \n",
    "#if ramification "
   ]
  },
  {
   "cell_type": "code",
   "execution_count": null,
   "metadata": {},
   "outputs": [],
   "source": [
    "k = var('k')\n",
    "Chev_simp({(0,1):k,(1,0):1,(1,1):1,(1,2):1},{(0,1):1,(1,0):0,(1,1):0,(1,2):0},roots,rvecs,n)"
   ]
  },
  {
   "cell_type": "code",
   "execution_count": null,
   "metadata": {},
   "outputs": [],
   "source": [
    "nil_rad"
   ]
  },
  {
   "cell_type": "code",
   "execution_count": null,
   "metadata": {},
   "outputs": [],
   "source": [
    "\"\"\"\n",
    "Calculation of U-orbits on u\n",
    "\n",
    "\"\"\"\n",
    "def make_row(previous_row_list, mi_dict):\n",
    "    for i in range(len(roots)):\n",
    "        mat = nil_rad - mi_dict['m'+str(i)]\n",
    "        print(mat)\n",
    "    "
   ]
  },
  {
   "cell_type": "code",
   "execution_count": null,
   "metadata": {},
   "outputs": [],
   "source": [
    "X = 0\n"
   ]
  },
  {
   "cell_type": "code",
   "execution_count": null,
   "metadata": {},
   "outputs": [],
   "source": [
    "for i in range(1,len(roots)):\n",
    "    print(i)"
   ]
  },
  {
   "cell_type": "code",
   "execution_count": null,
   "metadata": {},
   "outputs": [],
   "source": [
    "nil_coefs = [var(\"n\"+str(roots[i]).replace(\"(\", \"\").replace(\")\", \"\").replace(\" \", \"\").replace(\",\", \"\")) for i in range(len(roots))]"
   ]
  },
  {
   "cell_type": "code",
   "execution_count": null,
   "metadata": {},
   "outputs": [],
   "source": [
    "X.values()"
   ]
  },
  {
   "cell_type": "code",
   "execution_count": null,
   "metadata": {},
   "outputs": [],
   "source": [
    "np.array(var(\"n\"+str(roots[i]).replace(\"(\", \"\").replace(\")\", \"\").replace(\" \", \"\").replace(\",\", \"\")))"
   ]
  },
  {
   "cell_type": "code",
   "execution_count": null,
   "metadata": {},
   "outputs": [],
   "source": [
    "rspaces"
   ]
  },
  {
   "cell_type": "code",
   "execution_count": null,
   "metadata": {},
   "outputs": [],
   "source": [
    "alpha = (0,1,1)\n",
    "beta = (0,0,1)\n",
    "brute = rvecs[tuple(alpha)]['matrix'] @ rvecs[tuple(beta)]['matrix'] - rvecs[tuple(beta)]['matrix'] @ rvecs[tuple(alpha)]['matrix']\n",
    "test = Chev_bracket((0,1,1),(0,0,1),roots, rvecs)\n",
    "print(brute)\n",
    "print(test)"
   ]
  },
  {
   "cell_type": "code",
   "execution_count": null,
   "metadata": {},
   "outputs": [],
   "source": [
    "\"\"\"\n",
    "Function to compute the alpha-string through beta (given by q and r, see Humphreys p. 145)\n",
    "(to be used in order to simplify a matrix using the Chevalley \n",
    "commutator relations using the root vectors that were defined previously)\n",
    "\n",
    "define nil_coefs and vec_coefs as ORDERED DICTIONARIES where the keys are the roots and the values are the coefficients\n",
    "\"\"\"\n",
    "\n",
    "def get_rstring_old(nil_coefs, vec_coefs, roots):\n",
    "    rstring_dict = {}\n",
    "    for alpha in range(len(list(nil_coefs.keys()))):\n",
    "        for beta in range(len(list(vec_coefs.keys()))):\n",
    "            # Compute the alpha-string through beta (alpha i-string through alpha j)\n",
    "            gamma = list(vec_coefs.keys())[beta]\n",
    "            q = 0\n",
    "            while gamma in roots:\n",
    "                gamma = tuple(np.add(gamma, list(nil_coefs.keys())[alpha]))\n",
    "                #print(str(list(nil_coefs.keys())[alpha])+str(list(vec_coefs.keys())[beta]),gamma)\n",
    "                if gamma in roots:\n",
    "                    q += 1\n",
    "                \n",
    "            gamma = list(vec_coefs.keys())[beta]\n",
    "            r = 0\n",
    "            while gamma in roots:\n",
    "                gamma = tuple(np.subtract(gamma, list(nil_coefs.keys())[alpha]))\n",
    "                if gamma in roots:\n",
    "                    r += 1\n",
    "            rstring_dict.setdefault(str(list(nil_coefs.keys())[alpha])+str(list(vec_coefs.keys())[beta]),{'q':q,'r':r})\n",
    "            # Compute the bracket\n",
    "            #XiXj = \n",
    "        return rstring_dict"
   ]
  },
  {
   "cell_type": "code",
   "execution_count": null,
   "metadata": {},
   "outputs": [],
   "source": [
    "\"\"\"\n",
    "Function to simplify a matrix using the Chevalley commutator relations using the root vectors that were defined previously\n",
    "\n",
    "define nil_coefs and vec_coefs as DICTIONARIES\n",
    "\"\"\""
   ]
  },
  {
   "cell_type": "code",
   "execution_count": null,
   "metadata": {},
   "outputs": [],
   "source": [
    "\"\"\"\n",
    "SCRATCH\n",
    "\n",
    "Compute the NT-submodules $\\mathfrak{m}_i$ as coordinates rather than matrices\n",
    "\"\"\"\n",
    "mi_dict = {}\n",
    "for i in range(num_roots):\n",
    "    hilo = \"m\" + str(i)\n",
    "    mi = []\n",
    "    mi.append(rvecs[roots[i]]['coords'])\n",
    "    for k in range(i+1, num_roots):\n",
    "        mi.append(rvecs[roots[k]]['coords'])\n",
    "        #print(k,roots[k])\n",
    "    \n",
    "    mi_dict.setdefault(hilo,mi)\n",
    "mi_dict"
   ]
  },
  {
   "cell_type": "code",
   "execution_count": null,
   "metadata": {},
   "outputs": [],
   "source": [
    "                for p in x:\n",
    "                    if x[p] != 0:\n",
    "                        print(\"JJJ\",x,x[p])\n",
    "                    #if x[p] != 0:\n",
    "                    #   X_make[roots[i-1]] = x[p]"
   ]
  },
  {
   "cell_type": "markdown",
   "metadata": {},
   "source": [
    "# Scratch"
   ]
  }
 ],
 "metadata": {
  "kernelspec": {
   "display_name": "SageMath 9.3",
   "language": "sage",
   "name": "sagemath"
  },
  "language_info": {
   "codemirror_mode": {
    "name": "ipython",
    "version": 3
   },
   "file_extension": ".py",
   "mimetype": "text/x-python",
   "name": "python",
   "nbconvert_exporter": "python",
   "pygments_lexer": "ipython3",
   "version": "3.7.10"
  }
 },
 "nbformat": 4,
 "nbformat_minor": 4
}
