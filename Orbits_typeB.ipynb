{
 "cells": [
  {
   "cell_type": "code",
   "execution_count": 113,
   "metadata": {},
   "outputs": [],
   "source": [
    "import numpy as np\n",
    "from sympy import Matrix # Used to compute nullity"
   ]
  },
  {
   "cell_type": "code",
   "execution_count": 114,
   "metadata": {},
   "outputs": [],
   "source": [
    "G = 'B' # Type of classical algebraic group, Input: string 'A','B','C', or 'D'\n",
    "l = 2 # Rank, Input: positive integer\n",
    "n = 2*l+1 # Square matrix dimension for type B"
   ]
  },
  {
   "cell_type": "code",
   "execution_count": 115,
   "metadata": {},
   "outputs": [],
   "source": [
    "\"\"\"\n",
    "Replace all the .replace(\"(\", \"\").replace(\")\", \"\").replace(\" \", \"\").replace(\",\", \"\") with this\n",
    "\"\"\"\n",
    "def tup_to_str(tuple):\n",
    "    return str(tuple).replace(\"(\", \"\").replace(\")\", \"\").replace(\" \", \"\").replace(\",\", \"\")"
   ]
  },
  {
   "cell_type": "code",
   "execution_count": 116,
   "metadata": {
    "scrolled": true
   },
   "outputs": [
    {
     "name": "stdout",
     "output_type": "stream",
     "text": [
      "{(1, 1): {'matrix': array([[ 0,  0,  0, -1,  0],\n",
      "       [ 1,  0,  0,  0,  0],\n",
      "       [ 0,  0,  0,  0,  0],\n",
      "       [ 0,  0,  0,  0,  0],\n",
      "       [ 0,  0,  0,  0,  0]]), 'coords': [[1, 0], [0, 3]]}, (0, 1): {'matrix': array([[ 0,  0,  0,  0, -1],\n",
      "       [ 0,  0,  0,  0,  0],\n",
      "       [ 1,  0,  0,  0,  0],\n",
      "       [ 0,  0,  0,  0,  0],\n",
      "       [ 0,  0,  0,  0,  0]]), 'coords': [[2, 0], [0, 4]]}, (1, 2): {'matrix': array([[ 0,  0,  0,  0,  0],\n",
      "       [ 0,  0,  0,  0,  1],\n",
      "       [ 0,  0,  0, -1,  0],\n",
      "       [ 0,  0,  0,  0,  0],\n",
      "       [ 0,  0,  0,  0,  0]]), 'coords': [[1, 4], [2, 3]]}, (1, 0): {'matrix': array([[ 0,  0,  0,  0,  0],\n",
      "       [ 0,  0,  1,  0,  0],\n",
      "       [ 0,  0,  0,  0,  0],\n",
      "       [ 0,  0,  0,  0,  0],\n",
      "       [ 0,  0,  0, -1,  0]]), 'coords': [[1, 2], [4, 3]]}}\n"
     ]
    }
   ],
   "source": [
    "\"\"\"\n",
    "Make matrices for the root vectors for the positive roots in type B (i.e., the root vectors in the nilradical).\n",
    "Store the root vector matrices in a dictionary called rvecs where the keys are the eigenvector names given on page 131\n",
    "of Erdmann and the values are the eigenvectors as numpy arrays\n",
    "\n",
    "\"mat_type\" is the eigenvector matrix form given on page 131 of Erdmann\n",
    "\"indices\" is a list of the i,j indices\n",
    "\"matrix\" is the eigenvector corresponding to the root of specified type and indices\n",
    "\"coords\" are the coordinates of the positive nonzero matrix entry, to be used for the coordinate function\n",
    "\n",
    "Parameters: rank l\n",
    "\n",
    "Returns: dictionary\n",
    "\n",
    "\"\"\"\n",
    "def make_rvecs_B(l):\n",
    "    rvecs = {}\n",
    "\n",
    "    M = np.zeros((2*l+1,2*l+1),dtype = int)\n",
    "    # Add root vectors b_i for roots of the form epsilon_i to rvecs\n",
    "    for i in np.arange(1,l+1,1):\n",
    "        # b_ij\n",
    "        M[i,0] = 1\n",
    "        M[0,l+i] = -1\n",
    "        hilo = \"b\" + str(i)\n",
    "        coef = np.zeros(l, dtype = int) # Array of length the number of roots in the base\n",
    "        coef[i-1:l] = 1\n",
    "        coef = tuple(coef)\n",
    "        rvecs.setdefault(coef, {\"matrix\":M, \"coords\":[[i,0],[0,l+i]]}) # index 1 \\leq i \\leq l\n",
    "        M = np.zeros((2*l+1,2*l+1),dtype = int)\n",
    "    for i in np.arange(1,l,1):\n",
    "        for j in np.arange(1,l+1,1):\n",
    "            # p_ij\n",
    "            if i<j:\n",
    "                M[i,l+j] = 1\n",
    "                M[j,l+i] = -1\n",
    "                hilo = \"p\" + str(i) + str(j)\n",
    "                coef = np.zeros(l, dtype = int) # Array of length the number of roots in the base\n",
    "                coef[i-1:j] = 1\n",
    "                coef[j-1:l] = 2\n",
    "                coef = tuple(coef)\n",
    "                rvecs.setdefault(coef, {\"matrix\":M, \"coords\":[[i,l+j],[j,l+i]]}) # indices 1 \\leq i < j \\leq l\n",
    "                M = np.zeros((2*l+1,2*l+1),dtype = int)\n",
    "            # m_ij\n",
    "            if i != j and i<j:\n",
    "                M[i,j] = 1\n",
    "                M[l+j,l+i] = -1\n",
    "                hilo = \"m\" + str(i) + str(j)\n",
    "                coef = np.zeros(l, dtype = int) # Array of length the number of roots in the base\n",
    "                coef[i-1:j-1] = 1 \n",
    "                coef = tuple(coef)\n",
    "                rvecs.setdefault(coef, {\"matrix\":M, \"coords\":[[i,j],[l+j,l+i]]})\n",
    "                M = np.zeros((2*l+1,2*l+1), dtype = int)\n",
    "    return rvecs\n",
    "\n",
    "rvecs = make_rvecs_B(l)\n",
    "print(rvecs)"
   ]
  },
  {
   "cell_type": "code",
   "execution_count": 117,
   "metadata": {},
   "outputs": [],
   "source": [
    "\"\"\"\n",
    "Fix a sequence of the positive roots with a (partial) ordering induced by increasing root height.\n",
    "\n",
    "Use the Sage function positive_roots_by_height(increasing=True)\n",
    "\n",
    "Parameters: Group type G, string\n",
    "            Rank, integer\n",
    "\n",
    "Returns: List of roots as tuples\n",
    "\"\"\"\n",
    "def make_root_order(G,l):\n",
    "    L = RootSystem([G,l]).root_lattice()\n",
    "    roots = [tuple(root.to_vector()) for root in L.positive_roots_by_height()]\n",
    "    return roots\n",
    "\n",
    "roots = make_root_order(G,l)\n",
    "num_roots = len(roots) # Store the number of positive roots for future loops"
   ]
  },
  {
   "cell_type": "code",
   "execution_count": 118,
   "metadata": {},
   "outputs": [
    {
     "name": "stderr",
     "output_type": "stream",
     "text": [
      "<>:13: DeprecationWarning: invalid escape sequence \\m\n",
      "<>:13: DeprecationWarning: invalid escape sequence \\m\n",
      "<>:13: DeprecationWarning: invalid escape sequence \\m\n",
      "<ipython-input-118-969feb4a3bad>:13: DeprecationWarning: invalid escape sequence \\m\n",
      "  \"\"\"\n"
     ]
    }
   ],
   "source": [
    "\"\"\"\n",
    "VERSION WHERE THE ENTRIES ARE THE DIFFERENT THAN THOSE IN THE NILRADICAL (r INSTEAD OF n)\n",
    "Compute the root spaces $\\mathfrak{g}_\\beta=\\mathbb{C}e_\\beta$\n",
    "\n",
    "Notes:\n",
    "This could be combined with the function that makes the nilradical\n",
    "The \"DeprecationWarning: invalid escape sequence \\m\" that returns when this cell is run in Jupyter is because of the \n",
    "backslash character used in the TeX for this comment\n",
    "\n",
    "Parameters: rvecs\n",
    "\n",
    "Returns: rspaces: dictionary with keys the roots as tuples and values the root spaces\n",
    "\"\"\"\n",
    "def make_root_spaces(rvecs):\n",
    "    rspaces = {} # Create a dictionary rspaces with keys the roots as stored in rvecs and values the root spaces k*e_alpha\n",
    "    num = len(rvecs) # Set the number of iterations to equal the number of positive roots; we'll need this for most things in this function\n",
    "    syms = np.array([var(\"r\"+str(list(rvecs.keys())[i]).replace(\"(\", \"\").replace(\")\", \"\").replace(\" \", \"\").replace(\",\", \"\")) for i in range(num)], dtype = object) # Name some not-necessarily-distinct field elements\n",
    "    # Note that rvecs[list(rvecs.keys())[1]]['matrix'] extracts the eigenvector matrix from rvecs\n",
    "    mats = [np.dot(syms[i],rvecs[list(rvecs.keys())[i]]['matrix']) for i in range(num)] # Multiply the root vectors by an arbitrary field element to get the root spaces\n",
    "    for i in range(num):\n",
    "        rspaces.setdefault(list(rvecs.keys())[i],mats[i])\n",
    "    return rspaces\n",
    "\n",
    "rspaces = make_root_spaces(rvecs)"
   ]
  },
  {
   "cell_type": "code",
   "execution_count": 119,
   "metadata": {
    "scrolled": true
   },
   "outputs": [
    {
     "name": "stderr",
     "output_type": "stream",
     "text": [
      "<>:13: DeprecationWarning: invalid escape sequence \\m\n",
      "<>:13: DeprecationWarning: invalid escape sequence \\m\n",
      "<>:13: DeprecationWarning: invalid escape sequence \\m\n",
      "<ipython-input-119-6312676660ef>:13: DeprecationWarning: invalid escape sequence \\m\n",
      "  \"\"\"\n"
     ]
    }
   ],
   "source": [
    "\"\"\"\n",
    "VERSION WHERE THE ENTRIES ARE THE SAME AS IN THE NILRADICAL\n",
    "Compute the root spaces $\\mathfrak{g}_\\beta=\\mathbb{C}e_\\beta$\n",
    "\n",
    "Notes:\n",
    "This could be combined with the function that makes the nilradical\n",
    "The \"DeprecationWarning: invalid escape sequence \\m\" that returns when this cell is run in Jupyter is because of the \n",
    "backslash character used in the TeX for this comment\n",
    "\n",
    "Parameters: rvecs\n",
    "\n",
    "Returns: rspaces: dictionary with keys the roots as tuples and values the root spaces\n",
    "\"\"\"\n",
    "def make_root_spaces(rvecs):\n",
    "    rspaces = {} # Create a dictionary rspaces with keys the roots as stored in rvecs and values the root spaces k*e_alpha\n",
    "    num = len(rvecs) # Set the number of iterations to equal the number of positive roots; we'll need this for most things in this function\n",
    "    syms = np.array([var(\"n\"+str(list(rvecs.keys())[i]).replace(\"(\", \"\").replace(\")\", \"\").replace(\" \", \"\").replace(\",\", \"\")) for i in range(num)], dtype = object) # Name some not-necessarily-distinct field elements\n",
    "    # Note that rvecs[list(rvecs.keys())[1]]['matrix'] extracts the eigenvector matrix from rvecs\n",
    "    mats = [np.dot(syms[i],rvecs[list(rvecs.keys())[i]]['matrix']) for i in range(num)] # Multiply the root vectors by an arbitrary field element to get the root spaces\n",
    "    for i in range(num):\n",
    "        rspaces.setdefault(list(rvecs.keys())[i],mats[i])\n",
    "    return rspaces\n",
    "\n",
    "rspaces = make_root_spaces(rvecs)"
   ]
  },
  {
   "cell_type": "code",
   "execution_count": 120,
   "metadata": {},
   "outputs": [
    {
     "data": {
      "text/plain": [
       "{(1,\n",
       "  1): array([[0, 0, 0, -n11, 0],\n",
       "        [n11, 0, 0, 0, 0],\n",
       "        [0, 0, 0, 0, 0],\n",
       "        [0, 0, 0, 0, 0],\n",
       "        [0, 0, 0, 0, 0]], dtype=object),\n",
       " (0,\n",
       "  1): array([[0, 0, 0, 0, -n01],\n",
       "        [0, 0, 0, 0, 0],\n",
       "        [n01, 0, 0, 0, 0],\n",
       "        [0, 0, 0, 0, 0],\n",
       "        [0, 0, 0, 0, 0]], dtype=object),\n",
       " (1,\n",
       "  2): array([[0, 0, 0, 0, 0],\n",
       "        [0, 0, 0, 0, n12],\n",
       "        [0, 0, 0, -n12, 0],\n",
       "        [0, 0, 0, 0, 0],\n",
       "        [0, 0, 0, 0, 0]], dtype=object),\n",
       " (1,\n",
       "  0): array([[0, 0, 0, 0, 0],\n",
       "        [0, 0, n10, 0, 0],\n",
       "        [0, 0, 0, 0, 0],\n",
       "        [0, 0, 0, 0, 0],\n",
       "        [0, 0, 0, -n10, 0]], dtype=object)}"
      ]
     },
     "execution_count": 120,
     "metadata": {},
     "output_type": "execute_result"
    }
   ],
   "source": [
    "rspaces"
   ]
  },
  {
   "cell_type": "code",
   "execution_count": 121,
   "metadata": {},
   "outputs": [],
   "source": [
    "\"\"\"\n",
    "Compute the coordinates of the not-necessarily-zero matrix entries associated to the root spaces\n",
    "\n",
    "Params: rvecs\n",
    "Returns: rspace_coords: Dictionary containing root tuples as keys and nonzero (not necessarily zero) coordinates as values\n",
    "\"\"\"\n",
    "\n",
    "def make_rspace_coords(rvecs):\n",
    "    # Dictionary containing root tuples as keys and nonzero (not necessarily zero) coordinates as values\n",
    "    rspace_coords = {list(rvecs.keys())[i]:list(rvecs.values())[i]['coords'] for i in range(len(rvecs))}\n",
    "    return rspace_coords\n",
    "rspace_coords = make_rspace_coords(rvecs)"
   ]
  },
  {
   "cell_type": "code",
   "execution_count": 122,
   "metadata": {},
   "outputs": [
    {
     "data": {
      "text/plain": [
       "array([[0, 0, 0, -n11, -n01],\n",
       "       [n11, 0, n10, 0, n12],\n",
       "       [n01, 0, 0, -n12, 0],\n",
       "       [0, 0, 0, 0, 0],\n",
       "       [0, 0, 0, -n10, 0]], dtype=object)"
      ]
     },
     "execution_count": 122,
     "metadata": {},
     "output_type": "execute_result"
    }
   ],
   "source": [
    "\"\"\"\n",
    "Compute a matrix representing an arbitrary element of the nilradical\n",
    "\n",
    "Input: rvecs\n",
    "Returns: numpy.ndarray ; Arbitrary element of the nilradical\n",
    "\"\"\"\n",
    "def make_nilrad(rvecs):\n",
    "    rspaces = {} # Create a dictionary rspaces with keys the roots as stored in rvecs and values the root spaces k*e_alpha\n",
    "    \n",
    "    num = len(rvecs) # Set the number of iterations to equal the number of positive roots; we'll need this for most things in this function\n",
    "    syms = np.array([var(\"n\"+str(list(rvecs.keys())[i]).replace(\"(\", \"\").replace(\")\", \"\").replace(\" \", \"\").replace(\",\", \"\")) for i in range(num)], dtype = object) # Name some not-necessarily-distinct field elements\n",
    "    # Note that rvecs[list(rvecs.keys())[1]]['matrix'] extracts the eigenvector matrix from rvecs\n",
    "    mats = [np.dot(syms[i],rvecs[list(rvecs.keys())[i]]['matrix']) for i in range(num)] # Multiply the root vectors by an arbitrary field element to get the root spaces\n",
    "    nil_rad = sum(mats) # Set an arbitrary element of the nilradical equal to the sum of the root spaces\n",
    "    \n",
    "    for i in range(num):\n",
    "        rspaces.setdefault(list(rvecs.keys())[i],mats[i])\n",
    "    \n",
    "    return nil_rad #,rspaces, mats\n",
    "\n",
    "nil_rad = make_nilrad(rvecs)\n",
    "nil_rad"
   ]
  },
  {
   "cell_type": "code",
   "execution_count": 123,
   "metadata": {
    "scrolled": true
   },
   "outputs": [
    {
     "name": "stderr",
     "output_type": "stream",
     "text": [
      "<>:3: DeprecationWarning: invalid escape sequence \\m\n",
      "<>:3: DeprecationWarning: invalid escape sequence \\m\n",
      "<>:3: DeprecationWarning: invalid escape sequence \\m\n",
      "<ipython-input-123-94be777e6d89>:3: DeprecationWarning: invalid escape sequence \\m\n",
      "  \"\"\"\n"
     ]
    },
    {
     "data": {
      "text/plain": [
       "{'m4': array([[0, 0, 0, 0, 0],\n",
       "        [0, 0, 0, 0, 0],\n",
       "        [0, 0, 0, 0, 0],\n",
       "        [0, 0, 0, 0, 0],\n",
       "        [0, 0, 0, 0, 0]]),\n",
       " 'm0': array([[0, 0, 0, -n11, -n01],\n",
       "        [n11, 0, n10, 0, n12],\n",
       "        [n01, 0, 0, -n12, 0],\n",
       "        [0, 0, 0, 0, 0],\n",
       "        [0, 0, 0, -n10, 0]], dtype=object),\n",
       " 'm1': array([[0, 0, 0, -n11, 0],\n",
       "        [n11, 0, n10, 0, n12],\n",
       "        [0, 0, 0, -n12, 0],\n",
       "        [0, 0, 0, 0, 0],\n",
       "        [0, 0, 0, -n10, 0]], dtype=object),\n",
       " 'm2': array([[0, 0, 0, -n11, 0],\n",
       "        [n11, 0, 0, 0, n12],\n",
       "        [0, 0, 0, -n12, 0],\n",
       "        [0, 0, 0, 0, 0],\n",
       "        [0, 0, 0, 0, 0]], dtype=object),\n",
       " 'm3': array([[0, 0, 0, 0, 0],\n",
       "        [0, 0, 0, 0, n12],\n",
       "        [0, 0, 0, -n12, 0],\n",
       "        [0, 0, 0, 0, 0],\n",
       "        [0, 0, 0, 0, 0]], dtype=object)}"
      ]
     },
     "execution_count": 123,
     "metadata": {},
     "output_type": "execute_result"
    }
   ],
   "source": [
    "\"\"\"\n",
    "Compute the NT-submodules $\\mathfrak{m}_i$\n",
    "\"\"\"\n",
    "def make_NT_submodules(n,roots,rspaces):\n",
    "    mi_dict = {'m'+str(len(roots)): np.zeros((n,n), dtype = int)}\n",
    "    for i in range(len(roots)):\n",
    "        hilo = \"m\" + str(i)\n",
    "        mi = rspaces[roots[i]]\n",
    "        for k in range(i+1, len(roots)):\n",
    "            mi += rspaces[roots[k]]\n",
    "            #print(k,roots[k])\n",
    "\n",
    "        mi_dict.setdefault(hilo,mi) #nil_rad-mi\n",
    "    return mi_dict\n",
    "\n",
    "mi_dict = make_NT_submodules(n,roots,rspaces)\n",
    "mi_dict"
   ]
  },
  {
   "cell_type": "code",
   "execution_count": 124,
   "metadata": {},
   "outputs": [
    {
     "name": "stderr",
     "output_type": "stream",
     "text": [
      "<>:3: DeprecationWarning: invalid escape sequence \\m\n",
      "<>:3: DeprecationWarning: invalid escape sequence \\m\n",
      "<>:3: DeprecationWarning: invalid escape sequence \\m\n",
      "<ipython-input-124-7264d48cac76>:3: DeprecationWarning: invalid escape sequence \\m\n",
      "  \"\"\"\n"
     ]
    },
    {
     "data": {
      "text/plain": [
       "{'m4': [],\n",
       " 'm0': [[2, 0], [0, 4], [1, 2], [4, 3], [1, 0], [0, 3], [1, 4], [2, 3]],\n",
       " 'm1': [[1, 2], [4, 3], [1, 0], [0, 3], [1, 4], [2, 3]],\n",
       " 'm2': [[1, 0], [0, 3], [1, 4], [2, 3]],\n",
       " 'm3': [[1, 4], [2, 3]]}"
      ]
     },
     "execution_count": 124,
     "metadata": {},
     "output_type": "execute_result"
    }
   ],
   "source": [
    "\"\"\"\n",
    "Compute the NT-submodules $\\mathfrak{m}_i$ in terms of their not-necessarily-zero-coordinates using rspace_coords\n",
    "\"\"\"\n",
    "# Dictionary containing root tuples as keys and nonzero (not necessarily zero) coordinates as values\n",
    "rspace_coords = {list(rvecs.keys())[i]:list(rvecs.values())[i]['coords'] for i in range(len(rvecs))}\n",
    "def make_NT_submodule_coords(n,roots,rspaces):\n",
    "    mi_dict_coords = {'m'+str(len(roots)): []}\n",
    "    for i in range(len(roots)):\n",
    "        hilo = \"m\" + str(i)\n",
    "        mi = rspace_coords[roots[i]]\n",
    "        for k in range(i+1, len(roots)):\n",
    "            mi += rspace_coords[roots[k]]\n",
    "            #print(k,roots[k])\n",
    "\n",
    "        mi_dict_coords.setdefault(hilo,mi) #nil_rad-mi\n",
    "    return mi_dict_coords\n",
    "\n",
    "mi_dict_coords = make_NT_submodule_coords(n,roots,rspaces)\n",
    "mi_dict_coords"
   ]
  },
  {
   "cell_type": "code",
   "execution_count": 125,
   "metadata": {},
   "outputs": [],
   "source": [
    "\"\"\"\n",
    "Function to compute the alpha-string through beta for the bracket [x_alpha,x_beta] (given by q and r, see Humphreys p. 145)\n",
    "\n",
    "Parameters: alpha: tuple \n",
    "    beta: tuple\n",
    "    roots: list of roots as tuples\n",
    "    \n",
    "Returns: q,r : integers\n",
    "\n",
    "\"\"\"\n",
    "def get_rstring(alpha, beta, roots):\n",
    "    #rstring_dict = {}\n",
    "    gamma = beta\n",
    "    q = 0\n",
    "    #print(gamma,type(gamma))\n",
    "    while gamma in roots:\n",
    "        gamma = tuple(np.add(gamma, alpha))\n",
    "        if gamma in roots:\n",
    "            q += 1\n",
    "                \n",
    "    gamma = beta\n",
    "    r = 0\n",
    "    while gamma in roots:\n",
    "        gamma = tuple(np.subtract(gamma, alpha))\n",
    "        if gamma in roots:\n",
    "            r += 1\n",
    "    return q,r"
   ]
  },
  {
   "cell_type": "code",
   "execution_count": 126,
   "metadata": {},
   "outputs": [],
   "source": [
    "def Chev_bracket(alpha, beta, roots, rvecs):\n",
    "    if alpha == beta:\n",
    "        bracket = 0\n",
    "    else:\n",
    "        q, r = get_rstring(alpha,beta,roots)\n",
    "        if q == 0:\n",
    "            bracket = 0\n",
    "        else:\n",
    "            #print(rvecs[tuple(np.add(alpha,beta))]['matrix'])\n",
    "            bracket = (r+1)*rvecs[tuple(np.add(alpha,beta))]['matrix'] #CHECK FOR SIGN CONVENTION\n",
    "    return bracket"
   ]
  },
  {
   "cell_type": "code",
   "execution_count": 127,
   "metadata": {},
   "outputs": [],
   "source": [
    "\"\"\"\n",
    "Function to compute the dimension of the centralizer of x in u using the Chevalley commutator relations using the root vectors that were defined previously\n",
    "\n",
    "define nil_coefs and vec_coefs as ORDERED DICTIONARIES where the keys are the roots and the values are the coefficients\n",
    "\n",
    "Params: nil_coefs: list with the same order as roots of symbolic coefficient names nalpha1tuple etc. # ORDERED DICTIONARY where the keys are the roots and the values are the coefficients\n",
    "    vec_coefs: ORDERED DICTIONARY where the keys are the roots and the values are the coefficients\n",
    "    roots\n",
    "    rvecs\n",
    "    n (matrix dimension)\n",
    "\n",
    "Returns: nullity\n",
    "\"\"\"\n",
    "def Chev_simp(nil_coefs, vec_coefs, roots, rvecs, n):\n",
    "    mat = np.zeros((n,n),dtype = int)\n",
    "    for alpha in roots: #nil_coefs: # nil_coefs.keys():\n",
    "        for beta in vec_coefs: # .keys():\n",
    "            bracket = Chev_bracket(alpha, beta, roots, rvecs)\n",
    "            a = nil_coefs[alpha]\n",
    "            b = vec_coefs[beta]\n",
    "            mat = np.add(mat, a*b*bracket)\n",
    "            \n",
    "    return mat"
   ]
  },
  {
   "cell_type": "code",
   "execution_count": 128,
   "metadata": {},
   "outputs": [],
   "source": [
    "\"\"\"\n",
    "Params: mat: matrix (numpy or probably some other kinds work too)\n",
    "\n",
    "Returns: nullity: integer\n",
    "\"\"\"\n",
    "\n",
    "def nullity(mat):\n",
    "    # Using Sympy      \n",
    "    mat = Matrix(mat)\n",
    "    NumCol = mat.shape[1]\n",
    "    rank = mat.rank()\n",
    "    # Nullity of the matrix\n",
    "    nullity = NumCol - rank\n",
    "    \n",
    "    return nullity"
   ]
  },
  {
   "cell_type": "code",
   "execution_count": 129,
   "metadata": {},
   "outputs": [
    {
     "data": {
      "text/plain": [
       "{}"
      ]
     },
     "execution_count": 129,
     "metadata": {},
     "output_type": "execute_result"
    }
   ],
   "source": [
    "{key: value for key, value in X.items() if value != 0}"
   ]
  },
  {
   "cell_type": "code",
   "execution_count": 133,
   "metadata": {},
   "outputs": [],
   "source": [
    "def check_ramification(X, dimCu, nil_coefs, rspace_coords):\n",
    "    # Remove root vectors with coefficient zero from X\n",
    "    #vec_roots = {key: value for key, value in X.items() if value != 0}\n",
    "    #vec_coefs = vec_roots.values()\n",
    "    vec_coefs = {key: value for key, value in X.items() if value != 0}\n",
    "    mat = Chev_simp(nil_coefs, vec_coefs, roots, rvecs, n)\n",
    "    #print(\"pre\",mat)\n",
    "    # mod out by mi\n",
    "    for j in range(len(mi)):\n",
    "        mat[mi[j]] = 0\n",
    "    #print(\"post\",mat)\n",
    "    if nullity(mat) == dimCu:\n",
    "        #print(str(i) + \" is a ramification point\")\n",
    "        ramification = True\n",
    "    elif nullity(mat) == dimCu - 1:\n",
    "        #print(str(i) + \" is an inert point\")\n",
    "        dimCu = nullity(mat)\n",
    "        ramification  = False\n",
    "    else:\n",
    "        print(\"something went wrong\")\n",
    "        ramification = None\n",
    "        dimCu = nullity(mat)\n",
    "        print(mat)\n",
    "    return ramification, dimCu"
   ]
  },
  {
   "cell_type": "code",
   "execution_count": null,
   "metadata": {},
   "outputs": [],
   "source": []
  },
  {
   "cell_type": "code",
   "execution_count": 178,
   "metadata": {},
   "outputs": [
    {
     "name": "stdout",
     "output_type": "stream",
     "text": [
      "0\n"
     ]
    }
   ],
   "source": [
    "for key in big_dict[\"level\"+str(0)]:\n",
    "    print(key)"
   ]
  },
  {
   "cell_type": "code",
   "execution_count": 198,
   "metadata": {},
   "outputs": [
    {
     "ename": "KeyError",
     "evalue": "'0'",
     "output_type": "error",
     "traceback": [
      "\u001b[0;31m---------------------------------------------------------------------------\u001b[0m",
      "\u001b[0;31mKeyError\u001b[0m                                  Traceback (most recent call last)",
      "\u001b[0;32m<ipython-input-198-d43a9e2d8764>\u001b[0m in \u001b[0;36m<module>\u001b[0;34m\u001b[0m\n\u001b[1;32m     44\u001b[0m     \u001b[0;32mreturn\u001b[0m \u001b[0mbig_dict\u001b[0m\u001b[0;34m\u001b[0m\u001b[0;34m\u001b[0m\u001b[0m\n\u001b[1;32m     45\u001b[0m \u001b[0;34m\u001b[0m\u001b[0m\n\u001b[0;32m---> 46\u001b[0;31m \u001b[0mohmy\u001b[0m \u001b[0;34m=\u001b[0m \u001b[0mmin_reps\u001b[0m\u001b[0;34m(\u001b[0m\u001b[0mX\u001b[0m\u001b[0;34m,\u001b[0m\u001b[0mbig_dict\u001b[0m\u001b[0;34m,\u001b[0m\u001b[0mroots\u001b[0m\u001b[0;34m)\u001b[0m\u001b[0;34m\u001b[0m\u001b[0;34m\u001b[0m\u001b[0m\n\u001b[0m",
      "\u001b[0;32m<ipython-input-198-d43a9e2d8764>\u001b[0m in \u001b[0;36mmin_reps\u001b[0;34m(X, big_dict, roots)\u001b[0m\n\u001b[1;32m     19\u001b[0m         \u001b[0mmi\u001b[0m \u001b[0;34m=\u001b[0m \u001b[0mmi_dict_coords\u001b[0m\u001b[0;34m[\u001b[0m\u001b[0;34m\"m\"\u001b[0m \u001b[0;34m+\u001b[0m \u001b[0mstr\u001b[0m\u001b[0;34m(\u001b[0m\u001b[0mi\u001b[0m\u001b[0;34m+\u001b[0m\u001b[0mInteger\u001b[0m\u001b[0;34m(\u001b[0m\u001b[0;36m1\u001b[0m\u001b[0;34m)\u001b[0m\u001b[0;34m)\u001b[0m\u001b[0;34m]\u001b[0m\u001b[0;34m\u001b[0m\u001b[0;34m\u001b[0m\u001b[0m\n\u001b[1;32m     20\u001b[0m         \u001b[0;32mfor\u001b[0m \u001b[0mkey\u001b[0m \u001b[0;32min\u001b[0m \u001b[0mbig_dict\u001b[0m\u001b[0;34m[\u001b[0m\u001b[0;34m\"level\"\u001b[0m\u001b[0;34m+\u001b[0m\u001b[0mstr\u001b[0m\u001b[0;34m(\u001b[0m\u001b[0mi\u001b[0m\u001b[0;34m-\u001b[0m\u001b[0mInteger\u001b[0m\u001b[0;34m(\u001b[0m\u001b[0;36m1\u001b[0m\u001b[0;34m)\u001b[0m\u001b[0;34m)\u001b[0m\u001b[0;34m]\u001b[0m\u001b[0;34m:\u001b[0m \u001b[0;31m# loop through the X as strings\u001b[0m\u001b[0;34m\u001b[0m\u001b[0;34m\u001b[0m\u001b[0m\n\u001b[0;32m---> 21\u001b[0;31m             \u001b[0mx\u001b[0m \u001b[0;34m=\u001b[0m \u001b[0mbig_dict\u001b[0m\u001b[0;34m[\u001b[0m\u001b[0;34m\"level\"\u001b[0m\u001b[0;34m+\u001b[0m\u001b[0mstr\u001b[0m\u001b[0;34m(\u001b[0m\u001b[0mi\u001b[0m\u001b[0;34m)\u001b[0m\u001b[0;34m]\u001b[0m\u001b[0;34m[\u001b[0m\u001b[0mkey\u001b[0m\u001b[0;34m]\u001b[0m\u001b[0;34m[\u001b[0m\u001b[0;34m\"X_dict\"\u001b[0m\u001b[0;34m]\u001b[0m\u001b[0;34m\u001b[0m\u001b[0;34m\u001b[0m\u001b[0m\n\u001b[0m\u001b[1;32m     22\u001b[0m             \u001b[0mdimCu_prev\u001b[0m \u001b[0;34m=\u001b[0m \u001b[0mbig_dict\u001b[0m\u001b[0;34m[\u001b[0m\u001b[0;34m\"level\"\u001b[0m\u001b[0;34m+\u001b[0m\u001b[0mstr\u001b[0m\u001b[0;34m(\u001b[0m\u001b[0mi\u001b[0m\u001b[0;34m)\u001b[0m\u001b[0;34m]\u001b[0m\u001b[0;34m[\u001b[0m\u001b[0mkey\u001b[0m\u001b[0;34m]\u001b[0m\u001b[0;34m[\u001b[0m\u001b[0;34m\"dimCu\"\u001b[0m\u001b[0;34m]\u001b[0m\u001b[0;34m\u001b[0m\u001b[0;34m\u001b[0m\u001b[0m\n\u001b[1;32m     23\u001b[0m             \u001b[0mramification\u001b[0m\u001b[0;34m,\u001b[0m \u001b[0mdimCu\u001b[0m \u001b[0;34m=\u001b[0m \u001b[0mcheck_ramification\u001b[0m\u001b[0;34m(\u001b[0m\u001b[0mx\u001b[0m\u001b[0;34m,\u001b[0m \u001b[0mdimCu_prev\u001b[0m\u001b[0;34m,\u001b[0m \u001b[0mnil_coefs\u001b[0m\u001b[0;34m,\u001b[0m \u001b[0mmi\u001b[0m\u001b[0;34m)\u001b[0m\u001b[0;34m\u001b[0m\u001b[0;34m\u001b[0m\u001b[0m\n",
      "\u001b[0;31mKeyError\u001b[0m: '0'"
     ]
    }
   ],
   "source": [
    "\"\"\"\n",
    "big_dict is a series of nested dictionaries\n",
    "key: \"level\" + str(i)\n",
    "value: dictionary with key X as a string and value a dictionary with key \"dimCu\" and corresponding value and \n",
    "\"X_dict,\" a dictionary where the keys are root tuples and the values are their coefficients\n",
    "Try printing big_dict[\"level0\"] for a simple example\n",
    "\"\"\"\n",
    "nil_coefs = dict(zip(roots,[var(\"n\"+str(roots[i]).replace(\"(\", \"\").replace(\")\", \"\").replace(\" \", \"\").replace(\",\", \"\")) for i in range(len(roots))]))\n",
    "\n",
    "\n",
    "X = dict(zip(roots, np.zeros(n, dtype = int))) # Initial X: Dictionary where the keys are root tuples and the values are zero\n",
    "k = [\"level\"+str(i) for i in range(len(roots)+1)]\n",
    "v = [{} for i in range(len(roots)+1)]\n",
    "big_dict = dict(zip([\"level\"+str(i) for i in range(len(roots)+1)],[{} for i in range(len(roots)+1)])) # Level number corresponds to mi--i.e., it is one greater than the index i used in the loop below\n",
    "big_dict[\"level0\"] = {\"0\":{\"dimCu\":n,\"X_dict\":dict(zip(roots, np.zeros(n, dtype = int)))}}\n",
    "\n",
    "def min_reps(X,big_dict,roots):\n",
    "    for i in range(1,len(roots)): # mi naming is one greater than the index i #for key in big_dict: \n",
    "        mi = mi_dict_coords[\"m\" + str(i+1)]\n",
    "        for key in big_dict[\"level\"+str(i-1)]: # loop through the X as strings\n",
    "            x = big_dict[\"level\"+str(i)][key][\"X_dict\"]\n",
    "            dimCu_prev = big_dict[\"level\"+str(i)][key][\"dimCu\"]\n",
    "            ramification, dimCu = check_ramification(x, dimCu_prev, nil_coefs, mi)\n",
    "            if ramification == True:\n",
    "                big_dict[\"level\"+str(i+1)][key] = {}\n",
    "                #print(big_dict[\"level\"+str(i+1)][key])\n",
    "                big_dict[\"level\"+str(i+1)][key][\"dimCu\"] = dimCu\n",
    "                big_dict[\"level\"+str(i+1)][key][\"X_dict\"] = x\n",
    "                \n",
    "                \n",
    "                big_dict[\"level\"+str(i+1)][\"keb\" + str(i)] = {}\n",
    "                # figure out how to do this better\n",
    "                oop, dimCu_new = check_ramification(X, dimCu, nil_coefs, rspace_coords)\n",
    "                big_dict[\"level\"+str(i+1)][\"keb\" + str(i)][\"dimCu\"] = dimCu_new\n",
    "                # and figure out how to do this better\n",
    "                X_make = X\n",
    "                hilo = var(\"k\" + str(tup_to_str(roots[i-1])))\n",
    "                X_make[roots[i]] = hilo\n",
    "                #print(i,key,X_make)\n",
    "                big_dict[\"level\"+str(i+1)][\"keb\" + str(i)][\"X_dict\"] = X_make\n",
    "                print(\"i\",i,\"key\",\"X\",key,big_dict[\"level\"+str(i+1)][\"keb\" + str(i)][\"X_dict\"])\n",
    "        #else:\n",
    "            \n",
    "    return big_dict\n",
    "        \n",
    "ohmy = min_reps(X,big_dict,roots)"
   ]
  },
  {
   "cell_type": "code",
   "execution_count": 194,
   "metadata": {},
   "outputs": [
    {
     "data": {
      "text/plain": [
       "{'level0': {'0': {'dimCu': 5,\n",
       "   'X_dict': {(0, 1): 0, (1, 0): 0, (1, 1): 0, (1, 2): 0}}},\n",
       " 'level1': {},\n",
       " 'level2': {},\n",
       " 'level3': {},\n",
       " 'level4': {}}"
      ]
     },
     "execution_count": 194,
     "metadata": {},
     "output_type": "execute_result"
    }
   ],
   "source": [
    "ohmy"
   ]
  },
  {
   "cell_type": "code",
   "execution_count": 187,
   "metadata": {},
   "outputs": [
    {
     "name": "stdout",
     "output_type": "stream",
     "text": [
      "{'dimCu': 5, 'X_dict': {(0, 1): 0, (1, 0): 0, (1, 1): 0, (1, 2): 0}}\n",
      "{'dimCu': 5, 'X_dict': {(0, 1): k01, (1, 0): k10, (1, 1): k11, (1, 2): k12}}\n"
     ]
    }
   ],
   "source": [
    "for key in ohmy[\"level1\"]:\n",
    "    print(ohmy[\"level1\"][key])"
   ]
  },
  {
   "cell_type": "code",
   "execution_count": null,
   "metadata": {},
   "outputs": [],
   "source": [
    "\"\"\"\n",
    "Most updated orbit representative \"function\"\n",
    "\"\"\"\n",
    "\n",
    "X = dict(zip(roots, np.zeros(n, dtype = int))) # Initial X: Dictionary where the keys are root tuples and the values are zero\n",
    "dimCu = n\n",
    "nil_coefs = dict(zip(roots,[var(\"n\"+str(roots[i]).replace(\"(\", \"\").replace(\")\", \"\").replace(\" \", \"\").replace(\",\", \"\")) for i in range(len(roots))]))\n",
    "#level_list = [X]\n",
    "Xi_dict = {\"level0\":[X]}\n",
    "for i in range(0,len(roots)):\n",
    "    for x in range(len(Xi_dict[\"level\"+str(i)])):\n",
    "        mi = mi_dict_coords[\"m\" + str(i)]\n",
    "        # MAKE dimCu ASSOCIATED WITH X AND i--I DON'T THINK IT IS NOW\n",
    "        ramification, dimCu = check_ramification(X, dimCu, nil_coefs, mi)\n",
    "        if ramification == True:\n",
    "            #Xkey = {key: value for key, value in X.items() if value != 0}.keys()\n",
    "            Xi_new = X\n",
    "            #print(roots[x])\n",
    "            Xi_new[roots[i]] = var(\"k\"+str(roots[i]).replace(\"(\", \"\").replace(\")\", \"\").replace(\" \", \"\").replace(\",\", \"\"))\n",
    "            print(\"Xi_new\",Xi_new)\n",
    "            print(i)\n",
    "            name = str(tuple(Xi_new.values())).replace(\"(\", \"\").replace(\")\", \"\").replace(\" \", \"\").replace(\",\", \"\")\n",
    "            print(\"name\",name)\n",
    "            # This line doesn't work--it puts exactly two representatives in each row\n",
    "            Xi_dict.setdefault(\"level\"+str(i+1)+Xi_new.values(), list(Xi_dict[\"level\"+str(i)]) + [X, Xi_new])\n",
    "        else:\n",
    "            Xi_dict.setdefault(\"level\"+str(i+1), list(Xi_dict[\"level\"+str(i)]))\n",
    "Xi_dict"
   ]
  },
  {
   "cell_type": "code",
   "execution_count": null,
   "metadata": {},
   "outputs": [],
   "source": [
    "\"\"\"\n",
    "Most updated but-under-construction orbit representative \"function\"\n",
    "\"\"\"\n",
    "\n",
    "X = dict(zip(roots, np.zeros(n, dtype = int))) # Initial X: Dictionary where the keys are root tuples and the values are zero\n",
    "dimCu = n\n",
    "nil_coefs = dict(zip(roots,[var(\"n\"+str(roots[i]).replace(\"(\", \"\").replace(\")\", \"\").replace(\" \", \"\").replace(\",\", \"\")) for i in range(len(roots))]))\n",
    "#level_list = [X]\n",
    "Xi_dict = {\"level0\":[X]}\n",
    "for i in range(0,len(roots)):\n",
    "    for x in range(len(Xi_dict[\"level\"+str(i)])):\n",
    "        ramification, dimCu = check_ramification"
   ]
  },
  {
   "cell_type": "code",
   "execution_count": null,
   "metadata": {},
   "outputs": [],
   "source": [
    "nil_coefs"
   ]
  },
  {
   "cell_type": "code",
   "execution_count": null,
   "metadata": {},
   "outputs": [],
   "source": [
    "X = dict(zip(roots, np.zeros(n, dtype = int))) # Initial X: Dictionary where the keys are root tuples and the values are zero\n",
    "dimCu = n\n",
    "nil_coefs = [var(\"n\"+str(roots[i]).replace(\"(\", \"\").replace(\")\", \"\").replace(\" \", \"\").replace(\",\", \"\")) for i in range(len(roots))]\n",
    "Xi_dict = {} #{\"level\"+str(i) : X for i in range(1,len(roots)+1)}\n",
    "#level_list = []\n",
    "for i in range(1,len(roots)+1):\n",
    "    for x in level_dict[\"level\"+str(i)]:\n",
    "        mi = mi_dict_coords[\"m\"+str(i)]\n",
    "        ramification, dimCu = check_ramification(X, dimCu, nil_coefs, mi)\n",
    "        if ramification == True:\n",
    "            Xkey = {key: value for key, value in X.items() if value != 0}.keys()\n",
    "            Xi_dict.setdefault(str(Xkey)+str(i), rspaces[i+1])\n",
    "    \n",
    "#if ramification "
   ]
  },
  {
   "cell_type": "code",
   "execution_count": null,
   "metadata": {},
   "outputs": [],
   "source": [
    "k = var('k')\n",
    "Chev_simp({(0,1):k,(1,0):1,(1,1):1,(1,2):1},{(0,1):1,(1,0):0,(1,1):0,(1,2):0},roots,rvecs,n)"
   ]
  },
  {
   "cell_type": "code",
   "execution_count": null,
   "metadata": {},
   "outputs": [],
   "source": [
    "nil_rad"
   ]
  },
  {
   "cell_type": "code",
   "execution_count": null,
   "metadata": {},
   "outputs": [],
   "source": [
    "\"\"\"\n",
    "Calculation of U-orbits on u\n",
    "\n",
    "\"\"\"\n",
    "def make_row(previous_row_list, mi_dict):\n",
    "    for i in range(len(roots)):\n",
    "        mat = nil_rad - mi_dict['m'+str(i)]\n",
    "        print(mat)\n",
    "    "
   ]
  },
  {
   "cell_type": "code",
   "execution_count": null,
   "metadata": {},
   "outputs": [],
   "source": [
    "X = 0\n"
   ]
  },
  {
   "cell_type": "code",
   "execution_count": null,
   "metadata": {},
   "outputs": [],
   "source": [
    "for i in range(1,len(roots)):\n",
    "    print(i)"
   ]
  },
  {
   "cell_type": "code",
   "execution_count": null,
   "metadata": {},
   "outputs": [],
   "source": [
    "nil_coefs = [var(\"n\"+str(roots[i]).replace(\"(\", \"\").replace(\")\", \"\").replace(\" \", \"\").replace(\",\", \"\")) for i in range(len(roots))]"
   ]
  },
  {
   "cell_type": "code",
   "execution_count": null,
   "metadata": {},
   "outputs": [],
   "source": [
    "X.values()"
   ]
  },
  {
   "cell_type": "code",
   "execution_count": null,
   "metadata": {},
   "outputs": [],
   "source": [
    "np.array(var(\"n\"+str(roots[i]).replace(\"(\", \"\").replace(\")\", \"\").replace(\" \", \"\").replace(\",\", \"\")))"
   ]
  },
  {
   "cell_type": "code",
   "execution_count": null,
   "metadata": {},
   "outputs": [],
   "source": [
    "rspaces"
   ]
  },
  {
   "cell_type": "code",
   "execution_count": null,
   "metadata": {},
   "outputs": [],
   "source": [
    "alpha = (0,1,1)\n",
    "beta = (0,0,1)\n",
    "brute = rvecs[tuple(alpha)]['matrix'] @ rvecs[tuple(beta)]['matrix'] - rvecs[tuple(beta)]['matrix'] @ rvecs[tuple(alpha)]['matrix']\n",
    "test = Chev_bracket((0,1,1),(0,0,1),roots, rvecs)\n",
    "print(brute)\n",
    "print(test)"
   ]
  },
  {
   "cell_type": "code",
   "execution_count": null,
   "metadata": {},
   "outputs": [],
   "source": [
    "\"\"\"\n",
    "Function to compute the alpha-string through beta (given by q and r, see Humphreys p. 145)\n",
    "(to be used in order to simplify a matrix using the Chevalley \n",
    "commutator relations using the root vectors that were defined previously)\n",
    "\n",
    "define nil_coefs and vec_coefs as ORDERED DICTIONARIES where the keys are the roots and the values are the coefficients\n",
    "\"\"\"\n",
    "\n",
    "def get_rstring_old(nil_coefs, vec_coefs, roots):\n",
    "    rstring_dict = {}\n",
    "    for alpha in range(len(list(nil_coefs.keys()))):\n",
    "        for beta in range(len(list(vec_coefs.keys()))):\n",
    "            # Compute the alpha-string through beta (alpha i-string through alpha j)\n",
    "            gamma = list(vec_coefs.keys())[beta]\n",
    "            q = 0\n",
    "            while gamma in roots:\n",
    "                gamma = tuple(np.add(gamma, list(nil_coefs.keys())[alpha]))\n",
    "                #print(str(list(nil_coefs.keys())[alpha])+str(list(vec_coefs.keys())[beta]),gamma)\n",
    "                if gamma in roots:\n",
    "                    q += 1\n",
    "                \n",
    "            gamma = list(vec_coefs.keys())[beta]\n",
    "            r = 0\n",
    "            while gamma in roots:\n",
    "                gamma = tuple(np.subtract(gamma, list(nil_coefs.keys())[alpha]))\n",
    "                if gamma in roots:\n",
    "                    r += 1\n",
    "            rstring_dict.setdefault(str(list(nil_coefs.keys())[alpha])+str(list(vec_coefs.keys())[beta]),{'q':q,'r':r})\n",
    "            # Compute the bracket\n",
    "            #XiXj = \n",
    "        return rstring_dict"
   ]
  },
  {
   "cell_type": "code",
   "execution_count": null,
   "metadata": {},
   "outputs": [],
   "source": [
    "\"\"\"\n",
    "Function to simplify a matrix using the Chevalley commutator relations using the root vectors that were defined previously\n",
    "\n",
    "define nil_coefs and vec_coefs as DICTIONARIES\n",
    "\"\"\""
   ]
  },
  {
   "cell_type": "code",
   "execution_count": null,
   "metadata": {},
   "outputs": [],
   "source": [
    "\"\"\"\n",
    "SCRATCH\n",
    "\n",
    "Compute the NT-submodules $\\mathfrak{m}_i$ as coordinates rather than matrices\n",
    "\"\"\"\n",
    "mi_dict = {}\n",
    "for i in range(num_roots):\n",
    "    hilo = \"m\" + str(i)\n",
    "    mi = []\n",
    "    mi.append(rvecs[roots[i]]['coords'])\n",
    "    for k in range(i+1, num_roots):\n",
    "        mi.append(rvecs[roots[k]]['coords'])\n",
    "        #print(k,roots[k])\n",
    "    \n",
    "    mi_dict.setdefault(hilo,mi)\n",
    "mi_dict"
   ]
  },
  {
   "cell_type": "markdown",
   "metadata": {},
   "source": [
    "# Scratch"
   ]
  },
  {
   "cell_type": "code",
   "execution_count": null,
   "metadata": {},
   "outputs": [],
   "source": [
    "# SCRATCH\n",
    "m_list = []\n",
    "for level in range(num_roots):\n",
    "    mat = nil_rad\n",
    "    #print(mat)\n",
    "    for rspace in range(len(mi_dict['m'+str(level)])):\n",
    "        print(mi_dict['m'+str(level)])\n",
    "        coords = mi_dict['m'+str(level)][rspace]\n",
    "        print(coords)\n",
    "        mat[coords[0],coords[1]] = 0\n",
    "        m_list.append(mat)"
   ]
  },
  {
   "cell_type": "code",
   "execution_count": null,
   "metadata": {},
   "outputs": [],
   "source": [
    "cand = nil_rad - mi_dict['m0']\n",
    "\n",
    "for i in range(len(roots)):\n",
    "    cand = nil_rad - mi_dict['m' + str(i)]\n",
    "    # Check if i is an inert point or a ramification point\n",
    "    bracket = nil_rad @ cand - cand @ nil_rad\n",
    "    print(bracket)"
   ]
  },
  {
   "cell_type": "code",
   "execution_count": null,
   "metadata": {},
   "outputs": [],
   "source": [
    "list(rvecs.keys())[1]"
   ]
  },
  {
   "cell_type": "code",
   "execution_count": null,
   "metadata": {},
   "outputs": [],
   "source": [
    "mats[1]"
   ]
  },
  {
   "cell_type": "code",
   "execution_count": null,
   "metadata": {},
   "outputs": [],
   "source": [
    "(mats[0]+mats[1])@nil_rad-nil_rad@(mats[0]+mats[1])"
   ]
  },
  {
   "cell_type": "code",
   "execution_count": null,
   "metadata": {},
   "outputs": [],
   "source": [
    "# Initialize vec_coefs as a numpy array with the greatest number of entries we could possibly need\n",
    "# vec_coefs = np.zeros(len(roots),dtype = int)\n",
    "# REWRITE THIS NOT TO USE APPEND\n",
    "vec_roots = []\n",
    "for key in X:\n",
    "    if X[key] != 0:\n",
    "        vec_roots.append(key)\n",
    "\n",
    "vec_coefs"
   ]
  },
  {
   "cell_type": "code",
   "execution_count": null,
   "metadata": {},
   "outputs": [],
   "source": [
    "nil_rad@rvecs[list(rvecs.keys())[1]]['matrix']-rvecs[list(rvecs.keys())[1]]['matrix']@nil_rad"
   ]
  },
  {
   "cell_type": "code",
   "execution_count": null,
   "metadata": {},
   "outputs": [],
   "source": [
    "g = LieAlgebra(QQ, cartan_type=[G,l]) #, representation=\"matrix\""
   ]
  },
  {
   "cell_type": "code",
   "execution_count": null,
   "metadata": {},
   "outputs": [],
   "source": [
    "B3 = RootSystem([\"B\",3]).root_space()\n",
    "roots=list(B3.positive_roots())\n",
    "roots"
   ]
  },
  {
   "cell_type": "code",
   "execution_count": null,
   "metadata": {},
   "outputs": [],
   "source": [
    "g"
   ]
  },
  {
   "cell_type": "code",
   "execution_count": null,
   "metadata": {
    "scrolled": true
   },
   "outputs": [],
   "source": [
    "g.lie_algebra_generators()"
   ]
  },
  {
   "cell_type": "code",
   "execution_count": null,
   "metadata": {},
   "outputs": [],
   "source": [
    "g.inject_variables()"
   ]
  },
  {
   "cell_type": "code",
   "execution_count": null,
   "metadata": {},
   "outputs": [],
   "source": [
    "print(e1)"
   ]
  },
  {
   "cell_type": "code",
   "execution_count": null,
   "metadata": {},
   "outputs": [],
   "source": [
    "n = LieAlgebra(QQ, cartan_type=['A',4], nilpotent=True)"
   ]
  },
  {
   "cell_type": "code",
   "execution_count": null,
   "metadata": {},
   "outputs": [],
   "source": [
    "# Fix an enumeration of the positive roots s.t. ht(\\beta_i)\\leq ht(\\beta_{i+1})\n",
    "\n"
   ]
  },
  {
   "cell_type": "code",
   "execution_count": null,
   "metadata": {},
   "outputs": [],
   "source": [
    "so4 = lie_algebras.so(QQ, 5, representation='matrix'); so4\n",
    "so4.gens()"
   ]
  }
 ],
 "metadata": {
  "kernelspec": {
   "display_name": "SageMath 9.3",
   "language": "sage",
   "name": "sagemath"
  },
  "language_info": {
   "codemirror_mode": {
    "name": "ipython",
    "version": 3
   },
   "file_extension": ".py",
   "mimetype": "text/x-python",
   "name": "python",
   "nbconvert_exporter": "python",
   "pygments_lexer": "ipython3",
   "version": "3.7.10"
  }
 },
 "nbformat": 4,
 "nbformat_minor": 4
}
