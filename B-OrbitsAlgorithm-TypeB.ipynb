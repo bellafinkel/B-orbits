{
 "cells": [
  {
   "cell_type": "markdown",
   "metadata": {},
   "source": [
    "Done:\n",
    "1. Store root vectors in Phi+ in a list called roots. Store all linear combinations of root vectors with coefficients of 1 in a list called sym_vec_combs\n",
    "2. Calculate and store the Ualpha under which the possible root vector combinations are not stable.\n",
    "\n",
    "To do:\n",
    "1. Make matrices for the root vectors, torus, and unipotent root groups\n",
    "    1.i Change the data type of the root vectors from numpy arrays to matrices using np.asmatrix https://numpy.org/doc/stable/reference/generated/numpy.asmatrix.html\n",
    "    1.ii Write make_rvecs_A(l)\n",
    "    \n",
    "8. Find out if there is a way to tell which vectors lie in the same orbit based on their root vector combination, rather than by calculating the B-orbits by brute force.\n",
    "2. Calculate all possible B-Orbits\n",
    "3. For each B-orbit, pull the coefficients on each root vector. Test if each coefficient is zero, and add a list of all coefficients of 0 to a list that stores the root vectors in the zero set. Do the same for coefficients that have only entries from T and none from the Ualpha\n",
    "4. __Automate the discovery of algebraic relationships between the coordinates to give the polynomial defining equations in the zero set and the nonzero set, probably using an algorithm in elimination theory. \"The basic idea of the implicitization problem is to convert the parametrization into definining equations for V\" (Cox Little O'Shea pp. 133. N.t. they use V to refer to the polynomial zero set)__\n",
    "5. __Find a way to tell when an \"orbit\" is infinite. It's probably when there's an algebraic dependence relation among the coordinates that involves a coefficient on one of the root vectors (in addition to or instead of the variables standing for an arbitrary scalar entry in T or Ualpha). Find a rigorous way of stating and defending this. Modality is probably the useful concept here. Since the orbits are varieties, is it possible to calculate the modality of the individual \"orbits\" to see if they turn out to be families of orbits? Then an orbit family would have modality 1, and a singleton orbit would have modality zero.__\n",
    "6. __Automate the reverse inclusion calculations in Python. Is it possible that it actually isn't necessary to check the reverse inclusion? When would it happen that the B-orbit is in the intersection of the zero set and the nonzero set but not vice versa?__\n",
    "7. __Find a way to tell when we have calculated all the B-orbits. Automate proof of nilradical exhaustion. Is there a way we can tell how many infinite \"orbits\" and how many singleton \"orbits\" there are before we calculate them? If so, we could just keep count and do a proof of exhaustion of n when we've got enough.__\n",
    "9. Put in the option to display a B-orbit in equation form\n",
    "10. Implement class structure\n",
    "11. Add error handling"
   ]
  },
  {
   "cell_type": "code",
   "execution_count": 2,
   "metadata": {},
   "outputs": [],
   "source": [
    "import numpy as np\n",
    "from itertools import combinations\n",
    "from collections import OrderedDict"
   ]
  },
  {
   "cell_type": "code",
   "execution_count": 3,
   "metadata": {},
   "outputs": [
    {
     "name": "stdout",
     "output_type": "stream",
     "text": [
      "9\n"
     ]
    }
   ],
   "source": [
    "\"\"\"\n",
    "Make matrices for the root vectors for the positive roots in type B (i.e., the root vectors in the nilradical).\n",
    "Store the root vector matrices in a dictionary called rvecs where the keys are the eigenvector names given on page 131\n",
    "of Erdmann and the values are the eigenvectors as numpy arrays\n",
    "\"\"\"\n",
    "def make_rvecs_Bv1(l):\n",
    "    rvecs = {}\n",
    "\n",
    "    M = np.zeros((2*l+1,2*l+1),dtype = int)\n",
    "    # Add root vectors b_i for roots of the form epsilon_i to rvecs\n",
    "    for i in np.arange(1,l+1,1):\n",
    "        # b_ij\n",
    "        M[i,0] = 1\n",
    "        M[0,l+i] = -1\n",
    "        hilo = \"b\" + str(i)\n",
    "        rvecs.setdefault(hilo,M)\n",
    "        M = np.zeros((2*l+1,2*l+1),dtype = int)\n",
    "        #print(i)\n",
    "        \n",
    "    for i in np.arange(1,l,1):\n",
    "        for j in np.arange(1,l+1,1):\n",
    "            # p_ij\n",
    "            if i<j:\n",
    "                M[i,l+j] = 1\n",
    "                M[j,l+i] = -1\n",
    "                hilo = \"p\" + str(i) + str(j)\n",
    "                rvecs.setdefault(hilo,M)\n",
    "                M = np.zeros((2*l+1,2*l+1),dtype = int)\n",
    "            # m_ij\n",
    "            if i != j and i<j:\n",
    "                M[i,j] = 1\n",
    "                M[l+j,l+i] = -1\n",
    "                hilo = \"m\" + str(i) + str(j)\n",
    "                rvecs.setdefault(hilo,M)\n",
    "                M = np.zeros((2*l+1,2*l+1),dtype = int)\n",
    "    #print(i,j)\n",
    "    return rvecs\n",
    "\n",
    "rvecs = make_rvecs_Bv1(3)\n",
    "print(len(rvecs))"
   ]
  },
  {
   "cell_type": "code",
   "execution_count": 4,
   "metadata": {},
   "outputs": [
    {
     "name": "stdout",
     "output_type": "stream",
     "text": [
      "[alpha[1], alpha[2], alpha[3], alpha[1] + alpha[2], alpha[2] + 2*alpha[3], alpha[2] + alpha[3], alpha[1] + alpha[2] + 2*alpha[3], alpha[1] + alpha[2] + alpha[3], alpha[1] + 2*alpha[2] + 2*alpha[3]]\n"
     ]
    },
    {
     "data": {
      "text/plain": [
       "[(1, 0, 0),\n",
       " (0, 1, 0),\n",
       " (0, 0, 1),\n",
       " (1, 1, 0),\n",
       " (0, 1, 2),\n",
       " (0, 1, 1),\n",
       " (1, 1, 2),\n",
       " (1, 1, 1),\n",
       " (1, 2, 2)]"
      ]
     },
     "execution_count": 4,
     "metadata": {},
     "output_type": "execute_result"
    }
   ],
   "source": [
    "# Take the type and rank of the Lie group\n",
    "L = RootSystem([\"B\",3]).root_space()\n",
    "roots=list(L.positive_roots())\n",
    "print(roots)\n",
    "#roots[0].to_vector()\n",
    "roots = [root.to_vector() for root in roots]\n",
    "roots"
   ]
  },
  {
   "cell_type": "code",
   "execution_count": 5,
   "metadata": {},
   "outputs": [
    {
     "name": "stdout",
     "output_type": "stream",
     "text": [
      "{(1, 1, 1): array([[ 0,  0,  0,  0, -1,  0,  0],\n",
      "       [ 1,  0,  0,  0,  0,  0,  0],\n",
      "       [ 0,  0,  0,  0,  0,  0,  0],\n",
      "       [ 0,  0,  0,  0,  0,  0,  0],\n",
      "       [ 0,  0,  0,  0,  0,  0,  0],\n",
      "       [ 0,  0,  0,  0,  0,  0,  0],\n",
      "       [ 0,  0,  0,  0,  0,  0,  0]]), (0, 1, 1): array([[ 0,  0,  0,  0,  0, -1,  0],\n",
      "       [ 0,  0,  0,  0,  0,  0,  0],\n",
      "       [ 1,  0,  0,  0,  0,  0,  0],\n",
      "       [ 0,  0,  0,  0,  0,  0,  0],\n",
      "       [ 0,  0,  0,  0,  0,  0,  0],\n",
      "       [ 0,  0,  0,  0,  0,  0,  0],\n",
      "       [ 0,  0,  0,  0,  0,  0,  0]]), (0, 0, 1): array([[ 0,  0,  0,  0,  0,  0, -1],\n",
      "       [ 0,  0,  0,  0,  0,  0,  0],\n",
      "       [ 0,  0,  0,  0,  0,  0,  0],\n",
      "       [ 1,  0,  0,  0,  0,  0,  0],\n",
      "       [ 0,  0,  0,  0,  0,  0,  0],\n",
      "       [ 0,  0,  0,  0,  0,  0,  0],\n",
      "       [ 0,  0,  0,  0,  0,  0,  0]]), (1, 2, 2): array([[ 0,  0,  0,  0,  0,  0,  0],\n",
      "       [ 0,  0,  0,  0,  0,  1,  0],\n",
      "       [ 0,  0,  0,  0, -1,  0,  0],\n",
      "       [ 0,  0,  0,  0,  0,  0,  0],\n",
      "       [ 0,  0,  0,  0,  0,  0,  0],\n",
      "       [ 0,  0,  0,  0,  0,  0,  0],\n",
      "       [ 0,  0,  0,  0,  0,  0,  0]]), (1, 0, 0): array([[ 0,  0,  0,  0,  0,  0,  0],\n",
      "       [ 0,  0,  1,  0,  0,  0,  0],\n",
      "       [ 0,  0,  0,  0,  0,  0,  0],\n",
      "       [ 0,  0,  0,  0,  0,  0,  0],\n",
      "       [ 0,  0,  0,  0,  0,  0,  0],\n",
      "       [ 0,  0,  0,  0, -1,  0,  0],\n",
      "       [ 0,  0,  0,  0,  0,  0,  0]]), (1, 1, 2): array([[ 0,  0,  0,  0,  0,  0,  0],\n",
      "       [ 0,  0,  0,  0,  0,  0,  1],\n",
      "       [ 0,  0,  0,  0,  0,  0,  0],\n",
      "       [ 0,  0,  0,  0, -1,  0,  0],\n",
      "       [ 0,  0,  0,  0,  0,  0,  0],\n",
      "       [ 0,  0,  0,  0,  0,  0,  0],\n",
      "       [ 0,  0,  0,  0,  0,  0,  0]]), (1, 1, 0): array([[ 0,  0,  0,  0,  0,  0,  0],\n",
      "       [ 0,  0,  0,  1,  0,  0,  0],\n",
      "       [ 0,  0,  0,  0,  0,  0,  0],\n",
      "       [ 0,  0,  0,  0,  0,  0,  0],\n",
      "       [ 0,  0,  0,  0,  0,  0,  0],\n",
      "       [ 0,  0,  0,  0,  0,  0,  0],\n",
      "       [ 0,  0,  0,  0, -1,  0,  0]]), (0, 1, 2): array([[ 0,  0,  0,  0,  0,  0,  0],\n",
      "       [ 0,  0,  0,  0,  0,  0,  0],\n",
      "       [ 0,  0,  0,  0,  0,  0,  1],\n",
      "       [ 0,  0,  0,  0,  0, -1,  0],\n",
      "       [ 0,  0,  0,  0,  0,  0,  0],\n",
      "       [ 0,  0,  0,  0,  0,  0,  0],\n",
      "       [ 0,  0,  0,  0,  0,  0,  0]]), (0, 1, 0): array([[ 0,  0,  0,  0,  0,  0,  0],\n",
      "       [ 0,  0,  0,  0,  0,  0,  0],\n",
      "       [ 0,  0,  0,  1,  0,  0,  0],\n",
      "       [ 0,  0,  0,  0,  0,  0,  0],\n",
      "       [ 0,  0,  0,  0,  0,  0,  0],\n",
      "       [ 0,  0,  0,  0,  0,  0,  0],\n",
      "       [ 0,  0,  0,  0,  0, -1,  0]])}\n"
     ]
    }
   ],
   "source": [
    "\"\"\"\n",
    "Make matrices for the root vectors for the positive roots in type B (i.e., the root vectors in the nilradical).\n",
    "Store the root vector matrices in a dictionary called rvecs where the keys are the eigenvector names given on page 131\n",
    "of Erdmann and the values are the eigenvectors as numpy arrays\n",
    "\"\"\"\n",
    "def make_rvecs_B(l):\n",
    "    rvecs = {}\n",
    "\n",
    "    M = np.zeros((2*l+1,2*l+1),dtype = int)\n",
    "    # Add root vectors b_i for roots of the form epsilon_i to rvecs\n",
    "    for i in np.arange(1,l+1,1):\n",
    "        # b_ij\n",
    "        M[i,0] = 1\n",
    "        M[0,l+i] = -1\n",
    "        hilo = \"b\" + str(i)\n",
    "        coef = np.zeros(l, dtype = int) # Array of length the number of roots in the base\n",
    "        coef[i-1:l] = 1\n",
    "        coef = tuple(coef)\n",
    "        #print(i,coef)\n",
    "        # Assign the list consisting of the root vector M and the root coef to the key hilo in the dictionary rvecs\n",
    "        #rvecs.setdefault(hilo,[coef,M])\n",
    "        rvecs.setdefault(coef,M)\n",
    "        M = np.zeros((2*l+1,2*l+1),dtype = int)\n",
    "        #print(i)\n",
    "        \n",
    "    for i in np.arange(1,l,1):\n",
    "        for j in np.arange(1,l+1,1):\n",
    "            # p_ij\n",
    "            if i<j:\n",
    "                M[i,l+j] = 1\n",
    "                M[j,l+i] = -1\n",
    "                hilo = \"p\" + str(i) + str(j)\n",
    "                coef = np.zeros(l, dtype = int) # Array of length the number of roots in the base\n",
    "                coef[i-1:j] = 1\n",
    "                coef[j-1:l] = 2\n",
    "                coef = tuple(coef)\n",
    "                #print(i,j,coef)\n",
    "                #rvecs.setdefault(hilo,[coef,M])\n",
    "                rvecs.setdefault(coef,M)\n",
    "                M = np.zeros((2*l+1,2*l+1),dtype = int)\n",
    "            # m_ij\n",
    "            if i != j and i<j:\n",
    "                M[i,j] = 1\n",
    "                M[l+j,l+i] = -1\n",
    "                hilo = \"m\" + str(i) + str(j)\n",
    "                coef = np.zeros(l, dtype = int) # Array of length the number of roots in the base\n",
    "                coef[i-1:j-1] = 1 \n",
    "                coef = tuple(coef)\n",
    "                #rvecs.setdefault(hilo,[coef,M])\n",
    "                rvecs.setdefault(coef,M)\n",
    "                M = np.zeros((2*l+1,2*l+1), dtype = int)\n",
    "    #print(i,j)\n",
    "    return rvecs\n",
    "\n",
    "rvecs = make_rvecs_B(3)\n",
    "print(rvecs)"
   ]
  },
  {
   "cell_type": "raw",
   "metadata": {},
   "source": [
    "# Check that make_rvecs_B(l) computes the same roots as Sage (it looks like it does)\n",
    "bee = []\n",
    "for value in rvecs.values():\n",
    "    bee.append(value[0])\n",
    "set(bee)\n",
    "x=[tuple(root) for root in roots]\n",
    "set(x)==set(bee)"
   ]
  },
  {
   "cell_type": "code",
   "execution_count": 73,
   "metadata": {},
   "outputs": [],
   "source": [
    "\"\"\"\n",
    "Make a matrix for the torus in type B\n",
    "\"\"\"\n",
    "# Make a matrix for the torus given group type and rank\n",
    "# Input for Gtype may be A,B,C,D\n",
    "# None of these are accurate except the one for type B\n",
    "def make_T(Gtype,l):\n",
    "    if Gtype == 'A':\n",
    "        n = l + 1\n",
    "        #syms=np.array([var(\"q\"+str(i)) for i in range(n)])\n",
    "        #T = np.diag(syms)\n",
    "    elif Gtype == 'B':\n",
    "        n = 2*l+1 \n",
    "        syms = np.array([var(\"q\"+str(i)) for i in range(l)], dtype = object)\n",
    "        symsinv = np.array([var(\"q\"+str(i))^(-1) for i in range(l)], dtype = object)\n",
    "        syms = np.insert(syms,0,1)\n",
    "        syms = np.insert(syms,l+1,symsinv)\n",
    "        #print(syms)\n",
    "        T = np.diag(syms)\n",
    "    elif Gtype == 'C':\n",
    "        n = 2*l\n",
    "        #syms=np.array([var(\"q\"+str(i)) for i in range(n)])\n",
    "        #T = np.diag(syms)\n",
    "    elif Gtype == 'D':\n",
    "        n = 2*l\n",
    "        #syms=np.array([var(\"q\"+str(i)) for i in range(n)])\n",
    "        #T = np.diag(syms)\n",
    "    return T"
   ]
  },
  {
   "cell_type": "code",
   "execution_count": 8,
   "metadata": {
    "scrolled": true
   },
   "outputs": [],
   "source": [
    "\"\"\"\n",
    "Make matrices for each unipotent root group of the positive roots for \n",
    "type B\n",
    "\"\"\"\n",
    "def make_Ua(l):\n",
    "    Ua = {}\n",
    "    i = 0\n",
    "    for key, value in rvecs.items():\n",
    "        # Make the numpy array a Sage matrix so that it can be properly \n",
    "        # exponentiated (equiv. of MatrixExp), then take the matrix exponential\n",
    "        name = \"t\" + str(key).replace(\"(\", \"\").replace(\")\", \"\").replace(\" \", \"\").replace(\",\", \"\")\n",
    "        #print(name)\n",
    "        name = var(name)\n",
    "        U = matrix(value*name)\n",
    "        U = e^U\n",
    "        Ua.setdefault(key,U)\n",
    "    return Ua\n",
    "U = make_Ua(3)"
   ]
  },
  {
   "cell_type": "code",
   "execution_count": 9,
   "metadata": {},
   "outputs": [
    {
     "name": "stdout",
     "output_type": "stream",
     "text": [
      "511\n"
     ]
    }
   ],
   "source": [
    "\"\"\"\n",
    "Create a list storing all combinations we want to sum of root vectors as symbols, \n",
    "excluding the empty sum but including single root vectors\n",
    "\"\"\"\n",
    "\n",
    "roots = np.array(list(rvecs.keys()))\n",
    "for t in range(len(roots)):\n",
    "    roots[t] = list(roots[t])\n",
    "m = len(roots)\n",
    "\n",
    "sym_vec_combs = []\n",
    "for i in range(0, m):\n",
    "    sym_vec_combs += list(combinations(roots,i))\n",
    "print(len(sym_vec_combs))"
   ]
  },
  {
   "cell_type": "markdown",
   "metadata": {},
   "source": [
    "        # If an entry involves some expression of t, change it to \n",
    "        # another variable. This doesn't work and we also probably\n",
    "        # don't want it\n",
    "        for i in range(2*l+1):\n",
    "            for j in range(2*l+1):\n",
    "                if U[i,j] != 0 and U[i,j] != 1:\n",
    "                    U[i,j] = name\n",
    "                    Ua[key] = U"
   ]
  },
  {
   "cell_type": "code",
   "execution_count": 10,
   "metadata": {},
   "outputs": [
    {
     "name": "stdout",
     "output_type": "stream",
     "text": [
      "[[1, 1, 1], [0, 1, 1], [0, 0, 1], [1, 2, 2], [1, 0, 0], [1, 1, 2], [1, 1, 0], [0, 1, 2], [0, 1, 0]]\n"
     ]
    }
   ],
   "source": [
    "roots = list(rvecs.keys())\n",
    "for t in range(len(roots)):\n",
    "    roots[t] = list(roots[t])\n",
    "print(roots)\n",
    "#print(type(x[0]))"
   ]
  },
  {
   "cell_type": "code",
   "execution_count": 11,
   "metadata": {},
   "outputs": [
    {
     "name": "stdout",
     "output_type": "stream",
     "text": [
      "[alpha[1], alpha[2], alpha[3], alpha[1] + alpha[2], alpha[2] + 2*alpha[3], alpha[2] + alpha[3], alpha[1] + alpha[2] + 2*alpha[3], alpha[1] + alpha[2] + alpha[3], alpha[1] + 2*alpha[2] + 2*alpha[3]]\n"
     ]
    },
    {
     "data": {
      "text/plain": [
       "[(1, 0, 0),\n",
       " (0, 1, 0),\n",
       " (0, 0, 1),\n",
       " (1, 1, 0),\n",
       " (0, 1, 2),\n",
       " (0, 1, 1),\n",
       " (1, 1, 2),\n",
       " (1, 1, 1),\n",
       " (1, 2, 2)]"
      ]
     },
     "execution_count": 11,
     "metadata": {},
     "output_type": "execute_result"
    }
   ],
   "source": [
    "# Take the type and rank of the Lie group\n",
    "L = RootSystem([\"B\",3]).root_space()\n",
    "roots=list(L.positive_roots())\n",
    "print(roots)\n",
    "#roots[0].to_vector()\n",
    "roots = [root.to_vector() for root in roots]\n",
    "roots"
   ]
  },
  {
   "cell_type": "code",
   "execution_count": 12,
   "metadata": {},
   "outputs": [
    {
     "name": "stdout",
     "output_type": "stream",
     "text": [
      "511\n"
     ]
    }
   ],
   "source": [
    "\"\"\"\n",
    "Create a list of all combinations we want to sum of root vectors as symbols, \n",
    "excluding the empty sum but including single root vectors\n",
    "\"\"\"\n",
    "x_list=roots\n",
    "sym_vec_combs = []\n",
    "for i in range(1, len(x_list) + 1):\n",
    "    sym_vec_combs += list(combinations(x_list,i))\n",
    "print(len(sym_vec_combs))"
   ]
  },
  {
   "cell_type": "code",
   "execution_count": 13,
   "metadata": {},
   "outputs": [
    {
     "name": "stdout",
     "output_type": "stream",
     "text": [
      "[[(0, 1, 0), (0, 1, 2), (0, 1, 1)], [(1, 0, 0), (0, 0, 1), (1, 1, 2)], [(0, 1, 0), (1, 1, 0), (0, 1, 1), (1, 1, 1)], [(0, 0, 1), (0, 1, 2)], [(1, 0, 0), (1, 1, 0)], [(1, 0, 0), (0, 0, 1), (1, 1, 1)], [(0, 1, 0)], [(0, 0, 1), (0, 1, 1)], []]\n"
     ]
    }
   ],
   "source": [
    "\"\"\"\n",
    "Fix a root x in Phi+, then loop through each root xi in Phi+ to check\n",
    "whether x+xi is in Phi+. If x+xi is in Phi+, then x is not stable \n",
    "under Ui and we place Ui in a list with the same indexing as roots.\n",
    "\n",
    "Index zero corresponds to alpha1, etc.\n",
    "\"\"\"\n",
    "Ualpha_list=[ [] for _ in range(len(roots)) ]\n",
    "N = range(len(roots))\n",
    "for f in N:\n",
    "    for t in N:\n",
    "        if roots[f]+roots[t] in roots:\n",
    "            Ualpha_list[f].append(roots[t])\n",
    "\n",
    "print(Ualpha_list)"
   ]
  },
  {
   "cell_type": "code",
   "execution_count": 14,
   "metadata": {},
   "outputs": [
    {
     "data": {
      "text/plain": [
       "(0, 1, 0)"
      ]
     },
     "execution_count": 14,
     "metadata": {},
     "output_type": "execute_result"
    }
   ],
   "source": [
    "tuple(Ualpha_list[0][0])"
   ]
  },
  {
   "cell_type": "code",
   "execution_count": 15,
   "metadata": {},
   "outputs": [],
   "source": [
    "\"\"\"\n",
    "Umat is basically Ualpha_list but with matrices\n",
    "\"\"\"\n",
    "Umat = []\n",
    "\n",
    "for i in range(len(Ualpha_list)):\n",
    "    dum = []\n",
    "    for j in range(len(Ualpha_list[i])):\n",
    "        #print(Ualpha_list[i][j])\n",
    "        #print(type(U[tuple(Ualpha_list[0][0])]))\n",
    "        dum.append(np.array(U[tuple(Ualpha_list[i][j])]))\n",
    "    Umat.append(dum)"
   ]
  },
  {
   "cell_type": "code",
   "execution_count": 16,
   "metadata": {},
   "outputs": [
    {
     "data": {
      "text/plain": [
       "[array([[1, 0, 0, 0, 0, 0, 0],\n",
       "        [0, 1, 0, 0, 0, 0, 0],\n",
       "        [0, 0, 1, t010, 0, 0, 0],\n",
       "        [0, 0, 0, 1, 0, 0, 0],\n",
       "        [0, 0, 0, 0, 1, 0, 0],\n",
       "        [0, 0, 0, 0, 0, 1, 0],\n",
       "        [0, 0, 0, 0, 0, -t010, 1]], dtype=object),\n",
       " array([[1, 0, 0, 0, 0, 0, 0],\n",
       "        [0, 1, 0, 0, 0, 0, 0],\n",
       "        [0, 0, 1, 0, 0, 0, t012],\n",
       "        [0, 0, 0, 1, 0, -t012, 0],\n",
       "        [0, 0, 0, 0, 1, 0, 0],\n",
       "        [0, 0, 0, 0, 0, 1, 0],\n",
       "        [0, 0, 0, 0, 0, 0, 1]], dtype=object),\n",
       " array([[1, 0, 0, 0, 0, -t011, 0],\n",
       "        [0, 1, 0, 0, 0, 0, 0],\n",
       "        [t011, 0, 1, 0, 0, -1/2*t011^2, 0],\n",
       "        [0, 0, 0, 1, 0, 0, 0],\n",
       "        [0, 0, 0, 0, 1, 0, 0],\n",
       "        [0, 0, 0, 0, 0, 1, 0],\n",
       "        [0, 0, 0, 0, 0, 0, 1]], dtype=object)]"
      ]
     },
     "execution_count": 16,
     "metadata": {},
     "output_type": "execute_result"
    }
   ],
   "source": [
    "Umat[0]"
   ]
  },
  {
   "cell_type": "code",
   "execution_count": 17,
   "metadata": {},
   "outputs": [
    {
     "name": "stdout",
     "output_type": "stream",
     "text": [
      "<class 'numpy.ndarray'>\n"
     ]
    }
   ],
   "source": [
    "print(type(np.array(sym_vec_combs[10])))"
   ]
  },
  {
   "cell_type": "code",
   "execution_count": 18,
   "metadata": {},
   "outputs": [
    {
     "data": {
      "text/plain": [
       "[[(0, 1, 0), (0, 1, 2), (0, 1, 1)],\n",
       " [(1, 0, 0), (0, 0, 1), (1, 1, 2)],\n",
       " [(0, 1, 0), (1, 1, 0), (0, 1, 1), (1, 1, 1)],\n",
       " [(0, 0, 1), (0, 1, 2)],\n",
       " [(1, 0, 0), (1, 1, 0)],\n",
       " [(1, 0, 0), (0, 0, 1), (1, 1, 1)],\n",
       " [(0, 1, 0)],\n",
       " [(0, 0, 1), (0, 1, 1)],\n",
       " []]"
      ]
     },
     "execution_count": 18,
     "metadata": {},
     "output_type": "execute_result"
    }
   ],
   "source": [
    "Ualpha_list"
   ]
  },
  {
   "cell_type": "code",
   "execution_count": 19,
   "metadata": {},
   "outputs": [],
   "source": [
    "\"\"\"\n",
    "Create a list xUlist to store the Ualpha under which the possible \n",
    "root vector combinations (stored in sym_vec_combs) are not stable.\n",
    "Shares index with sym_vec_combs.\n",
    "\"\"\"\n",
    "xUlist = [ [] for _ in range(len(sym_vec_combs)) ]\n",
    "xUlist_mat = [ [] for _ in range(len(sym_vec_combs)) ]\n",
    "for k in range(len(sym_vec_combs)):\n",
    "    for i in range(len(Ualpha_list)):\n",
    "        if roots[i] in sym_vec_combs[k]:\n",
    "            xUlist[k].extend(Ualpha_list[i])\n",
    "            # xUlist_mat to store the Ualpha as matrices under which the possible \n",
    "            # root vector combinations (stored in sym_vec_combs) are not stable\n",
    "            xUlist_mat[k].extend(Umat[i])"
   ]
  },
  {
   "cell_type": "code",
   "execution_count": 20,
   "metadata": {},
   "outputs": [
    {
     "data": {
      "text/plain": [
       "array([[1, 0, 0, 0, 0, 0, 0],\n",
       "       [0, 1, 0, 0, 0, 0, 0],\n",
       "       [0, 0, 1, t010, 0, 0, 0],\n",
       "       [0, 0, 0, 1, 0, 0, 0],\n",
       "       [0, 0, 0, 0, 1, 0, 0],\n",
       "       [0, 0, 0, 0, 0, 1, 0],\n",
       "       [0, 0, 0, 0, 0, -t010, 1]], dtype=object)"
      ]
     },
     "execution_count": 20,
     "metadata": {},
     "output_type": "execute_result"
    }
   ],
   "source": [
    "xUlist_mat[0][0]"
   ]
  },
  {
   "cell_type": "code",
   "execution_count": 56,
   "metadata": {},
   "outputs": [
    {
     "data": {
      "text/plain": [
       "array([[1, 0, 0, 0, 0, 0, -t001],\n",
       "       [0, 1, t100, 0, 0, 0, t112],\n",
       "       [0, 0, 1, 0, 0, 0, 0],\n",
       "       [t001, 0, 0, 1, -t112, 0, -1/2*t001^2],\n",
       "       [0, 0, 0, 0, 1, 0, 0],\n",
       "       [0, 0, 0, 0, -t100, 1, 0],\n",
       "       [0, 0, 0, 0, 0, 0, 1]], dtype=object)"
      ]
     },
     "execution_count": 56,
     "metadata": {},
     "output_type": "execute_result"
    }
   ],
   "source": [
    "\"\"\"\n",
    "THIS WOULD BE BETTER AS A DICTIONARY\n",
    "\n",
    "Save the products of U_alpha as matrices in a list (This is important)\n",
    "THESE DIFFER FROM THE ONES CALCULATED IN B_OrbitAutomation_v3.1, MAYBE BECAUSE THE MATRICES ARE BEING MULTIPLIED IN\n",
    "DIFFERENT ORDERS. WHY DOESN'T ORDER MATTER FOR THE PURPOSE OF CALCULATING B-ORBITS?\n",
    "\"\"\"\n",
    "\n",
    "Uprod = []\n",
    "l = 7\n",
    "\n",
    "for i in range(len(xUlist_mat)):\n",
    "    dum = np.eye(l, dtype = int)\n",
    "    for j in range(len(xUlist_mat[i])):\n",
    "        new_mat = xUlist_mat[i][j]\n",
    "        dum = np.matmul(dum,new_mat)\n",
    "    Uprod.append(dum)\n",
    "Uprod[1]"
   ]
  },
  {
   "cell_type": "code",
   "execution_count": 22,
   "metadata": {},
   "outputs": [
    {
     "data": {
      "text/plain": [
       "array([[1, 0, 0, 0, -t111, -t011, 0],\n",
       "       [t111, 1, 0, t110, -1/2*t111^2, 0, 0],\n",
       "       [t011, 0, 1, t010, -t011*t111, -1/2*t011^2, 0],\n",
       "       [0, 0, 0, 1, 0, 0, 0],\n",
       "       [0, 0, 0, 0, 1, 0, 0],\n",
       "       [0, 0, 0, 0, 0, 1, 0],\n",
       "       [0, 0, 0, 0, -t110, -t010, 1]], dtype=object)"
      ]
     },
     "execution_count": 22,
     "metadata": {},
     "output_type": "execute_result"
    }
   ],
   "source": [
    "Uprod[2]"
   ]
  },
  {
   "cell_type": "code",
   "execution_count": 47,
   "metadata": {},
   "outputs": [
    {
     "data": {
      "text/plain": [
       "<class 'sage.modules.vector_rational_dense.Vector_rational_dense'>"
      ]
     },
     "execution_count": 47,
     "metadata": {},
     "output_type": "execute_result"
    }
   ],
   "source": [
    "type(sym_vec_combs[0][0])"
   ]
  },
  {
   "cell_type": "code",
   "execution_count": 36,
   "metadata": {},
   "outputs": [
    {
     "data": {
      "text/plain": [
       "array([[ 0,  0,  0,  0,  0,  0,  0],\n",
       "       [ 0,  0,  1,  0,  0,  0,  0],\n",
       "       [ 0,  0,  0,  0,  0,  0,  0],\n",
       "       [ 0,  0,  0,  0,  0,  0,  0],\n",
       "       [ 0,  0,  0,  0,  0,  0,  0],\n",
       "       [ 0,  0,  0,  0, -1,  0,  0],\n",
       "       [ 0,  0,  0,  0,  0,  0,  0]])"
      ]
     },
     "execution_count": 36,
     "metadata": {},
     "output_type": "execute_result"
    }
   ],
   "source": [
    "rvecs[tuple(sym_vec_combs[0][0])]"
   ]
  },
  {
   "cell_type": "code",
   "execution_count": 113,
   "metadata": {},
   "outputs": [
    {
     "data": {
      "text/plain": [
       "array([[0, 0, 0, 0, 0, -1, -1],\n",
       "       [0, 0, 0, 0, 0, 0, 0],\n",
       "       [1, 0, 0, 0, 0, 0, 1],\n",
       "       [1, 0, 0, 0, 0, -1, 0],\n",
       "       [0, 0, 0, 0, 0, 0, 0],\n",
       "       [0, 0, 0, 0, 0, 0, 0],\n",
       "       [0, 0, 0, 0, 0, 0, 0]], dtype=object)"
      ]
     },
     "execution_count": 113,
     "metadata": {},
     "output_type": "execute_result"
    }
   ],
   "source": [
    "\"\"\"\n",
    "THIS WOULD BE BETTER AS A DICTIONARY\n",
    "\n",
    "Save the sums of the root vector combinations\n",
    "\n",
    "using the matrices stored as values in the rvecs dictionary\n",
    "\"\"\"\n",
    "l = 7\n",
    "num = len(sym_vec_combs)\n",
    "vsums = []\n",
    "\n",
    "for i in range(num):\n",
    "    dum = np.zeros(l, dtype = object)\n",
    "    for j in range(len(sym_vec_combs[i])):\n",
    "        new_vec = rvecs[tuple(sym_vec_combs[i][j])]\n",
    "        dum = dum + new_vec #np.matrix.sum(dum,new_vec)\n",
    "    vsums.append(dum)\n",
    "vsums[99]"
   ]
  },
  {
   "cell_type": "code",
   "execution_count": 96,
   "metadata": {},
   "outputs": [
    {
     "name": "stdout",
     "output_type": "stream",
     "text": [
      "(9, 9)\n",
      "(7, 7)\n"
     ]
    }
   ],
   "source": [
    "TT = np.array(T,dtype=object)\n",
    "print(TT.shape)\n",
    "print(Uprod[0].shape)"
   ]
  },
  {
   "cell_type": "code",
   "execution_count": 97,
   "metadata": {},
   "outputs": [
    {
     "data": {
      "text/plain": [
       "array([[1, 0, 0, 0, 0, 0, 0, 0, 0],\n",
       "       [0, q0, 0, 0, 0, 0, 0, 0, 0],\n",
       "       [0, 0, q1, 0, 0, 0, 0, 0, 0],\n",
       "       [0, 0, 0, q2, 0, 0, 0, 0, 0],\n",
       "       [0, 0, 0, 0, q3, 0, 0, 0, 0],\n",
       "       [0, 0, 0, 0, 0, 1/q0, 0, 0, 0],\n",
       "       [0, 0, 0, 0, 0, 0, 1/q1, 0, 0],\n",
       "       [0, 0, 0, 0, 0, 0, 0, 1/q2, 0],\n",
       "       [0, 0, 0, 0, 0, 0, 0, 0, 1/q3]], dtype=object)"
      ]
     },
     "execution_count": 97,
     "metadata": {},
     "output_type": "execute_result"
    }
   ],
   "source": [
    "TT"
   ]
  },
  {
   "cell_type": "code",
   "execution_count": 98,
   "metadata": {},
   "outputs": [],
   "source": [
    "T = matrix(make_T('B',3))\n",
    "IT = T.inverse()"
   ]
  },
  {
   "cell_type": "code",
   "execution_count": 105,
   "metadata": {},
   "outputs": [
    {
     "data": {
      "text/plain": [
       "[                      1                       0                       0                       0                       0                    t011                       0]\n",
       "[                      0                       1                       0                       0                       0                       0                       0]\n",
       "[                  -t011                       0                       1                   -t010                       0 -1/2*t011^2 - t010*t012                   -t012]\n",
       "[                      0                       0                       0                       1                       0                    t012                       0]\n",
       "[                      0                       0                       0                       0                       1                       0                       0]\n",
       "[                      0                       0                       0                       0                       0                       1                       0]\n",
       "[                      0                       0                       0                       0                       0                    t010                       1]"
      ]
     },
     "execution_count": 105,
     "metadata": {},
     "output_type": "execute_result"
    }
   ],
   "source": [
    "matrix(Uprod[0]).inverse()"
   ]
  },
  {
   "cell_type": "code",
   "execution_count": 114,
   "metadata": {},
   "outputs": [
    {
     "name": "stdout",
     "output_type": "stream",
     "text": [
      "0\n",
      "1\n",
      "2\n",
      "3\n",
      "4\n",
      "5\n",
      "6\n",
      "7\n",
      "8\n",
      "9\n",
      "10\n",
      "11\n",
      "12\n",
      "13\n",
      "14\n",
      "15\n",
      "16\n",
      "17\n",
      "18\n",
      "19\n",
      "20\n",
      "21\n",
      "22\n",
      "23\n",
      "24\n",
      "25\n",
      "26\n",
      "27\n",
      "28\n",
      "29\n",
      "30\n",
      "31\n",
      "32\n",
      "33\n",
      "34\n",
      "35\n",
      "36\n",
      "37\n",
      "38\n",
      "39\n",
      "40\n",
      "41\n",
      "42\n",
      "43\n",
      "44\n",
      "45\n",
      "46\n",
      "47\n",
      "48\n",
      "49\n",
      "50\n",
      "51\n",
      "52\n",
      "53\n",
      "54\n",
      "55\n",
      "56\n",
      "57\n",
      "58\n",
      "59\n",
      "60\n",
      "61\n",
      "62\n",
      "63\n",
      "64\n",
      "65\n",
      "66\n",
      "67\n",
      "68\n",
      "69\n",
      "70\n",
      "71\n",
      "72\n",
      "73\n",
      "74\n",
      "75\n",
      "76\n",
      "77\n",
      "78\n",
      "79\n",
      "80\n",
      "81\n",
      "82\n",
      "83\n",
      "84\n",
      "85\n",
      "86\n",
      "87\n",
      "88\n",
      "89\n",
      "90\n",
      "91\n",
      "92\n",
      "93\n",
      "94\n",
      "95\n",
      "96\n",
      "97\n",
      "98\n",
      "99\n",
      "100\n",
      "101\n",
      "102\n",
      "103\n",
      "104\n",
      "105\n",
      "106\n",
      "107\n",
      "108\n",
      "109\n",
      "110\n",
      "111\n",
      "112\n",
      "113\n",
      "114\n",
      "115\n",
      "116\n",
      "117\n",
      "118\n",
      "119\n",
      "120\n",
      "121\n",
      "122\n",
      "123\n",
      "124\n",
      "125\n",
      "126\n",
      "127\n",
      "128\n",
      "129\n",
      "130\n",
      "131\n",
      "132\n",
      "133\n",
      "134\n",
      "135\n",
      "136\n",
      "137\n",
      "138\n",
      "139\n",
      "140\n",
      "141\n",
      "142\n",
      "143\n",
      "144\n",
      "145\n",
      "146\n",
      "147\n",
      "148\n",
      "149\n",
      "150\n",
      "151\n",
      "152\n",
      "153\n",
      "154\n",
      "155\n",
      "156\n",
      "157\n",
      "158\n",
      "159\n",
      "160\n",
      "161\n",
      "162\n",
      "163\n",
      "164\n",
      "165\n",
      "166\n",
      "167\n",
      "168\n",
      "169\n",
      "170\n",
      "171\n",
      "172\n",
      "173\n",
      "174\n",
      "175\n",
      "176\n",
      "177\n",
      "178\n",
      "179\n",
      "180\n",
      "181\n",
      "182\n",
      "183\n",
      "184\n",
      "185\n",
      "186\n",
      "187\n",
      "188\n",
      "189\n",
      "190\n",
      "191\n",
      "192\n",
      "193\n",
      "194\n",
      "195\n",
      "196\n",
      "197\n",
      "198\n",
      "199\n",
      "200\n",
      "201\n",
      "202\n",
      "203\n",
      "204\n",
      "205\n",
      "206\n",
      "207\n",
      "208\n",
      "209\n",
      "210\n",
      "211\n",
      "212\n",
      "213\n",
      "214\n",
      "215\n",
      "216\n",
      "217\n",
      "218\n",
      "219\n",
      "220\n",
      "221\n",
      "222\n",
      "223\n",
      "224\n",
      "225\n",
      "226\n",
      "227\n",
      "228\n",
      "229\n",
      "230\n",
      "231\n",
      "232\n",
      "233\n",
      "234\n",
      "235\n",
      "236\n",
      "237\n",
      "238\n",
      "239\n",
      "240\n",
      "241\n",
      "242\n",
      "243\n",
      "244\n",
      "245\n",
      "246\n",
      "247\n",
      "248\n",
      "249\n",
      "250\n",
      "251\n",
      "252\n",
      "253\n",
      "254\n",
      "255\n",
      "256\n",
      "257\n",
      "258\n",
      "259\n",
      "260\n",
      "261\n",
      "262\n",
      "263\n",
      "264\n",
      "265\n",
      "266\n",
      "267\n",
      "268\n",
      "269\n",
      "270\n",
      "271\n",
      "272\n",
      "273\n",
      "274\n",
      "275\n",
      "276\n",
      "277\n",
      "278\n",
      "279\n",
      "280\n",
      "281\n",
      "282\n",
      "283\n",
      "284\n",
      "285\n",
      "286\n",
      "287\n",
      "288\n",
      "289\n",
      "290\n",
      "291\n",
      "292\n",
      "293\n",
      "294\n",
      "295\n",
      "296\n",
      "297\n",
      "298\n",
      "299\n",
      "300\n",
      "301\n",
      "302\n",
      "303\n",
      "304\n",
      "305\n",
      "306\n",
      "307\n",
      "308\n",
      "309\n",
      "310\n",
      "311\n",
      "312\n",
      "313\n",
      "314\n",
      "315\n",
      "316\n",
      "317\n",
      "318\n",
      "319\n",
      "320\n",
      "321\n",
      "322\n",
      "323\n",
      "324\n",
      "325\n",
      "326\n",
      "327\n",
      "328\n",
      "329\n",
      "330\n",
      "331\n",
      "332\n",
      "333\n",
      "334\n",
      "335\n",
      "336\n",
      "337\n",
      "338\n",
      "339\n",
      "340\n",
      "341\n",
      "342\n",
      "343\n",
      "344\n",
      "345\n",
      "346\n",
      "347\n",
      "348\n",
      "349\n",
      "350\n",
      "351\n",
      "352\n",
      "353\n",
      "354\n",
      "355\n",
      "356\n",
      "357\n",
      "358\n",
      "359\n",
      "360\n",
      "361\n",
      "362\n",
      "363\n",
      "364\n",
      "365\n",
      "366\n",
      "367\n",
      "368\n",
      "369\n",
      "370\n",
      "371\n",
      "372\n",
      "373\n",
      "374\n",
      "375\n",
      "376\n",
      "377\n",
      "378\n",
      "379\n",
      "380\n",
      "381\n",
      "382\n",
      "383\n",
      "384\n",
      "385\n",
      "386\n",
      "387\n",
      "388\n",
      "389\n",
      "390\n",
      "391\n",
      "392\n",
      "393\n",
      "394\n",
      "395\n",
      "396\n",
      "397\n",
      "398\n",
      "399\n",
      "400\n",
      "401\n",
      "402\n",
      "403\n",
      "404\n",
      "405\n",
      "406\n",
      "407\n",
      "408\n",
      "409\n",
      "410\n",
      "411\n",
      "412\n",
      "413\n",
      "414\n",
      "415\n",
      "416\n",
      "417\n",
      "418\n",
      "419\n",
      "420\n",
      "421\n",
      "422\n",
      "423\n",
      "424\n",
      "425\n",
      "426\n",
      "427\n",
      "428\n",
      "429\n",
      "430\n",
      "431\n",
      "432\n",
      "433\n",
      "434\n",
      "435\n",
      "436\n",
      "437\n",
      "438\n",
      "439\n",
      "440\n",
      "441\n",
      "442\n",
      "443\n",
      "444\n",
      "445\n",
      "446\n",
      "447\n",
      "448\n",
      "449\n",
      "450\n",
      "451\n",
      "452\n",
      "453\n",
      "454\n",
      "455\n",
      "456\n",
      "457\n",
      "458\n",
      "459\n",
      "460\n",
      "461\n",
      "462\n",
      "463\n",
      "464\n",
      "465\n",
      "466\n",
      "467\n",
      "468\n",
      "469\n",
      "470\n",
      "471\n",
      "472\n",
      "473\n",
      "474\n",
      "475\n",
      "476\n",
      "477\n",
      "478\n",
      "479\n",
      "480\n",
      "481\n",
      "482\n",
      "483\n",
      "484\n",
      "485\n",
      "486\n",
      "487\n",
      "488\n",
      "489\n",
      "490\n",
      "491\n",
      "492\n",
      "493\n",
      "494\n",
      "495\n",
      "496\n",
      "497\n",
      "498\n",
      "499\n",
      "500\n",
      "501\n",
      "502\n",
      "503\n",
      "504\n",
      "505\n",
      "506\n",
      "507\n",
      "508\n",
      "509\n",
      "510\n"
     ]
    }
   ],
   "source": [
    "\"\"\"\n",
    "Create a list of all possible B-orbits (potentially with repeats)\n",
    "\"\"\"\n",
    "B_list = []\n",
    "\n",
    "for i in range(len(vsums)):\n",
    "    B = T @ Uprod[i] @ vsums[i] @ matrix(Uprod[i]).inverse() @ IT\n",
    "    B = simplify(B)\n",
    "    B_list.append(B)\n",
    "    print(i)"
   ]
  },
  {
   "cell_type": "code",
   "execution_count": 115,
   "metadata": {},
   "outputs": [
    {
     "data": {
      "text/plain": [
       "array([[0, 0, 0, 0, q0*t011, 0, 0],\n",
       "       [-q0*t011, 0, q0/q1, -q0*t010/q2, 0,\n",
       "        -1/2*(t011^2 + 2*t010*t012)*q0*q1, -q0*q2*t012],\n",
       "       [0, 0, 0, 0, 1/2*(t011^2 + 2*t010*t012)*q0*q1, 0, 0],\n",
       "       [0, 0, 0, 0, q0*q2*t012, 0, 0],\n",
       "       [0, 0, 0, 0, 0, 0, 0],\n",
       "       [0, 0, 0, 0, -q0/q1, 0, 0],\n",
       "       [0, 0, 0, 0, q0*t010/q2, 0, 0]], dtype=object)"
      ]
     },
     "execution_count": 115,
     "metadata": {},
     "output_type": "execute_result"
    }
   ],
   "source": [
    "B_list[0]"
   ]
  },
  {
   "cell_type": "markdown",
   "metadata": {},
   "source": [
    "# Scratch"
   ]
  },
  {
   "cell_type": "code",
   "execution_count": 23,
   "metadata": {},
   "outputs": [
    {
     "ename": "ValueError",
     "evalue": "invalid number of arguments",
     "output_type": "error",
     "traceback": [
      "\u001b[0;31m---------------------------------------------------------------------------\u001b[0m",
      "\u001b[0;31mValueError\u001b[0m                                Traceback (most recent call last)",
      "\u001b[0;32m<ipython-input-23-fee7a3222b1e>\u001b[0m in \u001b[0;36m<module>\u001b[0;34m\u001b[0m\n\u001b[1;32m      3\u001b[0m \u001b[0;34m\u001b[0m\u001b[0m\n\u001b[1;32m      4\u001b[0m \u001b[0;32mfor\u001b[0m \u001b[0mi\u001b[0m \u001b[0;32min\u001b[0m \u001b[0mrange\u001b[0m\u001b[0;34m(\u001b[0m\u001b[0mnum\u001b[0m\u001b[0;34m)\u001b[0m\u001b[0;34m:\u001b[0m\u001b[0;34m\u001b[0m\u001b[0;34m\u001b[0m\u001b[0m\n\u001b[0;32m----> 5\u001b[0;31m     \u001b[0mUprod\u001b[0m\u001b[0;34m[\u001b[0m\u001b[0mnum\u001b[0m\u001b[0;34m]\u001b[0m \u001b[0;34m=\u001b[0m \u001b[0mnp\u001b[0m\u001b[0;34m.\u001b[0m\u001b[0mmatmul\u001b[0m\u001b[0;34m(\u001b[0m\u001b[0mxUlist_mat\u001b[0m\u001b[0;34m[\u001b[0m\u001b[0mi\u001b[0m\u001b[0;34m]\u001b[0m\u001b[0;34m)\u001b[0m\u001b[0;34m\u001b[0m\u001b[0;34m\u001b[0m\u001b[0m\n\u001b[0m",
      "\u001b[0;31mValueError\u001b[0m: invalid number of arguments"
     ]
    }
   ],
   "source": [
    "num = len(xUlist_mat)\n",
    "Uprod = np.empty(num)\n",
    "\n",
    "for i in range(num):\n",
    "    Uprod[num] = np.matmul(xUlist_mat[i])"
   ]
  },
  {
   "cell_type": "code",
   "execution_count": null,
   "metadata": {},
   "outputs": [],
   "source": [
    "\"\"\"\n",
    "Save the products of U_alpha as matrices (This is important) in a DICTIONARY (DO THIS) as values \n",
    "where the keys are the sums of root vectors as symbols\n",
    "\"\"\"\n",
    "# First save the products of U_alpha as matrices in the list Umatlist\n",
    "Uprod = []\n",
    "\n",
    "for i in range(len(xUlist)):\n",
    "    dum = 1\n",
    "    for j in range(len(xUlist[i])):\n",
    "        dum *= xUlist[i][j]\n",
    "    Uprod.append(dum)\n",
    "print(xUlist[1])\n",
    "Uprod[10]"
   ]
  },
  {
   "cell_type": "code",
   "execution_count": null,
   "metadata": {},
   "outputs": [],
   "source": [
    "print(type(sym_vec_combs[0]))"
   ]
  },
  {
   "cell_type": "code",
   "execution_count": null,
   "metadata": {},
   "outputs": [],
   "source": [
    "print(type(xUlist[0][0]))"
   ]
  },
  {
   "cell_type": "code",
   "execution_count": null,
   "metadata": {},
   "outputs": [],
   "source": [
    "import itertools"
   ]
  },
  {
   "cell_type": "code",
   "execution_count": null,
   "metadata": {},
   "outputs": [],
   "source": [
    "print(type(xUlist[0][0]))"
   ]
  },
  {
   "cell_type": "code",
   "execution_count": null,
   "metadata": {},
   "outputs": [],
   "source": [
    "np.array(U[tuple(xUlist_mat[0][0])"
   ]
  },
  {
   "cell_type": "code",
   "execution_count": null,
   "metadata": {},
   "outputs": [],
   "source": [
    "for i in range(len(Ulist)):\n",
    "    dum = 1\n",
    "    for j in range(len(Ulist[i])):\n",
    "        dum *= Ulist[i][j]\n",
    "    Uprod.append(dum)\n",
    "print(Ulist[1])\n",
    "Uprod[1]"
   ]
  }
 ],
 "metadata": {
  "kernelspec": {
   "display_name": "SageMath 9.3",
   "language": "sage",
   "name": "sagemath"
  },
  "language_info": {
   "codemirror_mode": {
    "name": "ipython",
    "version": 3
   },
   "file_extension": ".py",
   "mimetype": "text/x-python",
   "name": "python",
   "nbconvert_exporter": "python",
   "pygments_lexer": "ipython3",
   "version": "3.7.10"
  }
 },
 "nbformat": 4,
 "nbformat_minor": 4
}
