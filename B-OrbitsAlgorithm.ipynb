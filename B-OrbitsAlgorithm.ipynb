{
 "cells": [
  {
   "cell_type": "markdown",
   "metadata": {},
   "source": [
    "Done:\n",
    "1. Store root vectors in Phi+ in a list called roots. Store all linear combinations of root vectors with coefficients of 1 in a list called sym_vec_combs\n",
    "2. Calculate and store the Ualpha under which the possible root vector combinations are not stable.\n",
    "\n",
    "To do:\n",
    "1. Make matrices for the root vectors, torus, and unipotent root groups\n",
    "    1.i Change the data type of the root vectors from numpy arrays to matrices using np.asmatrix https://numpy.org/doc/stable/reference/generated/numpy.asmatrix.html\n",
    "    1.ii Write make_rvecs_B(l)\n",
    "    \n",
    "8. Find out if there is a way to tell which vectors lie in the same orbit based on their root vector combination, rather than by calculating the B-orbits by brute force.\n",
    "2. Calculate all possible B-Orbits\n",
    "3. For each B-orbit, pull the coefficients on each root vector. Test if each coefficient is zero, and add a list of all coefficients of 0 to a list that stores the root vectors in the zero set. Do the same for coefficients that have only entries from T and none from the Ualpha\n",
    "4. __Automate the discovery of algebraic relationships between the coordinates to give the polynomial defining equations in the zero set and the nonzero set, probably using an algorithm in elimination theory. \"The basic idea of the implicitization problem is to convert the parametrization into definining equations for V\" (Cox Little O'Shea pp. 133. N.t. they use V to refer to the polynomial zero set)__\n",
    "5. __Find a way to tell when an \"orbit\" is infinite. It's probably when there's an algebraic dependence relation among the coordinates that involves a coefficient on one of the root vectors (in addition to or instead of the variables standing for an arbitrary scalar entry in T or Ualpha). Find a rigorous way of stating and defending this. Modality is probably the useful concept here. Since the orbits are varieties, is it possible to calculate the modality of the individual \"orbits\" to see if they turn out to be families of orbits? Then an orbit family would have modality 1, and a singleton orbit would have modality zero.__\n",
    "6. __Automate the reverse inclusion calculations in Python. Is it possible that it actually isn't necessary to check the reverse inclusion? When would it happen that the B-orbit is in the intersection of the zero set and the nonzero set but not vice versa?__\n",
    "7. __Find a way to tell when we have calculated all the B-orbits. Automate proof of nilradical exhaustion. Is there a way we can tell how many infinite \"orbits\" and how many singleton \"orbits\" there are before we calculate them? If so, we could just keep count and do a proof of exhaustion of n when we've got enough.__\n",
    "9. Put in the option to display a B-orbit in equation form\n",
    "10. Implement class structure\n",
    "11. Add error handling\n",
    "12. https://oeis.org/A007976",
   ]
  },
  {
   "cell_type": "code",
   "execution_count": 3,
   "metadata": {},
   "outputs": [],
   "source": [
    "import numpy as np\n",
    "from itertools import combinations\n",
    "from collections import OrderedDict"
   ]
  },
  {
   "cell_type": "code",
   "execution_count": 116,
   "metadata": {},
   "outputs": [
    {
     "name": "stdout",
     "output_type": "stream",
     "text": [
      "[alpha[1], alpha[2], alpha[3], alpha[1] + alpha[2], alpha[2] + 2*alpha[3], alpha[2] + alpha[3], alpha[1] + alpha[2] + 2*alpha[3], alpha[1] + alpha[2] + alpha[3], alpha[1] + 2*alpha[2] + 2*alpha[3]]\n"
     ]
    },
    {
     "data": {
      "text/plain": [
       "[(1, 0, 0),\n",
       " (0, 1, 0),\n",
       " (0, 0, 1),\n",
       " (1, 1, 0),\n",
       " (0, 1, 2),\n",
       " (0, 1, 1),\n",
       " (1, 1, 2),\n",
       " (1, 1, 1),\n",
       " (1, 2, 2)]"
      ]
     },
     "execution_count": 116,
     "metadata": {},
     "output_type": "execute_result"
    }
   ],
   "source": [
    "# Take the type and rank of the Lie group\n",
    "L = RootSystem([\"B\",3]).root_space()\n",
    "roots=list(L.positive_roots())\n",
    "print(roots)\n",
    "#roots[0].to_vector()\n",
    "roots = [root.to_vector() for root in roots]\n",
    "roots"
   ]
  },
  {
   "cell_type": "code",
   "execution_count": 86,
   "metadata": {},
   "outputs": [
    {
     "name": "stdout",
     "output_type": "stream",
     "text": [
      "511\n"
     ]
    }
   ],
   "source": [
    "\"\"\"\n",
    "Create a list of all combinations we want to sum of root vectors as symbols, \n",
    "excluding the empty sum but including single root vectors\n",
    "\"\"\"\n",
    "x_list=roots\n",
    "sym_vec_combs = []\n",
    "for i in range(1, len(x_list) + 1):\n",
    "    sym_vec_combs += list(combinations(x_list,i))\n",
    "print(len(sym_vec_combs))"
   ]
  },
  {
   "cell_type": "code",
   "execution_count": 87,
   "metadata": {},
   "outputs": [
    {
     "name": "stdout",
     "output_type": "stream",
     "text": [
      "[[(0, 1, 0), (0, 1, 2), (0, 1, 1)], [(1, 0, 0), (0, 0, 1), (1, 1, 2)], [(0, 1, 0), (1, 1, 0), (0, 1, 1), (1, 1, 1)], [(0, 0, 1), (0, 1, 2)], [(1, 0, 0), (1, 1, 0)], [(1, 0, 0), (0, 0, 1), (1, 1, 1)], [(0, 1, 0)], [(0, 0, 1), (0, 1, 1)], []]\n"
     ]
    }
   ],
   "source": [
    "\"\"\"\n",
    "Fix a root x in Phi+, then loop through each root xi in Phi+ to check\n",
    "whether x+xi is in Phi+. If x+xi is in Phi+, then x is not stable \n",
    "under Ui and we place Ui in a list with the same indexing as roots.\n",
    "\n",
    "Index zero corresponds to alpha1, etc.\n",
    "\"\"\"\n",
    "Ualpha_list=[ [] for _ in range(len(roots)) ]\n",
    "N = range(len(roots))\n",
    "for f in N:\n",
    "    for t in N:\n",
    "        if roots[f]+roots[t] in roots:\n",
    "            Ualpha_list[f].append(roots[t])\n",
    "\n",
    "print(Ualpha_list)"
   ]
  },
  {
   "cell_type": "code",
   "execution_count": 88,
   "metadata": {},
   "outputs": [],
   "source": [
    "\"\"\"\n",
    "Create a list xUlist to store the Ualpha under which the possible \n",
    "root vector combinations (stored in sym_vec_combs) are not stable.\n",
    "Shares index with sym_vec_combs.\n",
    "\"\"\"\n",
    "xUlist = [ [] for _ in range(len(sym_vec_combs)) ]\n",
    "for k in range(len(sym_vec_combs)):\n",
    "    for i in range(len(Ualpha_list)):\n",
    "        if roots[i] in sym_vec_combs[k]:\n",
    "            xUlist[k].extend(Ualpha_list[i])"
   ]
  },
  {
   "cell_type": "code",
   "execution_count": 91,
   "metadata": {},
   "outputs": [
    {
     "data": {
      "text/plain": [
       "((1, 0, 0),)"
      ]
     },
     "execution_count": 91,
     "metadata": {},
     "output_type": "execute_result"
    }
   ],
   "source": [
    "sym_vec_combs[0]"
   ]
  },
  {
   "cell_type": "code",
   "execution_count": 92,
   "metadata": {},
   "outputs": [
    {
     "data": {
      "text/plain": [
       "[(0, 1, 0), (0, 1, 2), (0, 1, 1)]"
      ]
     },
     "execution_count": 92,
     "metadata": {},
     "output_type": "execute_result"
    }
   ],
   "source": [
    "xUlist[0]"
   ]
  },
  {
   "cell_type": "code",
   "execution_count": 8,
   "metadata": {},
   "outputs": [
    {
     "data": {
      "text/plain": [
       "'\\nFor i greater than or equal to one and less than or equal to l, append a matrix with a 1 in the ith row and jth column \\nand a -1 in the l+j row and the l+i column to a list called mat_list\\n'"
      ]
     },
     "execution_count": 8,
     "metadata": {},
     "output_type": "execute_result"
    }
   ],
   "source": [
    "\"\"\"\n",
    "Make matrices for the root vectors in type A\n",
    "\"\"\"\n",
    "# sl(l+1,C)\n",
    "l = 2\n",
    "\"\"\"\n",
    "For i greater than or equal to one and less than or equal to l, append a matrix with a 1 in the ith row and jth column \n",
    "and a -1 in the l+j row and the l+i column to a list called mat_list\n",
    "\"\"\"\n"
   ]
  },
  {
   "cell_type": "code",
   "execution_count": 146,
   "metadata": {},
   "outputs": [
    {
     "name": "stdout",
     "output_type": "stream",
     "text": [
      "9\n"
     ]
    }
   ],
   "source": [
    "\"\"\"\n",
    "Make matrices for the root vectors for the positive roots in type B (i.e., the root vectors in the nilradical).\n",
    "Store the root vector matrices in a dictionary called rvecs where the keys are the eigenvector names given on page 131\n",
    "of Erdmann and the values are the eigenvectors as numpy arrays\n",
    "\"\"\"\n",
    "def make_rvecs_Bv1(l):\n",
    "    rvecs = {}\n",
    "\n",
    "    M = np.zeros((2*l+1,2*l+1),dtype = int)\n",
    "    # Add root vectors b_i for roots of the form epsilon_i to rvecs\n",
    "    for i in np.arange(1,l+1,1):\n",
    "        # b_ij\n",
    "        M[i,0] = 1\n",
    "        M[0,l+i] = -1\n",
    "        hilo = \"b\" + str(i)\n",
    "        rvecs.setdefault(hilo,M)\n",
    "        M = np.zeros((2*l+1,2*l+1),dtype = int)\n",
    "        #print(i)\n",
    "        \n",
    "    for i in np.arange(1,l,1):\n",
    "        for j in np.arange(1,l+1,1):\n",
    "            # p_ij\n",
    "            if i<j:\n",
    "                M[i,l+j] = 1\n",
    "                M[j,l+i] = -1\n",
    "                hilo = \"p\" + str(i) + str(j)\n",
    "                rvecs.setdefault(hilo,M)\n",
    "                M = np.zeros((2*l+1,2*l+1),dtype = int)\n",
    "            # m_ij\n",
    "            if i != j and i<j:\n",
    "                M[i,j] = 1\n",
    "                M[l+j,l+i] = -1\n",
    "                hilo = \"m\" + str(i) + str(j)\n",
    "                rvecs.setdefault(hilo,M)\n",
    "                M = np.zeros((2*l+1,2*l+1),dtype = int)\n",
    "    #print(i,j)\n",
    "    return rvecs\n",
    "\n",
    "rvecs = make_rvecs_Bv1(3)\n",
    "print(len(rvecs))"
   ]
  },
  {
   "cell_type": "code",
   "execution_count": 164,
   "metadata": {},
   "outputs": [
    {
     "name": "stdout",
     "output_type": "stream",
     "text": [
      "{'b1': [(1, 1, 1), array([[ 0,  0,  0,  0, -1,  0,  0],\n",
      "       [ 1,  0,  0,  0,  0,  0,  0],\n",
      "       [ 0,  0,  0,  0,  0,  0,  0],\n",
      "       [ 0,  0,  0,  0,  0,  0,  0],\n",
      "       [ 0,  0,  0,  0,  0,  0,  0],\n",
      "       [ 0,  0,  0,  0,  0,  0,  0],\n",
      "       [ 0,  0,  0,  0,  0,  0,  0]])], 'b2': [(0, 1, 1), array([[ 0,  0,  0,  0,  0, -1,  0],\n",
      "       [ 0,  0,  0,  0,  0,  0,  0],\n",
      "       [ 1,  0,  0,  0,  0,  0,  0],\n",
      "       [ 0,  0,  0,  0,  0,  0,  0],\n",
      "       [ 0,  0,  0,  0,  0,  0,  0],\n",
      "       [ 0,  0,  0,  0,  0,  0,  0],\n",
      "       [ 0,  0,  0,  0,  0,  0,  0]])], 'b3': [(0, 0, 1), array([[ 0,  0,  0,  0,  0,  0, -1],\n",
      "       [ 0,  0,  0,  0,  0,  0,  0],\n",
      "       [ 0,  0,  0,  0,  0,  0,  0],\n",
      "       [ 1,  0,  0,  0,  0,  0,  0],\n",
      "       [ 0,  0,  0,  0,  0,  0,  0],\n",
      "       [ 0,  0,  0,  0,  0,  0,  0],\n",
      "       [ 0,  0,  0,  0,  0,  0,  0]])], 'p12': [(1, 2, 2), array([[ 0,  0,  0,  0,  0,  0,  0],\n",
      "       [ 0,  0,  0,  0,  0,  1,  0],\n",
      "       [ 0,  0,  0,  0, -1,  0,  0],\n",
      "       [ 0,  0,  0,  0,  0,  0,  0],\n",
      "       [ 0,  0,  0,  0,  0,  0,  0],\n",
      "       [ 0,  0,  0,  0,  0,  0,  0],\n",
      "       [ 0,  0,  0,  0,  0,  0,  0]])], 'm12': [(1, 0, 0), array([[ 0,  0,  0,  0,  0,  0,  0],\n",
      "       [ 0,  0,  1,  0,  0,  0,  0],\n",
      "       [ 0,  0,  0,  0,  0,  0,  0],\n",
      "       [ 0,  0,  0,  0,  0,  0,  0],\n",
      "       [ 0,  0,  0,  0,  0,  0,  0],\n",
      "       [ 0,  0,  0,  0, -1,  0,  0],\n",
      "       [ 0,  0,  0,  0,  0,  0,  0]])], 'p13': [(1, 1, 2), array([[ 0,  0,  0,  0,  0,  0,  0],\n",
      "       [ 0,  0,  0,  0,  0,  0,  1],\n",
      "       [ 0,  0,  0,  0,  0,  0,  0],\n",
      "       [ 0,  0,  0,  0, -1,  0,  0],\n",
      "       [ 0,  0,  0,  0,  0,  0,  0],\n",
      "       [ 0,  0,  0,  0,  0,  0,  0],\n",
      "       [ 0,  0,  0,  0,  0,  0,  0]])], 'm13': [(1, 1, 0), array([[ 0,  0,  0,  0,  0,  0,  0],\n",
      "       [ 0,  0,  0,  1,  0,  0,  0],\n",
      "       [ 0,  0,  0,  0,  0,  0,  0],\n",
      "       [ 0,  0,  0,  0,  0,  0,  0],\n",
      "       [ 0,  0,  0,  0,  0,  0,  0],\n",
      "       [ 0,  0,  0,  0,  0,  0,  0],\n",
      "       [ 0,  0,  0,  0, -1,  0,  0]])], 'p23': [(0, 1, 2), array([[ 0,  0,  0,  0,  0,  0,  0],\n",
      "       [ 0,  0,  0,  0,  0,  0,  0],\n",
      "       [ 0,  0,  0,  0,  0,  0,  1],\n",
      "       [ 0,  0,  0,  0,  0, -1,  0],\n",
      "       [ 0,  0,  0,  0,  0,  0,  0],\n",
      "       [ 0,  0,  0,  0,  0,  0,  0],\n",
      "       [ 0,  0,  0,  0,  0,  0,  0]])], 'm23': [(0, 1, 0), array([[ 0,  0,  0,  0,  0,  0,  0],\n",
      "       [ 0,  0,  0,  0,  0,  0,  0],\n",
      "       [ 0,  0,  0,  1,  0,  0,  0],\n",
      "       [ 0,  0,  0,  0,  0,  0,  0],\n",
      "       [ 0,  0,  0,  0,  0,  0,  0],\n",
      "       [ 0,  0,  0,  0,  0,  0,  0],\n",
      "       [ 0,  0,  0,  0,  0, -1,  0]])]}\n"
     ]
    }
   ],
   "source": [
    "\"\"\"\n",
    "Make matrices for the root vectors for the positive roots in type B (i.e., the root vectors in the nilradical).\n",
    "Store the root vector matrices in a dictionary called rvecs where the keys are the eigenvector names given on page 131\n",
    "of Erdmann and the values are the eigenvectors as numpy arrays\n",
    "\"\"\"\n",
    "def make_rvecs_B(l):\n",
    "    rvecs = {}\n",
    "\n",
    "    M = np.zeros((2*l+1,2*l+1),dtype = int)\n",
    "    # Add root vectors b_i for roots of the form epsilon_i to rvecs\n",
    "    for i in np.arange(1,l+1,1):\n",
    "        # b_ij\n",
    "        M[i,0] = 1\n",
    "        M[0,l+i] = -1\n",
    "        hilo = \"b\" + str(i)\n",
    "        coef = np.zeros(l, dtype = int) # Array of length the number of roots in the base\n",
    "        coef[i-1:l] = 1\n",
    "        coef = tuple(coef)\n",
    "        #print(i,coef)\n",
    "        # Assign the list consisting of the root vector M and the root coef to the key hilo in the dictionary rvecs\n",
    "        rvecs.setdefault(hilo,[coef,M])\n",
    "        M = np.zeros((2*l+1,2*l+1),dtype = int)\n",
    "        #print(i)\n",
    "        \n",
    "    for i in np.arange(1,l,1):\n",
    "        for j in np.arange(1,l+1,1):\n",
    "            # p_ij\n",
    "            if i<j:\n",
    "                M[i,l+j] = 1\n",
    "                M[j,l+i] = -1\n",
    "                hilo = \"p\" + str(i) + str(j)\n",
    "                coef = np.zeros(l, dtype = int) # Array of length the number of roots in the base\n",
    "                coef[i-1:j] = 1\n",
    "                coef[j-1:l] = 2\n",
    "                coef = tuple(coef)\n",
    "                #print(i,j,coef)\n",
    "                rvecs.setdefault(hilo,[coef,M])\n",
    "                M = np.zeros((2*l+1,2*l+1),dtype = int)\n",
    "            # m_ij\n",
    "            if i != j and i<j:\n",
    "                M[i,j] = 1\n",
    "                M[l+j,l+i] = -1\n",
    "                hilo = \"m\" + str(i) + str(j)\n",
    "                coef = np.zeros(l, dtype = int) # Array of length the number of roots in the base\n",
    "                coef[i-1:j-1] = 1 \n",
    "                coef = tuple(coef)\n",
    "                rvecs.setdefault(hilo,[coef,M])\n",
    "                M = np.zeros((2*l+1,2*l+1), dtype = int)\n",
    "    #print(i,j)\n",
    "    return rvecs\n",
    "\n",
    "rvecs = make_rvecs_B(3)\n",
    "print(rvecs)"
   ]
  },
  {
   "cell_type": "code",
   "execution_count": 10,
   "metadata": {},
   "outputs": [
    {
     "name": "stdout",
     "output_type": "stream",
     "text": [
      "4\n"
     ]
    }
   ],
   "source": [
    "\"\"\"\n",
    "Make matrices for the root vectors for the positive roots in type C.\n",
    "Store the root vector matrices in a dictionary called rvecs where the keys are the eigenvector names given on page 131\n",
    "of Erdmann and the values are the eigenvectors as numpy arrays\n",
    "\"\"\"\n",
    "def make_rvecs_C(l):\n",
    "    rvecs = {}\n",
    "\n",
    "    M = np.zeros((2*l+1,2*l+1))\n",
    "    # pii\n",
    "    for i in np.arange(1,l+1,1):\n",
    "        M[i,l+i]=1\n",
    "        hilo = \"p\" + str(i) + str(i)\n",
    "        rvecs.setdefault(hilo,M)\n",
    "        M = np.zeros((2*l+1,2*l+1))\n",
    "    \n",
    "    for i in np.arange(1,l,1):\n",
    "        for j in np.arange(1,l+1,1):\n",
    "            # m_ij\n",
    "            if i != j and i<j:\n",
    "                M[i,j] = 1\n",
    "                M[l+j,l+i] = -1\n",
    "                hilo = \"m\" + str(i) + str(j)\n",
    "                rvecs.setdefault(hilo,M)\n",
    "                M = np.zeros((2*l+1,2*l+1))\n",
    "            # p_ij\n",
    "            if i<j:\n",
    "                M[i,l+j] = 1\n",
    "                M[j,l+i] = 1\n",
    "                hilo = \"p\" + str(i) + str(j)\n",
    "                rvecs.setdefault(hilo,M)\n",
    "                M = np.zeros((2*l+1,2*l+1))\n",
    "    #print(i,j)\n",
    "    return rvecs\n",
    "\n",
    "rvecs = make_rvecs_C(2)\n",
    "print(len(rvecs))"
   ]
  },
  {
   "cell_type": "code",
   "execution_count": null,
   "metadata": {},
   "outputs": [],
   "source": [
    "\"\"\"\n",
    "Make matrices for the root vectors for the positive roots in type D with l\\geq 2, so that L is semisimple.\n",
    "Store the root vector matrices in a dictionary called rvecs where the keys are the eigenvector names given on page 133\n",
    "of Erdmann and the values are the eigenvectors as numpy arrays\n",
    "\"\"\"\n",
    "def make_rvecs_D(l):\n",
    "    rvecs = {}\n",
    "\n",
    "    M = np.zeros((2*l+1,2*l+1))\n",
    "    for i in np.arange(1,l,1):\n",
    "        for j in np.arange(1,l+1,1):\n",
    "            # m_ij\n",
    "            if i != j and i<j:\n",
    "                M[i,j] = 1\n",
    "                M[l+j,l+i] = -1\n",
    "                hilo = \"m\" + str(i) + str(j)\n",
    "                rvecs.setdefault(hilo,M)\n",
    "                M = np.zeros((2*l+1,2*l+1))\n",
    "            # p_ij\n",
    "            if i<j:\n",
    "                M[i,l+j] = 1\n",
    "                M[j,l+i] = -1\n",
    "                hilo = \"p\" + str(i) + str(j)\n",
    "                rvecs.setdefault(hilo,M)\n",
    "                M = np.zeros((2*l+1,2*l+1))\n",
    "    #print(i,j)\n",
    "    return rvecs\n",
    "\n",
    "rvecs = make_rvecs_D(3)\n",
    "#print(rvecs)"
   ]
  },
  {
   "cell_type": "code",
   "execution_count": 12,
   "metadata": {},
   "outputs": [],
   "source": [
    "\"\"\"\n",
    "Make a matrix for the torus in type B\n",
    "\"\"\"\n",
    "# Make a matrix for the torus given group type and rank\n",
    "# Input for Gtype may be A,B,C,D\n",
    "# None of these are accurate except the one for type B\n",
    "def make_T(Gtype,l):\n",
    "    if Gtype == 'A':\n",
    "        n = l + 1\n",
    "        #syms=np.array([var(\"q\"+str(i)) for i in range(n)])\n",
    "        #T = np.diag(syms)\n",
    "    elif Gtype == 'B':\n",
    "        n = 2*l+1 \n",
    "        syms = np.array([var(\"q\"+str(i)) for i in range(l)])\n",
    "        symsinv = np.array([var(\"q\"+str(i))^(-1) for i in range(l)])\n",
    "        syms = np.insert(syms,0,1)\n",
    "        syms = np.insert(syms,l+1,symsinv)\n",
    "        #print(syms)\n",
    "        T = np.diag(syms)\n",
    "    elif Gtype == 'C':\n",
    "        n = 2*l\n",
    "        #syms=np.array([var(\"q\"+str(i)) for i in range(n)])\n",
    "        #T = np.diag(syms)\n",
    "    elif Gtype == 'D':\n",
    "        n = 2*l\n",
    "        #syms=np.array([var(\"q\"+str(i)) for i in range(n)])\n",
    "        #T = np.diag(syms)\n",
    "    return T"
   ]
  },
  {
   "cell_type": "code",
   "execution_count": 13,
   "metadata": {},
   "outputs": [
    {
     "data": {
      "text/plain": [
       "array([[1, 0, 0, 0, 0, 0, 0, 0, 0],\n",
       "       [0, q0, 0, 0, 0, 0, 0, 0, 0],\n",
       "       [0, 0, q1, 0, 0, 0, 0, 0, 0],\n",
       "       [0, 0, 0, q2, 0, 0, 0, 0, 0],\n",
       "       [0, 0, 0, 0, q3, 0, 0, 0, 0],\n",
       "       [0, 0, 0, 0, 0, 1/q0, 0, 0, 0],\n",
       "       [0, 0, 0, 0, 0, 0, 1/q1, 0, 0],\n",
       "       [0, 0, 0, 0, 0, 0, 0, 1/q2, 0],\n",
       "       [0, 0, 0, 0, 0, 0, 0, 0, 1/q3]], dtype=object)"
      ]
     },
     "execution_count": 13,
     "metadata": {},
     "output_type": "execute_result"
    }
   ],
   "source": [
    "make_T('B',4)"
   ]
  },
  {
   "cell_type": "code",
   "execution_count": 64,
   "metadata": {
    "scrolled": true
   },
   "outputs": [
    {
     "data": {
      "text/plain": [
       "{'b1': [         1          0          0          0       -tb1          0          0]\n",
       " [       tb1          1          0          0 -1/2*tb1^2          0          0]\n",
       " [         0          0          1          0          0          0          0]\n",
       " [         0          0          0          1          0          0          0]\n",
       " [         0          0          0          0          1          0          0]\n",
       " [         0          0          0          0          0          1          0]\n",
       " [         0          0          0          0          0          0          1],\n",
       " 'b2': [         1          0          0          0          0       -tb2          0]\n",
       " [         0          1          0          0          0          0          0]\n",
       " [       tb2          0          1          0          0 -1/2*tb2^2          0]\n",
       " [         0          0          0          1          0          0          0]\n",
       " [         0          0          0          0          1          0          0]\n",
       " [         0          0          0          0          0          1          0]\n",
       " [         0          0          0          0          0          0          1],\n",
       " 'b3': [         1          0          0          0          0          0       -tb3]\n",
       " [         0          1          0          0          0          0          0]\n",
       " [         0          0          1          0          0          0          0]\n",
       " [       tb3          0          0          1          0          0 -1/2*tb3^2]\n",
       " [         0          0          0          0          1          0          0]\n",
       " [         0          0          0          0          0          1          0]\n",
       " [         0          0          0          0          0          0          1],\n",
       " 'p12': [    1     0     0     0     0     0     0]\n",
       " [    0     1     0     0     0  tp12     0]\n",
       " [    0     0     1     0 -tp12     0     0]\n",
       " [    0     0     0     1     0     0     0]\n",
       " [    0     0     0     0     1     0     0]\n",
       " [    0     0     0     0     0     1     0]\n",
       " [    0     0     0     0     0     0     1],\n",
       " 'm12': [    1     0     0     0     0     0     0]\n",
       " [    0     1  tm12     0     0     0     0]\n",
       " [    0     0     1     0     0     0     0]\n",
       " [    0     0     0     1     0     0     0]\n",
       " [    0     0     0     0     1     0     0]\n",
       " [    0     0     0     0 -tm12     1     0]\n",
       " [    0     0     0     0     0     0     1],\n",
       " 'p13': [    1     0     0     0     0     0     0]\n",
       " [    0     1     0     0     0     0  tp13]\n",
       " [    0     0     1     0     0     0     0]\n",
       " [    0     0     0     1 -tp13     0     0]\n",
       " [    0     0     0     0     1     0     0]\n",
       " [    0     0     0     0     0     1     0]\n",
       " [    0     0     0     0     0     0     1],\n",
       " 'm13': [    1     0     0     0     0     0     0]\n",
       " [    0     1     0  tm13     0     0     0]\n",
       " [    0     0     1     0     0     0     0]\n",
       " [    0     0     0     1     0     0     0]\n",
       " [    0     0     0     0     1     0     0]\n",
       " [    0     0     0     0     0     1     0]\n",
       " [    0     0     0     0 -tm13     0     1],\n",
       " 'p23': [    1     0     0     0     0     0     0]\n",
       " [    0     1     0     0     0     0     0]\n",
       " [    0     0     1     0     0     0  tp23]\n",
       " [    0     0     0     1     0 -tp23     0]\n",
       " [    0     0     0     0     1     0     0]\n",
       " [    0     0     0     0     0     1     0]\n",
       " [    0     0     0     0     0     0     1],\n",
       " 'm23': [    1     0     0     0     0     0     0]\n",
       " [    0     1     0     0     0     0     0]\n",
       " [    0     0     1  tm23     0     0     0]\n",
       " [    0     0     0     1     0     0     0]\n",
       " [    0     0     0     0     1     0     0]\n",
       " [    0     0     0     0     0     1     0]\n",
       " [    0     0     0     0     0 -tm23     1]}"
      ]
     },
     "execution_count": 64,
     "metadata": {},
     "output_type": "execute_result"
    }
   ],
   "source": [
    "\"\"\"\n",
    "Make matrices for each unipotent root group of the positive roots for \n",
    "type B\n",
    "\"\"\"\n",
    "def make_Ua(l):\n",
    "    Ua = {}\n",
    "    for key, value in rvecs.items():\n",
    "        # Make the numpy array a Sage matrix so that it can be properly \n",
    "        # exponentiated (equiv. of MatrixExp), then take the matrix exponential\n",
    "        name = \"t\" + str(key)\n",
    "        name = var(name)\n",
    "        U = matrix(value*name)\n",
    "        U = e^U\n",
    "        Ua.setdefault(key,U)\n",
    "    return Ua\n",
    "make_Ua(2)"
   ]
  },
  {
   "cell_type": "code",
   "execution_count": 80,
   "metadata": {},
   "outputs": [
    {
     "name": "stdout",
     "output_type": "stream",
     "text": [
      "511\n"
     ]
    }
   ],
   "source": [
    "\"\"\"\n",
    "Create a list storing all combinations we want to sum of root vectors as symbols, \n",
    "excluding the empty sum but including single root vectors\n",
    "\"\"\"\n",
    "\n",
    "roots = rvecs.keys()\n",
    "m = len(roots)\n",
    "\n",
    "sym_vec_combs = []\n",
    "for i in range(0, m):\n",
    "    sym_vec_combs += list(combinations(roots,i))\n",
    "print(len(sym_vec_combs))"
   ]
  },
  {
   "cell_type": "code",
   "execution_count": null,
   "metadata": {},
   "outputs": [],
   "source": []
  },
  {
   "cell_type": "markdown",
   "metadata": {},
   "source": [
    "        # If an entry involves some expression of t, change it to \n",
    "        # another variable. This doesn't work and we also probably\n",
    "        # don't want it\n",
    "        for i in range(2*l+1):\n",
    "            for j in range(2*l+1):\n",
    "                if U[i,j] != 0 and U[i,j] != 1:\n",
    "                    U[i,j] = name\n",
    "                    Ua[key] = U"
   ]
  },
  {
   "cell_type": "code",
   "execution_count": null,
   "metadata": {},
   "outputs": [],
   "source": []
  }
 ],
 "metadata": {
  "kernelspec": {
   "display_name": "SageMath 9.3",
   "language": "sage",
   "name": "sagemath"
  },
  "language_info": {
   "codemirror_mode": {
    "name": "ipython",
    "version": 3
   },
   "file_extension": ".py",
   "mimetype": "text/x-python",
   "name": "python",
   "nbconvert_exporter": "python",
   "pygments_lexer": "ipython3",
   "version": "3.7.10"
  }
 },
 "nbformat": 4,
 "nbformat_minor": 4
}
