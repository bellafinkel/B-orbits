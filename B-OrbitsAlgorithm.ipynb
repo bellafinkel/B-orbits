{
 "cells": [
  {
   "cell_type": "markdown",
   "metadata": {},
   "source": [
    "Done:\n",
    "1. Store root vectors in Phi+ in a list called roots. Store all linear combinations of root vectors with coefficients of 1 in a list called sym_vec_combs\n",
    "2. Calculate and store the Ualpha under which the possible root vector combinations are not stable.\n",
    "\n",
    "To do:\n",
    "1. Make matrices for the root vectors, torus, and unipotent root groups\n",
    "8. Find out if there is a way to tell which orbits lie in a family with one another based on their root vector combination, rather than by calculating the B-orbits by brute force.\n",
    "2. Calculate all possible B-Orbits\n",
    "3. For each B-orbit, pull the coefficients on each root vector. Test if each coefficient is zero, and add a list of all coefficients of 0 to a list that stores the root vectors in the zero set. Do the same for coefficients that have only entries from T and none from the Ualpha\n",
    "4. __Automate the discovery of algebraic relationships between the coordinates to give the polynomial defining equations in the zero set and the nonzero set, probably using an algorithm in elimination theory. \"The basic idea of the implicitization problem is to convert the parametrization into definining equations for V\" (Cox Little O'Shea pp. 133. N.t. they use V to refer to the polynomial zero set)__\n",
    "5. __Find a way to tell when an \"orbit\" is infinite. It's probably when there's an algebraic dependence relation among the coordinates that involves a coefficient on one of the root vectors (in addition to or instead of the variables standing for an arbitrary scalar entry in T or Ualpha). Find a rigorous way of stating and defending this. Modality is probably the useful concept here. Since the orbits are varieties, is it possible to calculate the modality of the individual \"orbits\" to see if they turn out to be families of orbits? Then an orbit family would have modality 1, and a singleton orbit would have modality zero.__\n",
    "6. __Automate the reverse inclusion calculations in Python. Is it possible that it actually isn't necessary to check the reverse inclusion? When would it happen that the B-orbit is in the intersection of the zero set and the nonzero set but not vice versa?__\n",
    "7. __Find a way to tell when we have calculated all the B-orbits. Automate proof of nilradical exhaustion. Is there a way we can tell how many infinite \"orbits\" and how many singleton \"orbits\" there are before we calculate them? If so, we could just keep count and do a proof of exhaustion of n when we've got enough.__\n",
    "9. Put in the option to display a B-orbit in equation form"
   ]
  },
  {
   "cell_type": "code",
   "execution_count": 2,
   "metadata": {},
   "outputs": [],
   "source": [
    "import numpy as np\n",
    "from itertools import combinations\n",
    "from collections import OrderedDict"
   ]
  },
  {
   "cell_type": "code",
   "execution_count": 58,
   "metadata": {},
   "outputs": [
    {
     "name": "stdout",
     "output_type": "stream",
     "text": [
      "[alpha[1], alpha[2], alpha[3], alpha[1] + alpha[2], alpha[2] + 2*alpha[3], alpha[2] + alpha[3], alpha[1] + alpha[2] + 2*alpha[3], alpha[1] + alpha[2] + alpha[3], alpha[1] + 2*alpha[2] + 2*alpha[3]]\n"
     ]
    },
    {
     "data": {
      "text/plain": [
       "[(1, 0, 0),\n",
       " (0, 1, 0),\n",
       " (0, 0, 1),\n",
       " (1, 1, 0),\n",
       " (0, 1, 2),\n",
       " (0, 1, 1),\n",
       " (1, 1, 2),\n",
       " (1, 1, 1),\n",
       " (1, 2, 2)]"
      ]
     },
     "execution_count": 58,
     "metadata": {},
     "output_type": "execute_result"
    }
   ],
   "source": [
    "# Take the type and rank of the Lie group\n",
    "L = RootSystem([\"B\",3]).root_space()\n",
    "roots=list(L.positive_roots())\n",
    "print(roots)\n",
    "#roots[0].to_vector()\n",
    "roots = [root.to_vector() for root in roots]\n",
    "roots"
   ]
  },
  {
   "cell_type": "code",
   "execution_count": 59,
   "metadata": {},
   "outputs": [
    {
     "name": "stdout",
     "output_type": "stream",
     "text": [
      "511\n"
     ]
    }
   ],
   "source": [
    "\"\"\"\n",
    "Create a list of all combinations we want to sum of root vectors as symbols, \n",
    "excluding the empty sum but including single root vectors\n",
    "\"\"\"\n",
    "x_list=roots\n",
    "sym_vec_combs = []\n",
    "for i in range(1, len(x_list) + 1):\n",
    "    sym_vec_combs += list(combinations(x_list,i))\n",
    "print(len(sym_vec_combs))"
   ]
  },
  {
   "cell_type": "code",
   "execution_count": 63,
   "metadata": {},
   "outputs": [
    {
     "name": "stdout",
     "output_type": "stream",
     "text": [
      "[[(0, 1, 0), (0, 1, 2), (0, 1, 1)], [(1, 0, 0), (0, 0, 1), (1, 1, 2)], [(0, 1, 0), (1, 1, 0), (0, 1, 1), (1, 1, 1)], [(0, 0, 1), (0, 1, 2)], [(1, 0, 0), (1, 1, 0)], [(1, 0, 0), (0, 0, 1), (1, 1, 1)], [(0, 1, 0)], [(0, 0, 1), (0, 1, 1)], []]\n"
     ]
    }
   ],
   "source": [
    "\"\"\"\n",
    "Fix a root x in Phi+, then loop through each root xi in Phi+ to check\n",
    "whether x+xi is in Phi+. If x+xi is in Phi+, then x is not stable \n",
    "under Ui and we place Ui in a list with the same indexing as roots.\n",
    "\n",
    "Index zero corresponds to alpha1, etc.\n",
    "\"\"\"\n",
    "Ualpha_list=[ [] for _ in range(len(roots)) ]\n",
    "N = range(len(roots))\n",
    "for f in N:\n",
    "    for t in N:\n",
    "        if roots[f]+roots[t] in roots:\n",
    "            Ualpha_list[f].append(roots[t])\n",
    "\n",
    "print(Ualpha_list)"
   ]
  },
  {
   "cell_type": "code",
   "execution_count": 66,
   "metadata": {},
   "outputs": [],
   "source": [
    "\"\"\"\n",
    "Create a list xUlist to store the Ualpha under which the possible \n",
    "root vector combinations (stored in sym_vec_combs) are not stable.\n",
    "Shares index with sym_vec_combs.\n",
    "\"\"\"\n",
    "xUlist = [ [] for _ in range(len(sym_vec_combs)) ]\n",
    "for k in range(len(sym_vec_combs)):\n",
    "    for i in range(len(Ualpha_list)):\n",
    "        if roots[i] in sym_vec_combs[k]:\n",
    "            xUlist[k].extend(Ualpha_list[i])"
   ]
  },
  {
   "cell_type": "code",
   "execution_count": null,
   "metadata": {},
   "outputs": [],
   "source": [
    "\"\"\"\n",
    "Make matrices for the root vectors in type A\n",
    "\"\"\"\n",
    "# sl(l+1,C)\n"
   ]
  },
  {
   "cell_type": "code",
   "execution_count": 1,
   "metadata": {},
   "outputs": [],
   "source": [
    "\"\"\"\n",
    "Make matrices for the root vectors in type B\n",
    "\"\"\"\n",
    "# SO(2l+1)\n",
    "n = 7\n",
    "\n"
   ]
  },
  {
   "cell_type": "markdown",
   "metadata": {},
   "source": [
    "Systems of Type $C_l$ ($l\\geq2$)\n",
    "\n",
    "Basis: $\\alpha_1=\\varepsilon_1-\\varepsilon_2,\\alpha_2=\\varepsilon_2-\\varepsilon_3,\\dots,\\alpha_{l-1}=\\varepsilon_{l-1}-\\varepsilon_l,\\alpha_l=2\\varepsilon_l$"
   ]
  },
  {
   "cell_type": "code",
   "execution_count": null,
   "metadata": {},
   "outputs": [],
   "source": [
    "\"\"\"\n",
    "Make matrices for the root vectors in type C\n",
    "\"\"\"\n"
   ]
  }
 ],
 "metadata": {
  "kernelspec": {
   "display_name": "SageMath 9.3",
   "language": "sage",
   "name": "sagemath"
  },
  "language_info": {
   "codemirror_mode": {
    "name": "ipython",
    "version": 3
   },
   "file_extension": ".py",
   "mimetype": "text/x-python",
   "name": "python",
   "nbconvert_exporter": "python",
   "pygments_lexer": "ipython3",
   "version": "3.7.10"
  }
 },
 "nbformat": 4,
 "nbformat_minor": 4
}
